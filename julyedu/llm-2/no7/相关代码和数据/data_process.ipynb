{
 "cells": [
  {
   "cell_type": "code",
   "execution_count": 12,
   "id": "b92bbc9c-a434-4be6-8f69-31427d0ebc49",
   "metadata": {},
   "outputs": [],
   "source": [
    "import json\n",
    "data_path = 'train.json'\n",
    "\n",
    "data_dic = {\"input\":\"\"}\n",
    "data_list = []\n",
    "\n",
    "with open(data_path,'r') as f:\n",
    "    data_lines = f.readlines()\n",
    "    for data in data_lines:\n",
    "        d = json.loads(data)\n",
    "        data_dic[\"instruction\"] = d[\"content\"]\n",
    "        data_dic[\"output\"] = d[\"summary\"]\n",
    "        data_list.append(data_dic.copy())\n",
    "with open('adv_train.json','w') as f:\n",
    "    json.dump(data_list, f, indent = 4, ensure_ascii=False)"
   ]
  },
  {
   "cell_type": "code",
   "execution_count": 13,
   "id": "59912039-e494-43ae-a77d-d606adc28f7a",
   "metadata": {},
   "outputs": [
    {
     "data": {
      "text/plain": [
       "114599"
      ]
     },
     "execution_count": 13,
     "metadata": {},
     "output_type": "execute_result"
    }
   ],
   "source": [
    "len(data_list)"
   ]
  },
  {
   "cell_type": "code",
   "execution_count": 14,
   "id": "98e8e53b-3186-4611-adbd-b61c8c6da584",
   "metadata": {},
   "outputs": [],
   "source": [
    "import json\n",
    "data_path = 'dev.json'\n",
    "\n",
    "data_dic = {\"input\":\"\"}\n",
    "data_list = []\n",
    "\n",
    "with open(data_path,'r') as f:\n",
    "    data_lines = f.readlines()\n",
    "    for data in data_lines:\n",
    "        d = json.loads(data)\n",
    "        data_dic[\"instruction\"] = d[\"content\"]\n",
    "        data_dic[\"output\"] = d[\"summary\"]\n",
    "        data_list.append(data_dic.copy())\n",
    "with open('adv_dev.json','w') as f:\n",
    "    json.dump(data_list, f, indent = 4, ensure_ascii=False)"
   ]
  },
  {
   "cell_type": "code",
   "execution_count": 15,
   "id": "b5a26599-6f3b-4e0d-b347-36d27dfe259b",
   "metadata": {},
   "outputs": [
    {
     "data": {
      "text/plain": [
       "1070"
      ]
     },
     "execution_count": 15,
     "metadata": {},
     "output_type": "execute_result"
    }
   ],
   "source": [
    "len(data_list)"
   ]
  }
 ],
 "metadata": {
  "kernelspec": {
   "display_name": "Python 3 (ipykernel)",
   "language": "python",
   "name": "python3"
  },
  "language_info": {
   "codemirror_mode": {
    "name": "ipython",
    "version": 3
   },
   "file_extension": ".py",
   "mimetype": "text/x-python",
   "name": "python",
   "nbconvert_exporter": "python",
   "pygments_lexer": "ipython3",
   "version": "3.12.3"
  }
 },
 "nbformat": 4,
 "nbformat_minor": 5
}
