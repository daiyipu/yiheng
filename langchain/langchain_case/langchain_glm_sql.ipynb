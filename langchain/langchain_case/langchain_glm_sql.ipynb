{
 "cells": [
  {
   "cell_type": "markdown",
   "metadata": {},
   "source": [
    "# 10个范例带你入门LangChain "
   ]
  },
  {
   "cell_type": "markdown",
   "metadata": {},
   "source": [
    "5，数据库问答(Querying Tabular Data): 从数据库/类数据库内容中抽取数据信息。"
   ]
  },
  {
   "cell_type": "code",
   "execution_count": 1,
   "metadata": {},
   "outputs": [],
   "source": [
    "# 使用你自己的OpenAI API key\n",
    "openai_api_key='sk-PFwMvMFcU7VXaL5cYM9vT3B'\n",
    "zhipu_api_key='08132b620644081b192567639fc0a9b1.OAz1XI2d21zLZDk9'"
   ]
  },
  {
   "cell_type": "code",
   "execution_count": 2,
   "metadata": {},
   "outputs": [],
   "source": [
    "import time\n",
    "import jwt\n",
    " \n",
    "def generate_token(apikey: str, exp_seconds: int):\n",
    "    try:\n",
    "        id, secret = apikey.split(\".\")\n",
    "    except Exception as e:\n",
    "        raise Exception(\"invalid apikey\", e)\n",
    " \n",
    "    payload = {\n",
    "        \"api_key\": id,\n",
    "        \"exp\": int(round(time.time() * 1000)) + exp_seconds * 1000,\n",
    "        \"timestamp\": int(round(time.time() * 1000)),\n",
    "    }\n",
    " \n",
    "    return jwt.encode(\n",
    "        payload,\n",
    "        secret,\n",
    "        algorithm=\"HS256\",\n",
    "        headers={\"alg\": \"HS256\", \"sign_type\": \"SIGN\"},\n",
    "    )"
   ]
  },
  {
   "cell_type": "code",
   "execution_count": 3,
   "metadata": {},
   "outputs": [],
   "source": [
    "# from langchain_community.chat_models import ChatOpenAI\n",
    "# from langchain.chat_models import ChatOpenAI\n",
    "from langchain_openai import ChatOpenAI\n",
    "llm =ChatOpenAI(\n",
    "        model_name=\"glm-4\",\n",
    "        openai_api_base=\"https://open.bigmodel.cn/api/paas/v4\",\n",
    "        openai_api_key=generate_token(zhipu_api_key,10000),\n",
    "        streaming=False,\n",
    "        temperature=0.5\n",
    "    )"
   ]
  },
  {
   "cell_type": "markdown",
   "metadata": {
    "id": "MaUJftcC6aCV"
   },
   "source": [
    "## 五，数据库问答(Querying Tabular Data)"
   ]
  },
  {
   "cell_type": "code",
   "execution_count": 4,
   "metadata": {
    "ExecuteTime": {
     "end_time": "2023-09-28T12:19:00.323997Z",
     "start_time": "2023-09-28T12:19:00.285875Z"
    },
    "id": "dIpb5Hi46OCr"
   },
   "outputs": [],
   "source": [
    "# 使用自然语言查询一个 SQLite 数据库，我们将使用旧金山树木数据集\n",
    "# Don't run following code if you don't run sqlite and follow db\n",
    "from langchain import OpenAI, SQLDatabase\n",
    "# %pip install  --user langchain_experimental\n",
    "from langchain_experimental.sql import SQLDatabaseChain\n",
    "# llm = OpenAI(temperature=0, openai_api_key=openai_api_key)"
   ]
  },
  {
   "cell_type": "code",
   "execution_count": 5,
   "metadata": {
    "ExecuteTime": {
     "end_time": "2023-09-28T12:19:00.647603Z",
     "start_time": "2023-09-28T12:19:00.329010Z"
    },
    "id": "6DiP-LlX6nrh"
   },
   "outputs": [],
   "source": [
    "sqlite_db_path = 'San_Francisco_Trees.db'\n",
    "db = SQLDatabase.from_uri(f\"sqlite:///{sqlite_db_path}\")"
   ]
  },
  {
   "cell_type": "code",
   "execution_count": 6,
   "metadata": {
    "ExecuteTime": {
     "end_time": "2023-09-28T12:19:00.694738Z",
     "start_time": "2023-09-28T12:19:00.657630Z"
    },
    "id": "X568YYZ265Pi"
   },
   "outputs": [
    {
     "name": "stdout",
     "output_type": "stream",
     "text": [
      "提示词： input_variables=['input', 'table_info', 'top_k'] template='You are a SQLite expert. Given an input question, first create a syntactically correct SQLite query to run, then look at the results of the query and return the answer to the input question.\\nUnless the user specifies in the question a specific number of examples to obtain, query for at most {top_k} results using the LIMIT clause as per SQLite. You can order the results to return the most informative data in the database.\\nNever query for all columns from a table. You must query only the columns that are needed to answer the question. Wrap each column name in double quotes (\") to denote them as delimited identifiers.\\nPay attention to use only the column names you can see in the tables below. Be careful to not query for columns that do not exist. Also, pay attention to which column is in which table.\\nPay attention to use date(\\'now\\') function to get the current date, if the question involves \"today\".\\n\\nUse the following format:\\n\\nQuestion: Question here\\nSQLQuery: SQL Query to run\\nSQLResult: Result of the SQLQuery\\nAnswer: Final answer here\\n\\nOnly use the following tables:\\n{table_info}\\n\\nQuestion: {input}'\n",
      "llm_chain： prompt=PromptTemplate(input_variables=['input', 'table_info', 'top_k'], template='You are a SQLite expert. Given an input question, first create a syntactically correct SQLite query to run, then look at the results of the query and return the answer to the input question.\\nUnless the user specifies in the question a specific number of examples to obtain, query for at most {top_k} results using the LIMIT clause as per SQLite. You can order the results to return the most informative data in the database.\\nNever query for all columns from a table. You must query only the columns that are needed to answer the question. Wrap each column name in double quotes (\") to denote them as delimited identifiers.\\nPay attention to use only the column names you can see in the tables below. Be careful to not query for columns that do not exist. Also, pay attention to which column is in which table.\\nPay attention to use date(\\'now\\') function to get the current date, if the question involves \"today\".\\n\\nUse the following format:\\n\\nQuestion: Question here\\nSQLQuery: SQL Query to run\\nSQLResult: Result of the SQLQuery\\nAnswer: Final answer here\\n\\nOnly use the following tables:\\n{table_info}\\n\\nQuestion: {input}') llm=ChatOpenAI(client=<openai.resources.chat.completions.Completions object at 0x7fcf04c69ee0>, async_client=<openai.resources.chat.completions.AsyncCompletions object at 0x7fcf04c7d640>, model_name='glm-4', temperature=0.5, openai_api_key=SecretStr('**********'), openai_api_base='https://open.bigmodel.cn/api/paas/v4', openai_proxy='')\n",
      "from_llm： verbose=True llm_chain=LLMChain(prompt=PromptTemplate(input_variables=['input', 'table_info', 'top_k'], template='You are a SQLite expert. Given an input question, first create a syntactically correct SQLite query to run, then look at the results of the query and return the answer to the input question.\\nUnless the user specifies in the question a specific number of examples to obtain, query for at most {top_k} results using the LIMIT clause as per SQLite. You can order the results to return the most informative data in the database.\\nNever query for all columns from a table. You must query only the columns that are needed to answer the question. Wrap each column name in double quotes (\") to denote them as delimited identifiers.\\nPay attention to use only the column names you can see in the tables below. Be careful to not query for columns that do not exist. Also, pay attention to which column is in which table.\\nPay attention to use date(\\'now\\') function to get the current date, if the question involves \"today\".\\n\\nUse the following format:\\n\\nQuestion: Question here\\nSQLQuery: SQL Query to run\\nSQLResult: Result of the SQLQuery\\nAnswer: Final answer here\\n\\nOnly use the following tables:\\n{table_info}\\n\\nQuestion: {input}'), llm=ChatOpenAI(client=<openai.resources.chat.completions.Completions object at 0x7fcf04c69ee0>, async_client=<openai.resources.chat.completions.AsyncCompletions object at 0x7fcf04c7d640>, model_name='glm-4', temperature=0.5, openai_api_key=SecretStr('**********'), openai_api_base='https://open.bigmodel.cn/api/paas/v4', openai_proxy='')) database=<langchain_community.utilities.sql_database.SQLDatabase object at 0x7fcf0583bee0> use_query_checker=True\n"
     ]
    }
   ],
   "source": [
    "db_chain = SQLDatabaseChain.from_llm(llm=llm, db=db, use_query_checker=True,verbose=True)"
   ]
  },
  {
   "cell_type": "code",
   "execution_count": 7,
   "metadata": {
    "ExecuteTime": {
     "end_time": "2023-09-28T12:19:41.013454Z",
     "start_time": "2023-09-28T12:19:00.697748Z"
    },
    "id": "vLuuRm4n66NM"
   },
   "outputs": [
    {
     "name": "stdout",
     "output_type": "stream",
     "text": [
      "\n",
      "\n",
      "\u001b[1m> Entering new SQLDatabaseChain chain...\u001b[0m\n",
      "_run_manager <langchain_core.callbacks.manager.CallbackManagerForChainRun object at 0x7fcf0583be50>\n",
      "inputs： {'query': 'How many Species of trees are there in San Francisco?'}\n",
      "inputs[self.input_key]： How many Species of trees are there in San Francisco?\n",
      "input_text：\n",
      " How many Species of trees are there in San Francisco?\n",
      "SQLQuery: :input_text\n",
      "How many Species of trees are there in San Francisco?\n",
      "SQLQuery:table_names_to_use： None\n",
      "table_info： \n",
      "CREATE TABLE \"SFTrees\" (\n",
      "\t\"TreeID\" INTEGER, \n",
      "\t\"qSpecies\" TEXT, \n",
      "\t\"qAddress\" TEXT, \n",
      "\t\"PlantType\" TEXT\n",
      ")\n",
      "\n",
      "/*\n",
      "3 rows from SFTrees table:\n",
      "TreeID\tqSpecies\tqAddress\tPlantType\n",
      "168225\tArbutus 'Marina' :: Hybrid Strawberry Tree\t2547 Vallejo St\tTree\n",
      "168228\tArbutus 'Marina' :: Hybrid Strawberry Tree\t2547 Vallejo St\tTree\n",
      "189160\tAfrocarpus gracilior :: Fern Pine\t100 Kissling St\tTree\n",
      "*/\n",
      "self.memory None\n",
      "llm_inputs {'input': 'How many Species of trees are there in San Francisco?\\nSQLQuery:', 'top_k': '5', 'dialect': 'sqlite', 'table_info': '\\nCREATE TABLE \"SFTrees\" (\\n\\t\"TreeID\" INTEGER, \\n\\t\"qSpecies\" TEXT, \\n\\t\"qAddress\" TEXT, \\n\\t\"PlantType\" TEXT\\n)\\n\\n/*\\n3 rows from SFTrees table:\\nTreeID\\tqSpecies\\tqAddress\\tPlantType\\n168225\\tArbutus \\'Marina\\' :: Hybrid Strawberry Tree\\t2547 Vallejo St\\tTree\\n168228\\tArbutus \\'Marina\\' :: Hybrid Strawberry Tree\\t2547 Vallejo St\\tTree\\n189160\\tAfrocarpus gracilior :: Fern Pine\\t100 Kissling St\\tTree\\n*/', 'stop': ['\\nSQLResult:']}\n",
      ".........................关键的一步，这里还是对的，后面会出错..............................\n",
      "....................以下是prep_prompts模块.........................\n",
      "stop ['\\nSQLResult:']\n",
      "selected_inputs {'input': 'How many Species of trees are there in San Francisco?\\nSQLQuery:', 'table_info': '\\nCREATE TABLE \"SFTrees\" (\\n\\t\"TreeID\" INTEGER, \\n\\t\"qSpecies\" TEXT, \\n\\t\"qAddress\" TEXT, \\n\\t\"PlantType\" TEXT\\n)\\n\\n/*\\n3 rows from SFTrees table:\\nTreeID\\tqSpecies\\tqAddress\\tPlantType\\n168225\\tArbutus \\'Marina\\' :: Hybrid Strawberry Tree\\t2547 Vallejo St\\tTree\\n168228\\tArbutus \\'Marina\\' :: Hybrid Strawberry Tree\\t2547 Vallejo St\\tTree\\n189160\\tAfrocarpus gracilior :: Fern Pine\\t100 Kissling St\\tTree\\n*/', 'top_k': '5'}\n",
      "prompt text='You are a SQLite expert. Given an input question, first create a syntactically correct SQLite query to run, then look at the results of the query and return the answer to the input question.\\nUnless the user specifies in the question a specific number of examples to obtain, query for at most 5 results using the LIMIT clause as per SQLite. You can order the results to return the most informative data in the database.\\nNever query for all columns from a table. You must query only the columns that are needed to answer the question. Wrap each column name in double quotes (\") to denote them as delimited identifiers.\\nPay attention to use only the column names you can see in the tables below. Be careful to not query for columns that do not exist. Also, pay attention to which column is in which table.\\nPay attention to use date(\\'now\\') function to get the current date, if the question involves \"today\".\\n\\nUse the following format:\\n\\nQuestion: Question here\\nSQLQuery: SQL Query to run\\nSQLResult: Result of the SQLQuery\\nAnswer: Final answer here\\n\\nOnly use the following tables:\\n\\nCREATE TABLE \"SFTrees\" (\\n\\t\"TreeID\" INTEGER, \\n\\t\"qSpecies\" TEXT, \\n\\t\"qAddress\" TEXT, \\n\\t\"PlantType\" TEXT\\n)\\n\\n/*\\n3 rows from SFTrees table:\\nTreeID\\tqSpecies\\tqAddress\\tPlantType\\n168225\\tArbutus \\'Marina\\' :: Hybrid Strawberry Tree\\t2547 Vallejo St\\tTree\\n168228\\tArbutus \\'Marina\\' :: Hybrid Strawberry Tree\\t2547 Vallejo St\\tTree\\n189160\\tAfrocarpus gracilior :: Fern Pine\\t100 Kissling St\\tTree\\n*/\\n\\nQuestion: How many Species of trees are there in San Francisco?\\nSQLQuery:'\n",
      "_colored_text \u001b[32;1m\u001b[1;3mYou are a SQLite expert. Given an input question, first create a syntactically correct SQLite query to run, then look at the results of the query and return the answer to the input question.\n",
      "Unless the user specifies in the question a specific number of examples to obtain, query for at most 5 results using the LIMIT clause as per SQLite. You can order the results to return the most informative data in the database.\n",
      "Never query for all columns from a table. You must query only the columns that are needed to answer the question. Wrap each column name in double quotes (\") to denote them as delimited identifiers.\n",
      "Pay attention to use only the column names you can see in the tables below. Be careful to not query for columns that do not exist. Also, pay attention to which column is in which table.\n",
      "Pay attention to use date('now') function to get the current date, if the question involves \"today\".\n",
      "\n",
      "Use the following format:\n",
      "\n",
      "Question: Question here\n",
      "SQLQuery: SQL Query to run\n",
      "SQLResult: Result of the SQLQuery\n",
      "Answer: Final answer here\n",
      "\n",
      "Only use the following tables:\n",
      "\n",
      "CREATE TABLE \"SFTrees\" (\n",
      "\t\"TreeID\" INTEGER, \n",
      "\t\"qSpecies\" TEXT, \n",
      "\t\"qAddress\" TEXT, \n",
      "\t\"PlantType\" TEXT\n",
      ")\n",
      "\n",
      "/*\n",
      "3 rows from SFTrees table:\n",
      "TreeID\tqSpecies\tqAddress\tPlantType\n",
      "168225\tArbutus 'Marina' :: Hybrid Strawberry Tree\t2547 Vallejo St\tTree\n",
      "168228\tArbutus 'Marina' :: Hybrid Strawberry Tree\t2547 Vallejo St\tTree\n",
      "189160\tAfrocarpus gracilior :: Fern Pine\t100 Kissling St\tTree\n",
      "*/\n",
      "\n",
      "Question: How many Species of trees are there in San Francisco?\n",
      "SQLQuery:\u001b[0m\n",
      "_text Prompt after formatting:\n",
      "\u001b[32;1m\u001b[1;3mYou are a SQLite expert. Given an input question, first create a syntactically correct SQLite query to run, then look at the results of the query and return the answer to the input question.\n",
      "Unless the user specifies in the question a specific number of examples to obtain, query for at most 5 results using the LIMIT clause as per SQLite. You can order the results to return the most informative data in the database.\n",
      "Never query for all columns from a table. You must query only the columns that are needed to answer the question. Wrap each column name in double quotes (\") to denote them as delimited identifiers.\n",
      "Pay attention to use only the column names you can see in the tables below. Be careful to not query for columns that do not exist. Also, pay attention to which column is in which table.\n",
      "Pay attention to use date('now') function to get the current date, if the question involves \"today\".\n",
      "\n",
      "Use the following format:\n",
      "\n",
      "Question: Question here\n",
      "SQLQuery: SQL Query to run\n",
      "SQLResult: Result of the SQLQuery\n",
      "Answer: Final answer here\n",
      "\n",
      "Only use the following tables:\n",
      "\n",
      "CREATE TABLE \"SFTrees\" (\n",
      "\t\"TreeID\" INTEGER, \n",
      "\t\"qSpecies\" TEXT, \n",
      "\t\"qAddress\" TEXT, \n",
      "\t\"PlantType\" TEXT\n",
      ")\n",
      "\n",
      "/*\n",
      "3 rows from SFTrees table:\n",
      "TreeID\tqSpecies\tqAddress\tPlantType\n",
      "168225\tArbutus 'Marina' :: Hybrid Strawberry Tree\t2547 Vallejo St\tTree\n",
      "168228\tArbutus 'Marina' :: Hybrid Strawberry Tree\t2547 Vallejo St\tTree\n",
      "189160\tAfrocarpus gracilior :: Fern Pine\t100 Kissling St\tTree\n",
      "*/\n",
      "\n",
      "Question: How many Species of trees are there in San Francisco?\n",
      "SQLQuery:\u001b[0m\n",
      "input_list [{'input': 'How many Species of trees are there in San Francisco?\\nSQLQuery:', 'top_k': '5', 'dialect': 'sqlite', 'table_info': '\\nCREATE TABLE \"SFTrees\" (\\n\\t\"TreeID\" INTEGER, \\n\\t\"qSpecies\" TEXT, \\n\\t\"qAddress\" TEXT, \\n\\t\"PlantType\" TEXT\\n)\\n\\n/*\\n3 rows from SFTrees table:\\nTreeID\\tqSpecies\\tqAddress\\tPlantType\\n168225\\tArbutus \\'Marina\\' :: Hybrid Strawberry Tree\\t2547 Vallejo St\\tTree\\n168228\\tArbutus \\'Marina\\' :: Hybrid Strawberry Tree\\t2547 Vallejo St\\tTree\\n189160\\tAfrocarpus gracilior :: Fern Pine\\t100 Kissling St\\tTree\\n*/', 'stop': ['\\nSQLResult:']}]\n",
      "run_manager <langchain_core.callbacks.manager.CallbackManagerForChainRun object at 0x7fcf057e3a30>\n",
      "stop ['\\nSQLResult:']\n",
      "prompts： [StringPromptValue(text='You are a SQLite expert. Given an input question, first create a syntactically correct SQLite query to run, then look at the results of the query and return the answer to the input question.\\nUnless the user specifies in the question a specific number of examples to obtain, query for at most 5 results using the LIMIT clause as per SQLite. You can order the results to return the most informative data in the database.\\nNever query for all columns from a table. You must query only the columns that are needed to answer the question. Wrap each column name in double quotes (\") to denote them as delimited identifiers.\\nPay attention to use only the column names you can see in the tables below. Be careful to not query for columns that do not exist. Also, pay attention to which column is in which table.\\nPay attention to use date(\\'now\\') function to get the current date, if the question involves \"today\".\\n\\nUse the following format:\\n\\nQuestion: Question here\\nSQLQuery: SQL Query to run\\nSQLResult: Result of the SQLQuery\\nAnswer: Final answer here\\n\\nOnly use the following tables:\\n\\nCREATE TABLE \"SFTrees\" (\\n\\t\"TreeID\" INTEGER, \\n\\t\"qSpecies\" TEXT, \\n\\t\"qAddress\" TEXT, \\n\\t\"PlantType\" TEXT\\n)\\n\\n/*\\n3 rows from SFTrees table:\\nTreeID\\tqSpecies\\tqAddress\\tPlantType\\n168225\\tArbutus \\'Marina\\' :: Hybrid Strawberry Tree\\t2547 Vallejo St\\tTree\\n168228\\tArbutus \\'Marina\\' :: Hybrid Strawberry Tree\\t2547 Vallejo St\\tTree\\n189160\\tAfrocarpus gracilior :: Fern Pine\\t100 Kissling St\\tTree\\n*/\\n\\nQuestion: How many Species of trees are there in San Francisco?\\nSQLQuery:')]\n",
      "callbacks <langchain_core.callbacks.manager.CallbackManager object at 0x7fcf058d65b0>\n",
      "sql_cmd_222: SELECT COUNT(DISTINCT \"qSpecies\") FROM \"SFTrees\"\n",
      "SQLResult: 输出结束\n",
      "打印query_checker_prompt: input_variables=['dialect', 'query'] template='\\n{query}\\nDouble check the {dialect} query above for common mistakes, including:\\n- Using NOT IN with NULL values\\n- Using UNION when UNION ALL should have been used\\n- Using BETWEEN for exclusive ranges\\n- Data type mismatch in predicates\\n- Properly quoting identifiers\\n- Using the correct number of arguments for functions\\n- Casting to the correct data type\\n- Using the proper columns for joins\\n\\nIf there are any of the above mistakes, rewrite the query. If there are no mistakes, just reproduce the original query.\\n\\nOutput the final SQL query only.另外输出时，不需要除了sql执行语句的其他描述。\\n\\nSQL Query: '\n",
      "....................以下是prep_prompts模块.........................\n",
      "stop None\n",
      "selected_inputs {'dialect': 'sqlite', 'query': 'SELECT COUNT(DISTINCT \"qSpecies\") FROM \"SFTrees\"\\nSQLResult:'}\n",
      "prompt text='\\nSELECT COUNT(DISTINCT \"qSpecies\") FROM \"SFTrees\"\\nSQLResult:\\nDouble check the sqlite query above for common mistakes, including:\\n- Using NOT IN with NULL values\\n- Using UNION when UNION ALL should have been used\\n- Using BETWEEN for exclusive ranges\\n- Data type mismatch in predicates\\n- Properly quoting identifiers\\n- Using the correct number of arguments for functions\\n- Casting to the correct data type\\n- Using the proper columns for joins\\n\\nIf there are any of the above mistakes, rewrite the query. If there are no mistakes, just reproduce the original query.\\n\\nOutput the final SQL query only.另外输出时，不需要除了sql执行语句的其他描述。\\n\\nSQL Query: '\n",
      "_colored_text \u001b[32;1m\u001b[1;3m\n",
      "SELECT COUNT(DISTINCT \"qSpecies\") FROM \"SFTrees\"\n",
      "SQLResult:\n",
      "Double check the sqlite query above for common mistakes, including:\n",
      "- Using NOT IN with NULL values\n",
      "- Using UNION when UNION ALL should have been used\n",
      "- Using BETWEEN for exclusive ranges\n",
      "- Data type mismatch in predicates\n",
      "- Properly quoting identifiers\n",
      "- Using the correct number of arguments for functions\n",
      "- Casting to the correct data type\n",
      "- Using the proper columns for joins\n",
      "\n",
      "If there are any of the above mistakes, rewrite the query. If there are no mistakes, just reproduce the original query.\n",
      "\n",
      "Output the final SQL query only.另外输出时，不需要除了sql执行语句的其他描述。\n",
      "\n",
      "SQL Query: \u001b[0m\n",
      "_text Prompt after formatting:\n",
      "\u001b[32;1m\u001b[1;3m\n",
      "SELECT COUNT(DISTINCT \"qSpecies\") FROM \"SFTrees\"\n",
      "SQLResult:\n",
      "Double check the sqlite query above for common mistakes, including:\n",
      "- Using NOT IN with NULL values\n",
      "- Using UNION when UNION ALL should have been used\n",
      "- Using BETWEEN for exclusive ranges\n",
      "- Data type mismatch in predicates\n",
      "- Properly quoting identifiers\n",
      "- Using the correct number of arguments for functions\n",
      "- Casting to the correct data type\n",
      "- Using the proper columns for joins\n",
      "\n",
      "If there are any of the above mistakes, rewrite the query. If there are no mistakes, just reproduce the original query.\n",
      "\n",
      "Output the final SQL query only.另外输出时，不需要除了sql执行语句的其他描述。\n",
      "\n",
      "SQL Query: \u001b[0m\n",
      "input_list [{'query': 'SELECT COUNT(DISTINCT \"qSpecies\") FROM \"SFTrees\"\\nSQLResult:', 'dialect': 'sqlite'}]\n",
      "run_manager <langchain_core.callbacks.manager.CallbackManagerForChainRun object at 0x7fcf0583beb0>\n",
      "stop None\n",
      "prompts： [StringPromptValue(text='\\nSELECT COUNT(DISTINCT \"qSpecies\") FROM \"SFTrees\"\\nSQLResult:\\nDouble check the sqlite query above for common mistakes, including:\\n- Using NOT IN with NULL values\\n- Using UNION when UNION ALL should have been used\\n- Using BETWEEN for exclusive ranges\\n- Data type mismatch in predicates\\n- Properly quoting identifiers\\n- Using the correct number of arguments for functions\\n- Casting to the correct data type\\n- Using the proper columns for joins\\n\\nIf there are any of the above mistakes, rewrite the query. If there are no mistakes, just reproduce the original query.\\n\\nOutput the final SQL query only.另外输出时，不需要除了sql执行语句的其他描述。\\n\\nSQL Query: ')]\n",
      "callbacks <langchain_core.callbacks.manager.CallbackManager object at 0x7fcf059ffa30>\n",
      "\u001b[32;1m\u001b[1;3mSELECT COUNT(DISTINCT \"qSpecies\") FROM \"SFTrees\"\u001b[0mcommand: SELECT COUNT(DISTINCT \"qSpecies\") FROM \"SFTrees\" parameters: {} execution_options: {}\n",
      "result: [{'COUNT(DISTINCT \"qSpecies\")': 578}]\n",
      "\n",
      "SQLResult: \u001b[33;1m\u001b[1;3m[(578,)]\u001b[0m\n",
      "Answer:查看下是否原始输出错误2: How many Species of trees are there in San Francisco?\n",
      "SQLQuery:SELECT COUNT(DISTINCT \"qSpecies\") FROM \"SFTrees\"\n",
      "SQLResult: [(578,)]\n",
      "Answer:\n",
      "....................以下是prep_prompts模块.........................\n",
      "stop ['\\nSQLResult:']\n",
      "selected_inputs {'input': 'How many Species of trees are there in San Francisco?\\nSQLQuery:SELECT COUNT(DISTINCT \"qSpecies\") FROM \"SFTrees\"\\nSQLResult: [(578,)]\\nAnswer:', 'table_info': '\\nCREATE TABLE \"SFTrees\" (\\n\\t\"TreeID\" INTEGER, \\n\\t\"qSpecies\" TEXT, \\n\\t\"qAddress\" TEXT, \\n\\t\"PlantType\" TEXT\\n)\\n\\n/*\\n3 rows from SFTrees table:\\nTreeID\\tqSpecies\\tqAddress\\tPlantType\\n168225\\tArbutus \\'Marina\\' :: Hybrid Strawberry Tree\\t2547 Vallejo St\\tTree\\n168228\\tArbutus \\'Marina\\' :: Hybrid Strawberry Tree\\t2547 Vallejo St\\tTree\\n189160\\tAfrocarpus gracilior :: Fern Pine\\t100 Kissling St\\tTree\\n*/', 'top_k': '5'}\n",
      "prompt text='You are a SQLite expert. Given an input question, first create a syntactically correct SQLite query to run, then look at the results of the query and return the answer to the input question.\\nUnless the user specifies in the question a specific number of examples to obtain, query for at most 5 results using the LIMIT clause as per SQLite. You can order the results to return the most informative data in the database.\\nNever query for all columns from a table. You must query only the columns that are needed to answer the question. Wrap each column name in double quotes (\") to denote them as delimited identifiers.\\nPay attention to use only the column names you can see in the tables below. Be careful to not query for columns that do not exist. Also, pay attention to which column is in which table.\\nPay attention to use date(\\'now\\') function to get the current date, if the question involves \"today\".\\n\\nUse the following format:\\n\\nQuestion: Question here\\nSQLQuery: SQL Query to run\\nSQLResult: Result of the SQLQuery\\nAnswer: Final answer here\\n\\nOnly use the following tables:\\n\\nCREATE TABLE \"SFTrees\" (\\n\\t\"TreeID\" INTEGER, \\n\\t\"qSpecies\" TEXT, \\n\\t\"qAddress\" TEXT, \\n\\t\"PlantType\" TEXT\\n)\\n\\n/*\\n3 rows from SFTrees table:\\nTreeID\\tqSpecies\\tqAddress\\tPlantType\\n168225\\tArbutus \\'Marina\\' :: Hybrid Strawberry Tree\\t2547 Vallejo St\\tTree\\n168228\\tArbutus \\'Marina\\' :: Hybrid Strawberry Tree\\t2547 Vallejo St\\tTree\\n189160\\tAfrocarpus gracilior :: Fern Pine\\t100 Kissling St\\tTree\\n*/\\n\\nQuestion: How many Species of trees are there in San Francisco?\\nSQLQuery:SELECT COUNT(DISTINCT \"qSpecies\") FROM \"SFTrees\"\\nSQLResult: [(578,)]\\nAnswer:'\n",
      "_colored_text \u001b[32;1m\u001b[1;3mYou are a SQLite expert. Given an input question, first create a syntactically correct SQLite query to run, then look at the results of the query and return the answer to the input question.\n",
      "Unless the user specifies in the question a specific number of examples to obtain, query for at most 5 results using the LIMIT clause as per SQLite. You can order the results to return the most informative data in the database.\n",
      "Never query for all columns from a table. You must query only the columns that are needed to answer the question. Wrap each column name in double quotes (\") to denote them as delimited identifiers.\n",
      "Pay attention to use only the column names you can see in the tables below. Be careful to not query for columns that do not exist. Also, pay attention to which column is in which table.\n",
      "Pay attention to use date('now') function to get the current date, if the question involves \"today\".\n",
      "\n",
      "Use the following format:\n",
      "\n",
      "Question: Question here\n",
      "SQLQuery: SQL Query to run\n",
      "SQLResult: Result of the SQLQuery\n",
      "Answer: Final answer here\n",
      "\n",
      "Only use the following tables:\n",
      "\n",
      "CREATE TABLE \"SFTrees\" (\n",
      "\t\"TreeID\" INTEGER, \n",
      "\t\"qSpecies\" TEXT, \n",
      "\t\"qAddress\" TEXT, \n",
      "\t\"PlantType\" TEXT\n",
      ")\n",
      "\n",
      "/*\n",
      "3 rows from SFTrees table:\n",
      "TreeID\tqSpecies\tqAddress\tPlantType\n",
      "168225\tArbutus 'Marina' :: Hybrid Strawberry Tree\t2547 Vallejo St\tTree\n",
      "168228\tArbutus 'Marina' :: Hybrid Strawberry Tree\t2547 Vallejo St\tTree\n",
      "189160\tAfrocarpus gracilior :: Fern Pine\t100 Kissling St\tTree\n",
      "*/\n",
      "\n",
      "Question: How many Species of trees are there in San Francisco?\n",
      "SQLQuery:SELECT COUNT(DISTINCT \"qSpecies\") FROM \"SFTrees\"\n",
      "SQLResult: [(578,)]\n",
      "Answer:\u001b[0m\n",
      "_text Prompt after formatting:\n",
      "\u001b[32;1m\u001b[1;3mYou are a SQLite expert. Given an input question, first create a syntactically correct SQLite query to run, then look at the results of the query and return the answer to the input question.\n",
      "Unless the user specifies in the question a specific number of examples to obtain, query for at most 5 results using the LIMIT clause as per SQLite. You can order the results to return the most informative data in the database.\n",
      "Never query for all columns from a table. You must query only the columns that are needed to answer the question. Wrap each column name in double quotes (\") to denote them as delimited identifiers.\n",
      "Pay attention to use only the column names you can see in the tables below. Be careful to not query for columns that do not exist. Also, pay attention to which column is in which table.\n",
      "Pay attention to use date('now') function to get the current date, if the question involves \"today\".\n",
      "\n",
      "Use the following format:\n",
      "\n",
      "Question: Question here\n",
      "SQLQuery: SQL Query to run\n",
      "SQLResult: Result of the SQLQuery\n",
      "Answer: Final answer here\n",
      "\n",
      "Only use the following tables:\n",
      "\n",
      "CREATE TABLE \"SFTrees\" (\n",
      "\t\"TreeID\" INTEGER, \n",
      "\t\"qSpecies\" TEXT, \n",
      "\t\"qAddress\" TEXT, \n",
      "\t\"PlantType\" TEXT\n",
      ")\n",
      "\n",
      "/*\n",
      "3 rows from SFTrees table:\n",
      "TreeID\tqSpecies\tqAddress\tPlantType\n",
      "168225\tArbutus 'Marina' :: Hybrid Strawberry Tree\t2547 Vallejo St\tTree\n",
      "168228\tArbutus 'Marina' :: Hybrid Strawberry Tree\t2547 Vallejo St\tTree\n",
      "189160\tAfrocarpus gracilior :: Fern Pine\t100 Kissling St\tTree\n",
      "*/\n",
      "\n",
      "Question: How many Species of trees are there in San Francisco?\n",
      "SQLQuery:SELECT COUNT(DISTINCT \"qSpecies\") FROM \"SFTrees\"\n",
      "SQLResult: [(578,)]\n",
      "Answer:\u001b[0m\n",
      "input_list [{'input': 'How many Species of trees are there in San Francisco?\\nSQLQuery:SELECT COUNT(DISTINCT \"qSpecies\") FROM \"SFTrees\"\\nSQLResult: [(578,)]\\nAnswer:', 'top_k': '5', 'dialect': 'sqlite', 'table_info': '\\nCREATE TABLE \"SFTrees\" (\\n\\t\"TreeID\" INTEGER, \\n\\t\"qSpecies\" TEXT, \\n\\t\"qAddress\" TEXT, \\n\\t\"PlantType\" TEXT\\n)\\n\\n/*\\n3 rows from SFTrees table:\\nTreeID\\tqSpecies\\tqAddress\\tPlantType\\n168225\\tArbutus \\'Marina\\' :: Hybrid Strawberry Tree\\t2547 Vallejo St\\tTree\\n168228\\tArbutus \\'Marina\\' :: Hybrid Strawberry Tree\\t2547 Vallejo St\\tTree\\n189160\\tAfrocarpus gracilior :: Fern Pine\\t100 Kissling St\\tTree\\n*/', 'stop': ['\\nSQLResult:']}]\n",
      "run_manager <langchain_core.callbacks.manager.CallbackManagerForChainRun object at 0x7fcf0583beb0>\n",
      "stop ['\\nSQLResult:']\n",
      "prompts： [StringPromptValue(text='You are a SQLite expert. Given an input question, first create a syntactically correct SQLite query to run, then look at the results of the query and return the answer to the input question.\\nUnless the user specifies in the question a specific number of examples to obtain, query for at most 5 results using the LIMIT clause as per SQLite. You can order the results to return the most informative data in the database.\\nNever query for all columns from a table. You must query only the columns that are needed to answer the question. Wrap each column name in double quotes (\") to denote them as delimited identifiers.\\nPay attention to use only the column names you can see in the tables below. Be careful to not query for columns that do not exist. Also, pay attention to which column is in which table.\\nPay attention to use date(\\'now\\') function to get the current date, if the question involves \"today\".\\n\\nUse the following format:\\n\\nQuestion: Question here\\nSQLQuery: SQL Query to run\\nSQLResult: Result of the SQLQuery\\nAnswer: Final answer here\\n\\nOnly use the following tables:\\n\\nCREATE TABLE \"SFTrees\" (\\n\\t\"TreeID\" INTEGER, \\n\\t\"qSpecies\" TEXT, \\n\\t\"qAddress\" TEXT, \\n\\t\"PlantType\" TEXT\\n)\\n\\n/*\\n3 rows from SFTrees table:\\nTreeID\\tqSpecies\\tqAddress\\tPlantType\\n168225\\tArbutus \\'Marina\\' :: Hybrid Strawberry Tree\\t2547 Vallejo St\\tTree\\n168228\\tArbutus \\'Marina\\' :: Hybrid Strawberry Tree\\t2547 Vallejo St\\tTree\\n189160\\tAfrocarpus gracilior :: Fern Pine\\t100 Kissling St\\tTree\\n*/\\n\\nQuestion: How many Species of trees are there in San Francisco?\\nSQLQuery:SELECT COUNT(DISTINCT \"qSpecies\") FROM \"SFTrees\"\\nSQLResult: [(578,)]\\nAnswer:')]\n",
      "callbacks <langchain_core.callbacks.manager.CallbackManager object at 0x7fcf05a484f0>\n",
      "\u001b[32;1m\u001b[1;3mThere are 578 species of trees in San Francisco.\u001b[0m\n",
      "\u001b[1m> Finished chain.\u001b[0m\n"
     ]
    },
    {
     "data": {
      "text/plain": [
       "{'query': 'How many Species of trees are there in San Francisco?',\n",
       " 'result': 'There are 578 species of trees in San Francisco.'}"
      ]
     },
     "execution_count": 7,
     "metadata": {},
     "output_type": "execute_result"
    }
   ],
   "source": [
    "db_chain.invoke(\"How many Species of trees are there in San Francisco?\")"
   ]
  },
  {
   "cell_type": "markdown",
   "metadata": {
    "id": "d4ukkWFf7BaS"
   },
   "source": [
    "1. Find which table to use\n",
    "2. Find which column to use\n",
    "3. Construct the correct sql query\n",
    "4. Execute that query\n",
    "5. Get the result\n",
    "6. Return a natural language reponse back\n",
    "\n",
    "confirm LLM result via pandas"
   ]
  },
  {
   "cell_type": "code",
   "execution_count": null,
   "metadata": {},
   "outputs": [],
   "source": []
  }
 ],
 "metadata": {
  "colab": {
   "provenance": []
  },
  "kernelspec": {
   "display_name": "Python 3",
   "language": "python",
   "name": "python3"
  },
  "language_info": {
   "codemirror_mode": {
    "name": "ipython",
    "version": 3
   },
   "file_extension": ".py",
   "mimetype": "text/x-python",
   "name": "python",
   "nbconvert_exporter": "python",
   "pygments_lexer": "ipython3",
   "version": "3.9.13"
  },
  "toc": {
   "base_numbering": 1,
   "nav_menu": {},
   "number_sections": true,
   "sideBar": true,
   "skip_h1_title": false,
   "title_cell": "Table of Contents",
   "title_sidebar": "Contents",
   "toc_cell": false,
   "toc_position": {
    "height": "calc(100% - 180px)",
    "left": "10px",
    "top": "150px",
    "width": "242.909px"
   },
   "toc_section_display": true,
   "toc_window_display": true
  }
 },
 "nbformat": 4,
 "nbformat_minor": 4
}
