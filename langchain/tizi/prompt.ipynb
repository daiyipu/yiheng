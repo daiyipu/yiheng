{
 "cells": [
  {
   "cell_type": "code",
   "execution_count": 1,
   "metadata": {},
   "outputs": [],
   "source": [
    "from langchain import PromptTemplate"
   ]
  },
  {
   "cell_type": "markdown",
   "metadata": {},
   "source": [
    "提示词内嵌一个变量structiong"
   ]
  },
  {
   "cell_type": "code",
   "execution_count": 5,
   "metadata": {},
   "outputs": [],
   "source": [
    "template = \"\"\"\\\n",
    "请对以下{structiong}结构的政策文本做一个总结 ?\n",
    "\"\"\"\n",
    "prompt=PromptTemplate.from_template(template)\n",
    "# prompt.format(structiong=\"总分总\")"
   ]
  },
  {
   "cell_type": "code",
   "execution_count": 6,
   "metadata": {},
   "outputs": [
    {
     "data": {
      "text/plain": [
       "PromptTemplate(input_variables=['structiong'], template='请对以下{structiong}结构的政策文本做一个总结 ?\\n')"
      ]
     },
     "execution_count": 6,
     "metadata": {},
     "output_type": "execute_result"
    }
   ],
   "source": [
    "prompt"
   ]
  },
  {
   "cell_type": "code",
   "execution_count": 7,
   "metadata": {},
   "outputs": [
    {
     "data": {
      "text/plain": [
       "'告诉我一个好笑的关于鸡的笑话。'"
      ]
     },
     "execution_count": 7,
     "metadata": {},
     "output_type": "execute_result"
    }
   ],
   "source": [
    "# 没有输入变量的示例提示\n",
    "no_input_prompt = PromptTemplate(input_variables=[], template=\"告诉我一个笑话。\")\n",
    "no_input_prompt.format()\n",
    "# -> \"告诉我一个笑话。\"\n",
    "\n",
    "# 一个输入变量的示例提示\n",
    "one_input_prompt = PromptTemplate(input_variables=[\"adjective\"], template=\"告诉我一个{adjective}的笑话。\")\n",
    "one_input_prompt.format(adjective=\"好笑的\")\n",
    "# -> \"告诉我一个好笑的笑话。\"\n",
    "\n",
    "# 多个输入变量的示例提示\n",
    "multiple_input_prompt = PromptTemplate(\n",
    "    input_variables=[\"adjective\", \"content\"],\n",
    "    template=\"告诉我一个{adjective}关于{content}的笑话。\"\n",
    ")\n",
    "multiple_input_prompt.format(adjective=\"好笑的\", content=\"鸡\")\n",
    "# -> \"告诉我一个好笑的关于鸡的笑话。\""
   ]
  },
  {
   "cell_type": "markdown",
   "metadata": {},
   "source": [
    "聊天消息提示词模板"
   ]
  },
  {
   "cell_type": "code",
   "execution_count": 14,
   "metadata": {},
   "outputs": [],
   "source": [
    "from langchain.prompts import (\n",
    "    ChatPromptTemplate,\n",
    "    PromptTemplate,\n",
    "    SystemMessagePromptTemplate,\n",
    "    AIMessagePromptTemplate,\n",
    "    HumanMessagePromptTemplate,\n",
    ")\n",
    "from langchain.schema import (\n",
    "    AIMessage,\n",
    "    HumanMessage,\n",
    "    SystemMessage\n",
    ")"
   ]
  },
  {
   "cell_type": "code",
   "execution_count": 15,
   "metadata": {},
   "outputs": [],
   "source": [
    "template=\"您是一位有用的助手，可以将 {input_language} 翻译为 {output_language}。\"\n",
    "system_message_prompt = SystemMessagePromptTemplate.from_template(template)\n",
    "human_template=\"{text}\"\n",
    "human_message_prompt = HumanMessagePromptTemplate.from_template(human_template)"
   ]
  },
  {
   "cell_type": "code",
   "execution_count": 18,
   "metadata": {},
   "outputs": [
    {
     "ename": "AssertionError",
     "evalue": "",
     "output_type": "error",
     "traceback": [
      "\u001b[0;31m---------------------------------------------------------------------------\u001b[0m",
      "\u001b[0;31mAssertionError\u001b[0m                            Traceback (most recent call last)",
      "\u001b[0;32m/var/folders/2f/gylrw_qs6xj4j6hygjj1_wgc0000gn/T/ipykernel_51549/1412911529.py\u001b[0m in \u001b[0;36m<module>\u001b[0;34m\u001b[0m\n\u001b[1;32m      4\u001b[0m )\n\u001b[1;32m      5\u001b[0m \u001b[0msystem_message_prompt_2\u001b[0m \u001b[0;34m=\u001b[0m \u001b[0mSystemMessagePromptTemplate\u001b[0m\u001b[0;34m(\u001b[0m\u001b[0mprompt\u001b[0m \u001b[0;34m=\u001b[0m \u001b[0mprompt\u001b[0m\u001b[0;34m)\u001b[0m\u001b[0;34m\u001b[0m\u001b[0;34m\u001b[0m\u001b[0m\n\u001b[0;32m----> 6\u001b[0;31m \u001b[0;32massert\u001b[0m \u001b[0msystem_message_prompt\u001b[0m \u001b[0;34m==\u001b[0m \u001b[0msystem_message_prompt_2\u001b[0m\u001b[0;34m\u001b[0m\u001b[0;34m\u001b[0m\u001b[0m\n\u001b[0m",
      "\u001b[0;31mAssertionError\u001b[0m: "
     ]
    }
   ],
   "source": [
    "prompt = PromptTemplate(\n",
    "    template =\"你是一个有用的助手，可以将{input_language}翻译成{output_language}。\",\n",
    "    input_variables = [\"input_language”，“output_language\"],\n",
    ")\n",
    "system_message_prompt_2 = SystemMessagePromptTemplate(prompt = prompt)\n",
    "assert system_message_prompt == system_message_prompt_2"
   ]
  },
  {
   "cell_type": "code",
   "execution_count": 19,
   "metadata": {},
   "outputs": [
    {
     "data": {
      "text/plain": [
       "[SystemMessage(content='您是一位有用的助手，可以将 英语 翻译为 法语。'),\n",
       " HumanMessage(content='我喜欢编程。')]"
      ]
     },
     "execution_count": 19,
     "metadata": {},
     "output_type": "execute_result"
    }
   ],
   "source": [
    "chat_prompt = ChatPromptTemplate.from_messages([system_message_prompt, human_message_prompt])\n",
    "\n",
    "# 根据参数格式化聊天消息模板\n",
    "chat_prompt.format_prompt(input_language=\"英语\", output_language=\"法语\", text=\"我喜欢编程。\").to_messages()"
   ]
  },
  {
   "cell_type": "code",
   "execution_count": 26,
   "metadata": {},
   "outputs": [],
   "source": [
    "zhipu_api_key='08132b620644081b192567639fc0a9b1.OAz1XI2d21zLZDk9'\n",
    "import time\n",
    "import jwt\n",
    " \n",
    "def generate_token(apikey: str, exp_seconds: int):\n",
    "    try:\n",
    "        id, secret = apikey.split(\".\")\n",
    "    except Exception as e:\n",
    "        raise Exception(\"invalid apikey\", e)\n",
    " \n",
    "    payload = {\n",
    "        \"api_key\": id,\n",
    "        \"exp\": int(round(time.time() * 1000)) + exp_seconds * 1000,\n",
    "        \"timestamp\": int(round(time.time() * 1000)),\n",
    "    }\n",
    " \n",
    "    return jwt.encode(\n",
    "        payload,\n",
    "        secret,\n",
    "        algorithm=\"HS256\",\n",
    "        headers={\"alg\": \"HS256\", \"sign_type\": \"SIGN\"},\n",
    "    )\n",
    "from langchain_openai import ChatOpenAI\n",
    "llm =ChatOpenAI(\n",
    "        model_name=\"glm-4\",\n",
    "        openai_api_base=\"https://open.bigmodel.cn/api/paas/v4\",\n",
    "        openai_api_key=generate_token(zhipu_api_key,10000),\n",
    "        streaming=False,\n",
    "        temperature=0.5\n",
    "    )"
   ]
  },
  {
   "cell_type": "code",
   "execution_count": 27,
   "metadata": {},
   "outputs": [
    {
     "data": {
      "text/plain": [
       "'I enjoy programming.'"
      ]
     },
     "execution_count": 27,
     "metadata": {},
     "output_type": "execute_result"
    }
   ],
   "source": [
    "llm(chat_prompt.format_prompt(input_language=\"中文\", output_language=\"英语\", text=\"我喜欢编程。\").to_messages()).content"
   ]
  },
  {
   "cell_type": "markdown",
   "metadata": {},
   "source": [
    "批量调用，更丰富的输出"
   ]
  },
  {
   "cell_type": "code",
   "execution_count": null,
   "metadata": {},
   "outputs": [],
   "source": [
    "batch_messages = [\n",
    "    [\n",
    "        SystemMessage(content=\"你是一个有帮助的助手，可以把英语翻译成法语。\"),\n",
    "        HumanMessage(content=\"我喜欢编程。\")\n",
    "    ],\n",
    "    [\n",
    "        SystemMessage(content=\"你是一个有帮助的助手，可以把英语翻译成法语。\"),\n",
    "        HumanMessage(content=\"我喜欢人工智能。\")\n",
    "    ],\n",
    "]\n",
    "result = chat.generate(batch_messages)\n",
    "result"
   ]
  }
 ],
 "metadata": {
  "kernelspec": {
   "display_name": "base",
   "language": "python",
   "name": "python3"
  },
  "language_info": {
   "codemirror_mode": {
    "name": "ipython",
    "version": 3
   },
   "file_extension": ".py",
   "mimetype": "text/x-python",
   "name": "python",
   "nbconvert_exporter": "python",
   "pygments_lexer": "ipython3",
   "version": "3.9.13"
  }
 },
 "nbformat": 4,
 "nbformat_minor": 2
}
