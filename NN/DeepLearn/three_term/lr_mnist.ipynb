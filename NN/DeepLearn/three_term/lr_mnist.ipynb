{
 "cells": [
  {
   "cell_type": "markdown",
   "metadata": {},
   "source": [
    "# Logistic Regression with TensorFlow\n",
    "By Johnson"
   ]
  },
  {
   "cell_type": "markdown",
   "metadata": {},
   "source": [
    "## 0. Imports"
   ]
  },
  {
   "cell_type": "code",
   "execution_count": 1,
   "metadata": {
    "collapsed": true
   },
   "outputs": [],
   "source": [
    "import numpy as np\n",
    "import tensorflow as tf\n",
    "import time\n",
    "import matplotlib.pyplot as plt\n",
    "from tensorflow.examples.tutorials.mnist import input_data"
   ]
  },
  {
   "cell_type": "markdown",
   "metadata": {},
   "source": [
    "## 1. Download MNIST dataset"
   ]
  },
  {
   "cell_type": "code",
   "execution_count": 2,
   "metadata": {},
   "outputs": [
    {
     "name": "stdout",
     "output_type": "stream",
     "text": [
      "Extracting ./mnist/train-images-idx3-ubyte.gz\n",
      "Extracting ./mnist/train-labels-idx1-ubyte.gz\n",
      "Extracting ./mnist/t10k-images-idx3-ubyte.gz\n",
      "Extracting ./mnist/t10k-labels-idx1-ubyte.gz\n"
     ]
    }
   ],
   "source": [
    "# Using Tensorflow's default tools to fetch data, this is the same as what we did in the first homework assignment.\n",
    "mnist = input_data.read_data_sets('./mnist', one_hot=True) "
   ]
  },
  {
   "cell_type": "code",
   "execution_count": 3,
   "metadata": {},
   "outputs": [
    {
     "data": {
      "text/plain": [
       "(55000, 784)"
      ]
     },
     "execution_count": 3,
     "metadata": {},
     "output_type": "execute_result"
    }
   ],
   "source": [
    "# Check the dimension of training, validation and test sets.\n",
    "mnist.train.images.shape"
   ]
  },
  {
   "cell_type": "code",
   "execution_count": 4,
   "metadata": {},
   "outputs": [
    {
     "data": {
      "text/plain": [
       "(55000, 10)"
      ]
     },
     "execution_count": 4,
     "metadata": {},
     "output_type": "execute_result"
    }
   ],
   "source": [
    "mnist.train.labels.shape"
   ]
  },
  {
   "cell_type": "code",
   "execution_count": 5,
   "metadata": {},
   "outputs": [
    {
     "data": {
      "text/plain": [
       "(5000, 784)"
      ]
     },
     "execution_count": 5,
     "metadata": {},
     "output_type": "execute_result"
    }
   ],
   "source": [
    "mnist.validation.images.shape"
   ]
  },
  {
   "cell_type": "code",
   "execution_count": 6,
   "metadata": {},
   "outputs": [
    {
     "data": {
      "text/plain": [
       "(5000, 10)"
      ]
     },
     "execution_count": 6,
     "metadata": {},
     "output_type": "execute_result"
    }
   ],
   "source": [
    "mnist.validation.labels.shape"
   ]
  },
  {
   "cell_type": "code",
   "execution_count": 7,
   "metadata": {},
   "outputs": [
    {
     "data": {
      "text/plain": [
       "(10000, 784)"
      ]
     },
     "execution_count": 7,
     "metadata": {},
     "output_type": "execute_result"
    }
   ],
   "source": [
    "mnist.test.images.shape"
   ]
  },
  {
   "cell_type": "code",
   "execution_count": 8,
   "metadata": {},
   "outputs": [
    {
     "data": {
      "text/plain": [
       "(10000, 10)"
      ]
     },
     "execution_count": 8,
     "metadata": {},
     "output_type": "execute_result"
    }
   ],
   "source": [
    "mnist.test.labels.shape"
   ]
  },
  {
   "cell_type": "markdown",
   "metadata": {},
   "source": [
    "## 2. Model initialization"
   ]
  },
  {
   "cell_type": "code",
   "execution_count": 9,
   "metadata": {
    "collapsed": true
   },
   "outputs": [],
   "source": [
    "# Random seed.\n",
    "rseed = 42\n",
    "batch_size = 200\n",
    "lr = 1e-1\n",
    "num_epochs = 50\n",
    "num_train, num_feats = mnist.train.images.shape\n",
    "num_test = mnist.test.images.shape[0]\n",
    "num_classes = mnist.train.labels.shape[1]"
   ]
  },
  {
   "cell_type": "code",
   "execution_count": 10,
   "metadata": {
    "collapsed": true
   },
   "outputs": [],
   "source": [
    "# Placeholders that should be filled with training pairs (x, y). Use None to unspecify the first dimension \n",
    "# for flexibility.\n",
    "train_x = tf.placeholder(tf.float32, [None, num_feats], name=\"train_x\")\n",
    "train_y = tf.placeholder(tf.int32, [None, num_classes], name=\"train_y\")\n",
    "# Model weights of logistic regression.\n",
    "w = tf.Variable(tf.random_normal(shape=[num_feats, num_classes], stddev=0.1), name=\"lr_weights\")\n",
    "b = tf.Variable(tf.zeros([num_classes]), name=\"lr_bias\")"
   ]
  },
  {
   "cell_type": "markdown",
   "metadata": {},
   "source": [
    "## 3. Model training and testing"
   ]
  },
  {
   "cell_type": "code",
   "execution_count": 11,
   "metadata": {
    "collapsed": true
   },
   "outputs": [],
   "source": [
    "# logits is the log-probablity of each classes. \n",
    "logits = tf.matmul(train_x, w) + b\n",
    "# Use TensorFlow's default implementation to compute the cross-entropy loss of classification.\n",
    "cross_entropy = tf.nn.softmax_cross_entropy_with_logits(logits=logits, labels=train_y, name=\"loss\")\n",
    "loss = tf.reduce_mean(cross_entropy)\n",
    "# Build prediction function.\n",
    "preds = tf.nn.softmax(logits)\n",
    "correct_preds = tf.equal(tf.argmax(preds, 1), tf.argmax(train_y, 1))\n",
    "# Need to cast the type of correct_preds to float32 in order to compute the average mean accuracy.\n",
    "accuracy = tf.reduce_mean(tf.cast(correct_preds, tf.float32))"
   ]
  },
  {
   "cell_type": "code",
   "execution_count": 12,
   "metadata": {
    "collapsed": true
   },
   "outputs": [],
   "source": [
    "# Use TensorFlow's default implementation for optimziation algorithm. Note that we can understand\n",
    "# an optimization procedure as an OP (operator) as well.\n",
    "optimizer = tf.train.GradientDescentOptimizer(lr).minimize(loss)"
   ]
  },
  {
   "cell_type": "code",
   "execution_count": 13,
   "metadata": {},
   "outputs": [
    {
     "name": "stdout",
     "output_type": "stream",
     "text": [
      "Number of iteration: 0, total_loss = 199.884469628, train accuracy = [0.8732], validation accuracy = [0.88279998]\n",
      "Number of iteration: 1, total_loss = 117.782129318, train accuracy = [0.88987273], validation accuracy = [0.90020001]\n",
      "Number of iteration: 2, total_loss = 105.314049512, train accuracy = [0.89730906], validation accuracy = [0.9052]\n",
      "Number of iteration: 3, total_loss = 99.0058018416, train accuracy = [0.90181816], validation accuracy = [0.90939999]\n",
      "Number of iteration: 4, total_loss = 94.9623123258, train accuracy = [0.90507275], validation accuracy = [0.91180003]\n",
      "Number of iteration: 5, total_loss = 92.16279836, train accuracy = [0.90807271], validation accuracy = [0.91360003]\n",
      "Number of iteration: 6, total_loss = 89.897741735, train accuracy = [0.90936363], validation accuracy = [0.9156]\n",
      "Number of iteration: 7, total_loss = 88.1646697968, train accuracy = [0.91083634], validation accuracy = [0.91720003]\n",
      "Number of iteration: 8, total_loss = 86.7487377077, train accuracy = [0.91178185], validation accuracy = [0.91759998]\n",
      "Number of iteration: 9, total_loss = 85.5719404519, train accuracy = [0.91356361], validation accuracy = [0.91939998]\n",
      "Number of iteration: 10, total_loss = 84.4957223237, train accuracy = [0.91454548], validation accuracy = [0.91979998]\n",
      "Number of iteration: 11, total_loss = 83.6505233496, train accuracy = [0.91556364], validation accuracy = [0.92159998]\n",
      "Number of iteration: 12, total_loss = 82.8539642245, train accuracy = [0.91643637], validation accuracy = [0.92180002]\n",
      "Number of iteration: 13, total_loss = 82.1508695483, train accuracy = [0.91743636], validation accuracy = [0.92079997]\n",
      "Number of iteration: 14, total_loss = 81.4765791446, train accuracy = [0.91818184], validation accuracy = [0.92299998]\n",
      "Number of iteration: 15, total_loss = 80.931245923, train accuracy = [0.91832727], validation accuracy = [0.92299998]\n",
      "Number of iteration: 16, total_loss = 80.4031543434, train accuracy = [0.91916364], validation accuracy = [0.92360002]\n",
      "Number of iteration: 17, total_loss = 79.9384484142, train accuracy = [0.91858184], validation accuracy = [0.92360002]\n",
      "Number of iteration: 18, total_loss = 79.4605081975, train accuracy = [0.91989088], validation accuracy = [0.92519999]\n",
      "Number of iteration: 19, total_loss = 79.0680873841, train accuracy = [0.9205091], validation accuracy = [0.92460001]\n",
      "Number of iteration: 20, total_loss = 78.6978732646, train accuracy = [0.92132729], validation accuracy = [0.92400002]\n",
      "Number of iteration: 21, total_loss = 78.3098920733, train accuracy = [0.92140001], validation accuracy = [0.9242]\n",
      "Number of iteration: 22, total_loss = 77.9961720556, train accuracy = [0.92054546], validation accuracy = [0.92400002]\n",
      "Number of iteration: 23, total_loss = 77.6748320088, train accuracy = [0.9223091], validation accuracy = [0.92519999]\n",
      "Number of iteration: 24, total_loss = 77.3963561952, train accuracy = [0.92247272], validation accuracy = [0.9242]\n",
      "Number of iteration: 25, total_loss = 77.1217606962, train accuracy = [0.92256361], validation accuracy = [0.92619997]\n",
      "Number of iteration: 26, total_loss = 76.8114225268, train accuracy = [0.92243636], validation accuracy = [0.92559999]\n",
      "Number of iteration: 27, total_loss = 76.5923158228, train accuracy = [0.9229818], validation accuracy = [0.92580003]\n",
      "Number of iteration: 28, total_loss = 76.3585521579, train accuracy = [0.92336363], validation accuracy = [0.92680001]\n",
      "Number of iteration: 29, total_loss = 76.1022973657, train accuracy = [0.92418182], validation accuracy = [0.9242]\n",
      "Number of iteration: 30, total_loss = 75.9203055203, train accuracy = [0.92343634], validation accuracy = [0.92580003]\n",
      "Number of iteration: 31, total_loss = 75.6838514954, train accuracy = [0.92465454], validation accuracy = [0.92619997]\n",
      "Number of iteration: 32, total_loss = 75.4631479681, train accuracy = [0.92412728], validation accuracy = [0.926]\n",
      "Number of iteration: 33, total_loss = 75.2577917576, train accuracy = [0.92481816], validation accuracy = [0.92580003]\n",
      "Number of iteration: 34, total_loss = 75.0928152651, train accuracy = [0.92519999], validation accuracy = [0.92559999]\n",
      "Number of iteration: 35, total_loss = 74.9554854482, train accuracy = [0.92443639], validation accuracy = [0.92580003]\n",
      "Number of iteration: 36, total_loss = 74.8113566339, train accuracy = [0.92492729], validation accuracy = [0.92640001]\n",
      "Number of iteration: 37, total_loss = 74.5613064766, train accuracy = [0.92570907], validation accuracy = [0.92519999]\n",
      "Number of iteration: 38, total_loss = 74.4319987148, train accuracy = [0.9254182], validation accuracy = [0.92640001]\n",
      "Number of iteration: 39, total_loss = 74.3013844043, train accuracy = [0.92570907], validation accuracy = [0.9278]\n",
      "Number of iteration: 40, total_loss = 74.1415485591, train accuracy = [0.92618179], validation accuracy = [0.92699999]\n",
      "Number of iteration: 41, total_loss = 74.0137106478, train accuracy = [0.92610908], validation accuracy = [0.92659998]\n",
      "Number of iteration: 42, total_loss = 73.8732572645, train accuracy = [0.92612725], validation accuracy = [0.9278]\n",
      "Number of iteration: 43, total_loss = 73.7214186043, train accuracy = [0.92625457], validation accuracy = [0.92680001]\n",
      "Number of iteration: 44, total_loss = 73.5869345665, train accuracy = [0.92656362], validation accuracy = [0.92720002]\n",
      "Number of iteration: 45, total_loss = 73.4698805809, train accuracy = [0.92650908], validation accuracy = [0.92640001]\n",
      "Number of iteration: 46, total_loss = 73.3253056705, train accuracy = [0.92656362], validation accuracy = [0.92619997]\n",
      "Number of iteration: 47, total_loss = 73.2132214382, train accuracy = [0.92689091], validation accuracy = [0.92640001]\n",
      "Number of iteration: 48, total_loss = 73.0915101916, train accuracy = [0.92652726], validation accuracy = [0.92619997]\n",
      "Number of iteration: 49, total_loss = 72.98961097, train accuracy = [0.9272182], validation accuracy = [0.92739999]\n",
      "Time used for training = 74.8709759712 seconds.\n",
      "MNIST image classification accuracy on test set = [0.92320001]\n"
     ]
    }
   ],
   "source": [
    "# Start training!\n",
    "num_batches = num_train / batch_size\n",
    "losses = []\n",
    "train_accs, valid_accs = [], []\n",
    "time_start = time.time()\n",
    "with tf.Session() as sess:\n",
    "    # Visualize the process in TensorBoard.\n",
    "    writer = tf.summary.FileWriter(\"./graphs\", sess.graph)\n",
    "    # Before evaluating the graph, we should initialize all the variables.\n",
    "    sess.run(tf.global_variables_initializer())\n",
    "    for i in xrange(num_epochs):\n",
    "        # Each training epoch contains num_batches of parameter updates.\n",
    "        total_loss = 0.0\n",
    "        for _ in xrange(num_batches):\n",
    "            # Fetch next mini-batch of data using TensorFlow's default method.\n",
    "            x_batch, y_batch = mnist.train.next_batch(batch_size)\n",
    "            # Note that we also need to include optimizer into the list in order to update parameters, but we \n",
    "            # don't need the return value of optimizer.\n",
    "            _, loss_batch = sess.run([optimizer, loss], feed_dict = {train_x: x_batch, train_y: y_batch})\n",
    "            total_loss += loss_batch\n",
    "        # Compute training set and validation set accuracy after each epoch.\n",
    "        train_acc = sess.run([accuracy], feed_dict = {train_x: mnist.train.images, train_y: mnist.train.labels})\n",
    "        valid_acc = sess.run([accuracy], feed_dict = {train_x: mnist.validation.images, train_y: mnist.validation.labels})\n",
    "        losses.append(total_loss)\n",
    "        train_accs.append(train_acc)\n",
    "        valid_accs.append(valid_acc)\n",
    "        print \"Number of iteration: {}, total_loss = {}, train accuracy = {}, validation accuracy = {}\".format(i, total_loss, train_acc, valid_acc)\n",
    "    # Evaluate the test set accuracy at the end.\n",
    "    test_acc = sess.run([accuracy], feed_dict = {train_x: mnist.test.images, train_y: mnist.test.labels})\n",
    "time_end = time.time()\n",
    "print \"Time used for training = {} seconds.\".format(time_end - time_start)\n",
    "print \"MNIST image classification accuracy on test set = {}\".format(test_acc)"
   ]
  },
  {
   "cell_type": "code",
   "execution_count": 14,
   "metadata": {},
   "outputs": [
    {
     "data": {
      "image/png": "[encoded data removed]",
      "text/plain": [
       "<matplotlib.figure.Figure at 0x11b237890>"
      ]
     },
     "metadata": {},
     "output_type": "display_data"
    }
   ],
   "source": [
    "# Plot the losses during training.\n",
    "plt.figure()\n",
    "plt.title(\"Logistic regression with TensorFlow\")\n",
    "plt.plot(losses, \"b-o\", linewidth=2)\n",
    "plt.grid(True)\n",
    "plt.xlabel(\"Iteration\")\n",
    "plt.ylabel(\"Cross-entropy\")\n",
    "plt.show()"
   ]
  },
  {
   "cell_type": "code",
   "execution_count": null,
   "metadata": {
    "collapsed": true
   },
   "outputs": [],
   "source": []
  }
 ],
 "metadata": {
  "kernelspec": {
   "display_name": "Python 3",
   "language": "python",
   "name": "python3"
  },
  "language_info": {
   "codemirror_mode": {
    "name": "ipython",
    "version": 3
   },
   "file_extension": ".py",
   "mimetype": "text/x-python",
   "name": "python",
   "nbconvert_exporter": "python",
   "pygments_lexer": "ipython3",
   "version": "3.6.4"
  }
 },
 "nbformat": 4,
 "nbformat_minor": 2
}
