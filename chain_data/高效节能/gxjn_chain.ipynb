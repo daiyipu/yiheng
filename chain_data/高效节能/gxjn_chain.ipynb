{
 "cells": [
  {
   "cell_type": "code",
   "execution_count": 1,
   "id": "c49bea16",
   "metadata": {},
   "outputs": [],
   "source": [
    "import pandas as pd\n",
    "import numpy as np\n",
    "# from dyp.chainop import node_trans\n",
    "import dyp_dim.chainop as cp"
   ]
  },
  {
   "cell_type": "markdown",
   "id": "c142cc28",
   "metadata": {},
   "source": [
    "高效节能产业链"
   ]
  },
  {
   "cell_type": "code",
   "execution_count": 2,
   "id": "2673fe60",
   "metadata": {},
   "outputs": [],
   "source": [
    "node_gxjn=pd.read_excel(r'C:\\Users\\admin\\Documents\\GitHub\\yiheng\\chain_data\\高效节能\\高效节能20231115.xlsx')"
   ]
  },
  {
   "cell_type": "code",
   "execution_count": 3,
   "id": "3063548d",
   "metadata": {},
   "outputs": [],
   "source": [
    "node_gxjn_list=cp.node_trans(node_gxjn)"
   ]
  },
  {
   "cell_type": "code",
   "execution_count": 4,
   "id": "48e002ac",
   "metadata": {},
   "outputs": [],
   "source": [
    "node_gxjn_pd=pd.DataFrame(node_gxjn_list,columns=['node_col_rank','father_node_name','node_name'])"
   ]
  },
  {
   "cell_type": "code",
   "execution_count": 5,
   "id": "54535e90",
   "metadata": {},
   "outputs": [
    {
     "data": {
      "text/html": [
       "<div>\n",
       "<style scoped>\n",
       "    .dataframe tbody tr th:only-of-type {\n",
       "        vertical-align: middle;\n",
       "    }\n",
       "\n",
       "    .dataframe tbody tr th {\n",
       "        vertical-align: top;\n",
       "    }\n",
       "\n",
       "    .dataframe thead th {\n",
       "        text-align: right;\n",
       "    }\n",
       "</style>\n",
       "<table border=\"1\" class=\"dataframe\">\n",
       "  <thead>\n",
       "    <tr style=\"text-align: right;\">\n",
       "      <th></th>\n",
       "      <th>node_col_rank</th>\n",
       "      <th>father_node_name</th>\n",
       "      <th>node_name</th>\n",
       "      <th>node_code</th>\n",
       "    </tr>\n",
       "  </thead>\n",
       "  <tbody>\n",
       "    <tr>\n",
       "      <th>0</th>\n",
       "      <td>0</td>\n",
       "      <td>高效节能</td>\n",
       "      <td>上游</td>\n",
       "      <td>03601</td>\n",
       "    </tr>\n",
       "    <tr>\n",
       "      <th>1</th>\n",
       "      <td>0</td>\n",
       "      <td>高效节能</td>\n",
       "      <td>中游</td>\n",
       "      <td>03602</td>\n",
       "    </tr>\n",
       "    <tr>\n",
       "      <th>2</th>\n",
       "      <td>0</td>\n",
       "      <td>高效节能</td>\n",
       "      <td>下游</td>\n",
       "      <td>03603</td>\n",
       "    </tr>\n",
       "    <tr>\n",
       "      <th>3</th>\n",
       "      <td>1</td>\n",
       "      <td>上游</td>\n",
       "      <td>节能机械材料</td>\n",
       "      <td>0360101</td>\n",
       "    </tr>\n",
       "    <tr>\n",
       "      <th>4</th>\n",
       "      <td>1</td>\n",
       "      <td>上游</td>\n",
       "      <td>节能电气器材</td>\n",
       "      <td>0360102</td>\n",
       "    </tr>\n",
       "    <tr>\n",
       "      <th>...</th>\n",
       "      <td>...</td>\n",
       "      <td>...</td>\n",
       "      <td>...</td>\n",
       "      <td>...</td>\n",
       "    </tr>\n",
       "    <tr>\n",
       "      <th>128</th>\n",
       "      <td>4</td>\n",
       "      <td>节能厨房电器</td>\n",
       "      <td>节能电磁炉</td>\n",
       "      <td>0360201040501</td>\n",
       "    </tr>\n",
       "    <tr>\n",
       "      <th>129</th>\n",
       "      <td>4</td>\n",
       "      <td>节能厨房电器</td>\n",
       "      <td>节能型电冰箱</td>\n",
       "      <td>0360201040502</td>\n",
       "    </tr>\n",
       "    <tr>\n",
       "      <th>130</th>\n",
       "      <td>4</td>\n",
       "      <td>节能厨房电器</td>\n",
       "      <td>节能电饭煲</td>\n",
       "      <td>0360201040503</td>\n",
       "    </tr>\n",
       "    <tr>\n",
       "      <th>131</th>\n",
       "      <td>4</td>\n",
       "      <td>节能清洁卫生电器</td>\n",
       "      <td>节能热水器</td>\n",
       "      <td>0360201040601</td>\n",
       "    </tr>\n",
       "    <tr>\n",
       "      <th>132</th>\n",
       "      <td>4</td>\n",
       "      <td>节能清洁卫生电器</td>\n",
       "      <td>节能洗衣机</td>\n",
       "      <td>0360201040602</td>\n",
       "    </tr>\n",
       "  </tbody>\n",
       "</table>\n",
       "<p>133 rows × 4 columns</p>\n",
       "</div>"
      ],
      "text/plain": [
       "    node_col_rank father_node_name node_name      node_code\n",
       "0               0             高效节能        上游          03601\n",
       "1               0             高效节能        中游          03602\n",
       "2               0             高效节能        下游          03603\n",
       "3               1               上游    节能机械材料        0360101\n",
       "4               1               上游    节能电气器材        0360102\n",
       "..            ...              ...       ...            ...\n",
       "128             4           节能厨房电器     节能电磁炉  0360201040501\n",
       "129             4           节能厨房电器    节能型电冰箱  0360201040502\n",
       "130             4           节能厨房电器     节能电饭煲  0360201040503\n",
       "131             4         节能清洁卫生电器     节能热水器  0360201040601\n",
       "132             4         节能清洁卫生电器     节能洗衣机  0360201040602\n",
       "\n",
       "[133 rows x 4 columns]"
      ]
     },
     "execution_count": 5,
     "metadata": {},
     "output_type": "execute_result"
    }
   ],
   "source": [
    "df=node_gxjn_pd\n",
    "chain_code='036'\n",
    "node_code_col='node_code'\n",
    "chain_name='高效节能'\n",
    "father_node_name_col='father_node_name'\n",
    "node_name_col='node_name'\n",
    "cp.node_code(df,chain_code,node_code_col,chain_name,father_node_name_col,node_name_col)"
   ]
  },
  {
   "cell_type": "code",
   "execution_count": 6,
   "id": "4440c34a",
   "metadata": {},
   "outputs": [],
   "source": [
    "node_gxjn_pd.set_index('node_code',inplace=True)"
   ]
  },
  {
   "cell_type": "code",
   "execution_count": 7,
   "id": "49613692",
   "metadata": {},
   "outputs": [],
   "source": [
    "node_gxjn_pd.to_excel(r'C:\\Users\\admin\\Documents\\GitHub\\yiheng\\chain_data\\高效节能\\高效节能20231116V0.3.xlsx')"
   ]
  }
 ],
 "metadata": {
  "kernelspec": {
   "display_name": "Python 3 (ipykernel)",
   "language": "python",
   "name": "python3"
  },
  "language_info": {
   "codemirror_mode": {
    "name": "ipython",
    "version": 3
   },
   "file_extension": ".py",
   "mimetype": "text/x-python",
   "name": "python",
   "nbconvert_exporter": "python",
   "pygments_lexer": "ipython3",
   "version": "3.10.9"
  },
  "vscode": {
   "interpreter": {
    "hash": "54211c05e09d394f8791ace9410f9ddb6ad5ec01af5e4a157b0dd24b8a8127d0"
   }
  }
 },
 "nbformat": 4,
 "nbformat_minor": 5
}
