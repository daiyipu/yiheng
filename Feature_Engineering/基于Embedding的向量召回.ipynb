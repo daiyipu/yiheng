{
 "cells": [
  {
   "cell_type": "markdown",
   "metadata": {},
   "source": [
    "## 基于Embedding的电影相关推荐\n",
    "\n",
    "知识：\n",
    "* word2vec：输入(doc, words)，得到word embedding\n",
    "* item2vec：输入（userid, itemids），得到item embedding\n",
    "\n",
    "说明：\n",
    "* 使用标题/内容的分词embedding作推荐，属于内容相似推荐\n",
    "* 使用行为列表作embedding作推荐，属于行为相关推荐，效果比内容相似推荐更好\n",
    "\n",
    "延伸：\n",
    "* 把word embedding进行加和、平均，就得到了document embedding；\n",
    "* 把item embedding进行加和、平均，就得到了user embedding；"
   ]
  },
  {
   "cell_type": "markdown",
   "metadata": {},
   "source": [
    "## 获取数据"
   ]
  },
  {
   "cell_type": "code",
   "execution_count": 1,
   "metadata": {},
   "outputs": [],
   "source": [
    "import pandas as pd\n",
    "from gensim.models import Word2Vec\n",
    "from tqdm import  tqdm"
   ]
  },
  {
   "cell_type": "code",
   "execution_count": 2,
   "metadata": {
    "scrolled": true
   },
   "outputs": [
    {
     "data": {
      "text/html": [
       "<div>\n",
       "<style>\n",
       "    .dataframe thead tr:only-child th {\n",
       "        text-align: right;\n",
       "    }\n",
       "\n",
       "    .dataframe thead th {\n",
       "        text-align: left;\n",
       "    }\n",
       "\n",
       "    .dataframe tbody tr th {\n",
       "        vertical-align: top;\n",
       "    }\n",
       "</style>\n",
       "<table border=\"1\" class=\"dataframe\">\n",
       "  <thead>\n",
       "    <tr style=\"text-align: right;\">\n",
       "      <th></th>\n",
       "      <th>userId</th>\n",
       "      <th>movieId</th>\n",
       "      <th>rating</th>\n",
       "      <th>timestamp</th>\n",
       "    </tr>\n",
       "  </thead>\n",
       "  <tbody>\n",
       "    <tr>\n",
       "      <th>0</th>\n",
       "      <td>1</td>\n",
       "      <td>1</td>\n",
       "      <td>4.0</td>\n",
       "      <td>964982703</td>\n",
       "    </tr>\n",
       "    <tr>\n",
       "      <th>1</th>\n",
       "      <td>1</td>\n",
       "      <td>3</td>\n",
       "      <td>4.0</td>\n",
       "      <td>964981247</td>\n",
       "    </tr>\n",
       "    <tr>\n",
       "      <th>2</th>\n",
       "      <td>1</td>\n",
       "      <td>6</td>\n",
       "      <td>4.0</td>\n",
       "      <td>964982224</td>\n",
       "    </tr>\n",
       "    <tr>\n",
       "      <th>3</th>\n",
       "      <td>1</td>\n",
       "      <td>47</td>\n",
       "      <td>5.0</td>\n",
       "      <td>964983815</td>\n",
       "    </tr>\n",
       "    <tr>\n",
       "      <th>4</th>\n",
       "      <td>1</td>\n",
       "      <td>50</td>\n",
       "      <td>5.0</td>\n",
       "      <td>964982931</td>\n",
       "    </tr>\n",
       "  </tbody>\n",
       "</table>\n",
       "</div>"
      ],
      "text/plain": [
       "   userId  movieId  rating  timestamp\n",
       "0       1        1     4.0  964982703\n",
       "1       1        3     4.0  964981247\n",
       "2       1        6     4.0  964982224\n",
       "3       1       47     5.0  964983815\n",
       "4       1       50     5.0  964982931"
      ]
     },
     "execution_count": 2,
     "metadata": {},
     "output_type": "execute_result"
    }
   ],
   "source": [
    "df = pd.read_csv(\"./ml-latest-small/ratings.csv\")\n",
    "df.head()"
   ]
  },
  {
   "cell_type": "code",
   "execution_count": 3,
   "metadata": {
    "scrolled": true
   },
   "outputs": [
    {
     "data": {
      "text/plain": [
       "3.501556983616962"
      ]
     },
     "execution_count": 3,
     "metadata": {},
     "output_type": "execute_result"
    }
   ],
   "source": [
    "df[\"rating\"].mean()"
   ]
  },
  {
   "cell_type": "code",
   "execution_count": 4,
   "metadata": {},
   "outputs": [
    {
     "data": {
      "text/html": [
       "<div>\n",
       "<style>\n",
       "    .dataframe thead tr:only-child th {\n",
       "        text-align: right;\n",
       "    }\n",
       "\n",
       "    .dataframe thead th {\n",
       "        text-align: left;\n",
       "    }\n",
       "\n",
       "    .dataframe tbody tr th {\n",
       "        vertical-align: top;\n",
       "    }\n",
       "</style>\n",
       "<table border=\"1\" class=\"dataframe\">\n",
       "  <thead>\n",
       "    <tr style=\"text-align: right;\">\n",
       "      <th></th>\n",
       "      <th>userId</th>\n",
       "      <th>movieId</th>\n",
       "      <th>rating</th>\n",
       "      <th>timestamp</th>\n",
       "    </tr>\n",
       "  </thead>\n",
       "  <tbody>\n",
       "    <tr>\n",
       "      <th>0</th>\n",
       "      <td>1</td>\n",
       "      <td>1</td>\n",
       "      <td>4.0</td>\n",
       "      <td>964982703</td>\n",
       "    </tr>\n",
       "    <tr>\n",
       "      <th>1</th>\n",
       "      <td>1</td>\n",
       "      <td>3</td>\n",
       "      <td>4.0</td>\n",
       "      <td>964981247</td>\n",
       "    </tr>\n",
       "    <tr>\n",
       "      <th>2</th>\n",
       "      <td>1</td>\n",
       "      <td>6</td>\n",
       "      <td>4.0</td>\n",
       "      <td>964982224</td>\n",
       "    </tr>\n",
       "    <tr>\n",
       "      <th>3</th>\n",
       "      <td>1</td>\n",
       "      <td>47</td>\n",
       "      <td>5.0</td>\n",
       "      <td>964983815</td>\n",
       "    </tr>\n",
       "    <tr>\n",
       "      <th>4</th>\n",
       "      <td>1</td>\n",
       "      <td>50</td>\n",
       "      <td>5.0</td>\n",
       "      <td>964982931</td>\n",
       "    </tr>\n",
       "  </tbody>\n",
       "</table>\n",
       "</div>"
      ],
      "text/plain": [
       "   userId  movieId  rating  timestamp\n",
       "0       1        1     4.0  964982703\n",
       "1       1        3     4.0  964981247\n",
       "2       1        6     4.0  964982224\n",
       "3       1       47     5.0  964983815\n",
       "4       1       50     5.0  964982931"
      ]
     },
     "execution_count": 4,
     "metadata": {},
     "output_type": "execute_result"
    }
   ],
   "source": [
    "# 只取平均分以上的数据，作为喜欢的列表\n",
    "df = df[df[\"rating\"] > df[\"rating\"].mean()].copy()\n",
    "df.head()"
   ]
  },
  {
   "cell_type": "code",
   "execution_count": 5,
   "metadata": {},
   "outputs": [],
   "source": [
    "# # 聚合得到userId，movieId列表\n",
    "# df_group = df.groupby(['userId'])['movieId'].apply(lambda x: ' '.join([str(m) for m in x])).reset_index()\n",
    "# df_group.head()"
   ]
  },
  {
   "cell_type": "markdown",
   "metadata": {},
   "source": [
    "## Item2Vec"
   ]
  },
  {
   "cell_type": "code",
   "execution_count": 6,
   "metadata": {
    "scrolled": true
   },
   "outputs": [],
   "source": [
    "def get_w2v(sentences, f1, f2, values, emb_size): \n",
    "    \n",
    "    model = Word2Vec(sentences, size=emb_size, sg=1, window=10, seed=2020, workers=24, min_count=5, iter=10)\n",
    "    \n",
    "    w2v=[]\n",
    "    for v in values:\n",
    "        try:\n",
    "            a = [int(v)]\n",
    "            a.extend(model[str(v)])\n",
    "            w2v.append(a)\n",
    "        except: \n",
    "#         except Exception as e: # [wtb]\n",
    "#             print(e) # [wtb]\n",
    "            a = [int(v)]\n",
    "            a.extend([0] * emb_size)\n",
    "            w2v.append(a)\n",
    "    \n",
    "    out_df = []\n",
    "    for li in w2v:\n",
    "        out_df.append([li[0],li[1:]])\n",
    "        \n",
    "    out_df = pd.DataFrame(out_df)\n",
    "    out_df.columns = [f2] + ['vector']\n",
    "    \n",
    "    return out_df\n",
    "\n",
    "    \n",
    "def item2vec(df_, f1, f2, emb_size):\n",
    "    \n",
    "    df = df_.copy()\n",
    "    df = df.sort_values('timestamp', ascending=True)\n",
    "    # 聚合\n",
    "#     sentences = df.groupby([f1])[f2].agg({list}).reset_index()['list'].values.tolist()\n",
    "    sentences = df.groupby([f1])[f2].apply(lambda x:x.tolist()).tolist() # [wtb]\n",
    "    for i in range(len(sentences)):\n",
    "        sentences[i] = [str(x) for x in sentences[i]]\n",
    "    \n",
    "    values = df[f2].unique()\n",
    "    out_df = get_w2v(sentences, f1, f2, values, emb_size)\n",
    "    \n",
    "    return out_df"
   ]
  },
  {
   "cell_type": "code",
   "execution_count": 7,
   "metadata": {
    "scrolled": true
   },
   "outputs": [
    {
     "name": "stderr",
     "output_type": "stream",
     "text": [
      "C:\\Users\\魏天保\\AppData\\Roaming\\Python\\Python36\\site-packages\\ipykernel_launcher.py:9: DeprecationWarning: Call to deprecated `__getitem__` (Method will be removed in 4.0.0, use self.wv.__getitem__() instead).\n",
      "  if __name__ == '__main__':\n"
     ]
    }
   ],
   "source": [
    "emb_df = item2vec(df, 'userId', 'movieId', 16)"
   ]
  },
  {
   "cell_type": "code",
   "execution_count": 96,
   "metadata": {
    "scrolled": true
   },
   "outputs": [
    {
     "data": {
      "text/html": [
       "<div>\n",
       "<style scoped>\n",
       "    .dataframe tbody tr th:only-of-type {\n",
       "        vertical-align: middle;\n",
       "    }\n",
       "\n",
       "    .dataframe tbody tr th {\n",
       "        vertical-align: top;\n",
       "    }\n",
       "\n",
       "    .dataframe thead th {\n",
       "        text-align: right;\n",
       "    }\n",
       "</style>\n",
       "<table border=\"1\" class=\"dataframe\">\n",
       "  <thead>\n",
       "    <tr style=\"text-align: right;\">\n",
       "      <th></th>\n",
       "      <th>movieId</th>\n",
       "      <th>vector</th>\n",
       "    </tr>\n",
       "  </thead>\n",
       "  <tbody>\n",
       "    <tr>\n",
       "      <th>0</th>\n",
       "      <td>595</td>\n",
       "      <td>[1.1373544, -0.021706775, 0.8192812, -1.206789...</td>\n",
       "    </tr>\n",
       "    <tr>\n",
       "      <th>1</th>\n",
       "      <td>218</td>\n",
       "      <td>[1.2743996, 0.32304937, 0.31059283, -1.6139778...</td>\n",
       "    </tr>\n",
       "    <tr>\n",
       "      <th>2</th>\n",
       "      <td>165</td>\n",
       "      <td>[1.567091, 0.50059074, 1.1967809, -1.1232501, ...</td>\n",
       "    </tr>\n",
       "    <tr>\n",
       "      <th>3</th>\n",
       "      <td>161</td>\n",
       "      <td>[1.7992687, 0.5040063, 0.7863472, -1.358738, -...</td>\n",
       "    </tr>\n",
       "    <tr>\n",
       "      <th>4</th>\n",
       "      <td>222</td>\n",
       "      <td>[1.0681629, 0.21331586, 0.30408907, -1.3941166...</td>\n",
       "    </tr>\n",
       "    <tr>\n",
       "      <th>...</th>\n",
       "      <td>...</td>\n",
       "      <td>...</td>\n",
       "    </tr>\n",
       "    <tr>\n",
       "      <th>6293</th>\n",
       "      <td>193609</td>\n",
       "      <td>[0, 0, 0, 0, 0, 0, 0, 0, 0, 0, 0, 0, 0, 0, 0, 0]</td>\n",
       "    </tr>\n",
       "    <tr>\n",
       "      <th>6294</th>\n",
       "      <td>159755</td>\n",
       "      <td>[0, 0, 0, 0, 0, 0, 0, 0, 0, 0, 0, 0, 0, 0, 0, 0]</td>\n",
       "    </tr>\n",
       "    <tr>\n",
       "      <th>6295</th>\n",
       "      <td>130444</td>\n",
       "      <td>[0, 0, 0, 0, 0, 0, 0, 0, 0, 0, 0, 0, 0, 0, 0, 0]</td>\n",
       "    </tr>\n",
       "    <tr>\n",
       "      <th>6296</th>\n",
       "      <td>166203</td>\n",
       "      <td>[0, 0, 0, 0, 0, 0, 0, 0, 0, 0, 0, 0, 0, 0, 0, 0]</td>\n",
       "    </tr>\n",
       "    <tr>\n",
       "      <th>6297</th>\n",
       "      <td>179511</td>\n",
       "      <td>[0, 0, 0, 0, 0, 0, 0, 0, 0, 0, 0, 0, 0, 0, 0, 0]</td>\n",
       "    </tr>\n",
       "  </tbody>\n",
       "</table>\n",
       "<p>6298 rows × 2 columns</p>\n",
       "</div>"
      ],
      "text/plain": [
       "      movieId                                             vector\n",
       "0         595  [1.1373544, -0.021706775, 0.8192812, -1.206789...\n",
       "1         218  [1.2743996, 0.32304937, 0.31059283, -1.6139778...\n",
       "2         165  [1.567091, 0.50059074, 1.1967809, -1.1232501, ...\n",
       "3         161  [1.7992687, 0.5040063, 0.7863472, -1.358738, -...\n",
       "4         222  [1.0681629, 0.21331586, 0.30408907, -1.3941166...\n",
       "...       ...                                                ...\n",
       "6293   193609   [0, 0, 0, 0, 0, 0, 0, 0, 0, 0, 0, 0, 0, 0, 0, 0]\n",
       "6294   159755   [0, 0, 0, 0, 0, 0, 0, 0, 0, 0, 0, 0, 0, 0, 0, 0]\n",
       "6295   130444   [0, 0, 0, 0, 0, 0, 0, 0, 0, 0, 0, 0, 0, 0, 0, 0]\n",
       "6296   166203   [0, 0, 0, 0, 0, 0, 0, 0, 0, 0, 0, 0, 0, 0, 0, 0]\n",
       "6297   179511   [0, 0, 0, 0, 0, 0, 0, 0, 0, 0, 0, 0, 0, 0, 0, 0]\n",
       "\n",
       "[6298 rows x 2 columns]"
      ]
     },
     "execution_count": 96,
     "metadata": {},
     "output_type": "execute_result"
    }
   ],
   "source": [
    "emb_df"
   ]
  },
  {
   "cell_type": "code",
   "execution_count": 100,
   "metadata": {},
   "outputs": [
    {
     "data": {
      "text/html": [
       "<div>\n",
       "<style scoped>\n",
       "    .dataframe tbody tr th:only-of-type {\n",
       "        vertical-align: middle;\n",
       "    }\n",
       "\n",
       "    .dataframe tbody tr th {\n",
       "        vertical-align: top;\n",
       "    }\n",
       "\n",
       "    .dataframe thead th {\n",
       "        text-align: right;\n",
       "    }\n",
       "</style>\n",
       "<table border=\"1\" class=\"dataframe\">\n",
       "  <thead>\n",
       "    <tr style=\"text-align: right;\">\n",
       "      <th></th>\n",
       "      <th>userId</th>\n",
       "      <th>movieId</th>\n",
       "      <th>rating</th>\n",
       "      <th>timestamp</th>\n",
       "    </tr>\n",
       "  </thead>\n",
       "  <tbody>\n",
       "    <tr>\n",
       "      <th>30157</th>\n",
       "      <td>210</td>\n",
       "      <td>130444</td>\n",
       "      <td>4.0</td>\n",
       "      <td>1537632310</td>\n",
       "    </tr>\n",
       "  </tbody>\n",
       "</table>\n",
       "</div>"
      ],
      "text/plain": [
       "       userId  movieId  rating   timestamp\n",
       "30157     210   130444     4.0  1537632310"
      ]
     },
     "execution_count": 100,
     "metadata": {},
     "output_type": "execute_result"
    }
   ],
   "source": [
    "df[df['movieId']==130444]"
   ]
  },
  {
   "cell_type": "markdown",
   "metadata": {},
   "source": [
    "## DeepWalk"
   ]
  },
  {
   "cell_type": "code",
   "execution_count": 101,
   "metadata": {},
   "outputs": [],
   "source": [
    "def deepwalk_walk(walk_length, start_node):\n",
    "\n",
    "    walk = [start_node]\n",
    "\n",
    "    while len(walk) <= walk_length:\n",
    "        cur = walk[-1]\n",
    "        try:\n",
    "            cur_nbrs = item_dict_new[cur]\n",
    "            walk.append(random.choice(cur_nbrs))\n",
    "        except:\n",
    "            break\n",
    "    return walk\n",
    "\n",
    "def _simulate_walks(nodes, num_walks, walk_length,):\n",
    "    walks = []\n",
    "    for _ in tqdm(range(num_walks)):\n",
    "        random.shuffle(nodes)\n",
    "        for v in nodes:           \n",
    "            walks.append(deepwalk_walk(walk_length=walk_length, start_node=v))\n",
    "    return walks\n",
    "\n",
    "def deepwalk(df_, f1, f2, emb_size):\n",
    "    \n",
    "    df = df_.copy()\n",
    "    \n",
    "    item_dict_new = {}\n",
    "    all_item = []\n",
    "    \n",
    "    # 聚合\n",
    "    sentences = df.groupby([f1])[f2].agg({list}).reset_index()['list'].values.tolist()\n",
    "    for i in range(len(sentences)):\n",
    "        sentences[i] = [str(x) for x in sentences[i]]\n",
    "    \n",
    "    # 提取共现商品\n",
    "    for sentence in sentences:\n",
    "        length = len(sentence)\n",
    "        for position, itemId in enumerate(sentence):\n",
    "            # 提取窗口内可组合商品（窗口可以调整）\n",
    "            for i in range(position-1, position+2):\n",
    "                if (i < 0) | (i >= length) | (i == position):\n",
    "                    continue\n",
    "                try:\n",
    "                    item_dict_new[itemId].append(sentence[i]) \n",
    "                except:\n",
    "                    item_dict_new[itemId] = [sentence[i]]\n",
    "    \n",
    "    nodes = [k for k in item_dict_new]\n",
    "    num_walks = 5\n",
    "    walk_length = 20\n",
    "    results = _simulate_walks(nodes, num_walks, walk_length)\n",
    "    len(results)\n",
    "    \n",
    "    values = df[f2].unique()\n",
    "    \n",
    "    out_df = get_w2v(results, f1, f2, values, emb_size)\n",
    "    \n",
    "    return out_df"
   ]
  },
  {
   "cell_type": "code",
   "execution_count": 102,
   "metadata": {},
   "outputs": [
    {
     "name": "stderr",
     "output_type": "stream",
     "text": [
      "100%|██████████| 5/5 [00:00<00:00, 128.68it/s]\n",
      "<ipython-input-94-5115f823fffa>:9: DeprecationWarning: Call to deprecated `__getitem__` (Method will be removed in 4.0.0, use self.wv.__getitem__() instead).\n",
      "  a.extend(model[str(v)])\n"
     ]
    }
   ],
   "source": [
    "import random\n",
    "emb_df = deepwalk(df, 'userId', 'movieId', 16)"
   ]
  },
  {
   "cell_type": "code",
   "execution_count": 103,
   "metadata": {},
   "outputs": [
    {
     "data": {
      "text/html": [
       "<div>\n",
       "<style scoped>\n",
       "    .dataframe tbody tr th:only-of-type {\n",
       "        vertical-align: middle;\n",
       "    }\n",
       "\n",
       "    .dataframe tbody tr th {\n",
       "        vertical-align: top;\n",
       "    }\n",
       "\n",
       "    .dataframe thead th {\n",
       "        text-align: right;\n",
       "    }\n",
       "</style>\n",
       "<table border=\"1\" class=\"dataframe\">\n",
       "  <thead>\n",
       "    <tr style=\"text-align: right;\">\n",
       "      <th></th>\n",
       "      <th>movieId</th>\n",
       "      <th>vector</th>\n",
       "    </tr>\n",
       "  </thead>\n",
       "  <tbody>\n",
       "    <tr>\n",
       "      <th>0</th>\n",
       "      <td>1</td>\n",
       "      <td>[0.009563226, 0.016655952, -0.00384119, 0.0240...</td>\n",
       "    </tr>\n",
       "    <tr>\n",
       "      <th>1</th>\n",
       "      <td>3</td>\n",
       "      <td>[-0.017449005, 0.016240655, 0.0057858294, -0.0...</td>\n",
       "    </tr>\n",
       "    <tr>\n",
       "      <th>2</th>\n",
       "      <td>6</td>\n",
       "      <td>[0.004522709, -0.02596823, -0.028129607, 0.017...</td>\n",
       "    </tr>\n",
       "    <tr>\n",
       "      <th>3</th>\n",
       "      <td>47</td>\n",
       "      <td>[0.009782434, -0.013077681, 0.02617319, -0.014...</td>\n",
       "    </tr>\n",
       "    <tr>\n",
       "      <th>4</th>\n",
       "      <td>50</td>\n",
       "      <td>[0.0034451142, 0.018996798, -0.031216076, -0.0...</td>\n",
       "    </tr>\n",
       "    <tr>\n",
       "      <th>...</th>\n",
       "      <td>...</td>\n",
       "      <td>...</td>\n",
       "    </tr>\n",
       "    <tr>\n",
       "      <th>6293</th>\n",
       "      <td>146309</td>\n",
       "      <td>[0.012493482, -0.026021998, -0.0076573594, 0.0...</td>\n",
       "    </tr>\n",
       "    <tr>\n",
       "      <th>6294</th>\n",
       "      <td>147657</td>\n",
       "      <td>[0.018867752, -0.023672048, 0.024560645, -0.01...</td>\n",
       "    </tr>\n",
       "    <tr>\n",
       "      <th>6295</th>\n",
       "      <td>156726</td>\n",
       "      <td>[-0.0019405718, -0.012622927, 0.02136726, 0.02...</td>\n",
       "    </tr>\n",
       "    <tr>\n",
       "      <th>6296</th>\n",
       "      <td>160527</td>\n",
       "      <td>[0.005002662, 0.004477478, 0.0028757523, -0.00...</td>\n",
       "    </tr>\n",
       "    <tr>\n",
       "      <th>6297</th>\n",
       "      <td>161634</td>\n",
       "      <td>[-0.004441399, 0.015757564, 0.016518839, 0.029...</td>\n",
       "    </tr>\n",
       "  </tbody>\n",
       "</table>\n",
       "<p>6298 rows × 2 columns</p>\n",
       "</div>"
      ],
      "text/plain": [
       "      movieId                                             vector\n",
       "0           1  [0.009563226, 0.016655952, -0.00384119, 0.0240...\n",
       "1           3  [-0.017449005, 0.016240655, 0.0057858294, -0.0...\n",
       "2           6  [0.004522709, -0.02596823, -0.028129607, 0.017...\n",
       "3          47  [0.009782434, -0.013077681, 0.02617319, -0.014...\n",
       "4          50  [0.0034451142, 0.018996798, -0.031216076, -0.0...\n",
       "...       ...                                                ...\n",
       "6293   146309  [0.012493482, -0.026021998, -0.0076573594, 0.0...\n",
       "6294   147657  [0.018867752, -0.023672048, 0.024560645, -0.01...\n",
       "6295   156726  [-0.0019405718, -0.012622927, 0.02136726, 0.02...\n",
       "6296   160527  [0.005002662, 0.004477478, 0.0028757523, -0.00...\n",
       "6297   161634  [-0.004441399, 0.015757564, 0.016518839, 0.029...\n",
       "\n",
       "[6298 rows x 2 columns]"
      ]
     },
     "execution_count": 103,
     "metadata": {},
     "output_type": "execute_result"
    }
   ],
   "source": [
    "emb_df"
   ]
  },
  {
   "cell_type": "markdown",
   "metadata": {},
   "source": [
    "## 对于给定电影算出最相似的10个电影"
   ]
  },
  {
   "cell_type": "code",
   "execution_count": 104,
   "metadata": {},
   "outputs": [
    {
     "data": {
      "text/html": [
       "<div>\n",
       "<style scoped>\n",
       "    .dataframe tbody tr th:only-of-type {\n",
       "        vertical-align: middle;\n",
       "    }\n",
       "\n",
       "    .dataframe tbody tr th {\n",
       "        vertical-align: top;\n",
       "    }\n",
       "\n",
       "    .dataframe thead th {\n",
       "        text-align: right;\n",
       "    }\n",
       "</style>\n",
       "<table border=\"1\" class=\"dataframe\">\n",
       "  <thead>\n",
       "    <tr style=\"text-align: right;\">\n",
       "      <th></th>\n",
       "      <th>movieId</th>\n",
       "      <th>title</th>\n",
       "      <th>genres</th>\n",
       "    </tr>\n",
       "  </thead>\n",
       "  <tbody>\n",
       "    <tr>\n",
       "      <th>0</th>\n",
       "      <td>1</td>\n",
       "      <td>Toy Story (1995)</td>\n",
       "      <td>Adventure|Animation|Children|Comedy|Fantasy</td>\n",
       "    </tr>\n",
       "    <tr>\n",
       "      <th>1</th>\n",
       "      <td>2</td>\n",
       "      <td>Jumanji (1995)</td>\n",
       "      <td>Adventure|Children|Fantasy</td>\n",
       "    </tr>\n",
       "    <tr>\n",
       "      <th>2</th>\n",
       "      <td>3</td>\n",
       "      <td>Grumpier Old Men (1995)</td>\n",
       "      <td>Comedy|Romance</td>\n",
       "    </tr>\n",
       "    <tr>\n",
       "      <th>3</th>\n",
       "      <td>4</td>\n",
       "      <td>Waiting to Exhale (1995)</td>\n",
       "      <td>Comedy|Drama|Romance</td>\n",
       "    </tr>\n",
       "    <tr>\n",
       "      <th>4</th>\n",
       "      <td>5</td>\n",
       "      <td>Father of the Bride Part II (1995)</td>\n",
       "      <td>Comedy</td>\n",
       "    </tr>\n",
       "  </tbody>\n",
       "</table>\n",
       "</div>"
      ],
      "text/plain": [
       "   movieId                               title  \\\n",
       "0        1                    Toy Story (1995)   \n",
       "1        2                      Jumanji (1995)   \n",
       "2        3             Grumpier Old Men (1995)   \n",
       "3        4            Waiting to Exhale (1995)   \n",
       "4        5  Father of the Bride Part II (1995)   \n",
       "\n",
       "                                        genres  \n",
       "0  Adventure|Animation|Children|Comedy|Fantasy  \n",
       "1                   Adventure|Children|Fantasy  \n",
       "2                               Comedy|Romance  \n",
       "3                         Comedy|Drama|Romance  \n",
       "4                                       Comedy  "
      ]
     },
     "execution_count": 104,
     "metadata": {},
     "output_type": "execute_result"
    }
   ],
   "source": [
    "df_movie = pd.read_csv(\"./datas/ml-latest-small/movies.csv\")\n",
    "df_movie.head()"
   ]
  },
  {
   "cell_type": "code",
   "execution_count": 105,
   "metadata": {},
   "outputs": [
    {
     "data": {
      "text/html": [
       "<div>\n",
       "<style scoped>\n",
       "    .dataframe tbody tr th:only-of-type {\n",
       "        vertical-align: middle;\n",
       "    }\n",
       "\n",
       "    .dataframe tbody tr th {\n",
       "        vertical-align: top;\n",
       "    }\n",
       "\n",
       "    .dataframe thead th {\n",
       "        text-align: right;\n",
       "    }\n",
       "</style>\n",
       "<table border=\"1\" class=\"dataframe\">\n",
       "  <thead>\n",
       "    <tr style=\"text-align: right;\">\n",
       "      <th></th>\n",
       "      <th>movieId</th>\n",
       "      <th>title</th>\n",
       "      <th>genres</th>\n",
       "      <th>vector</th>\n",
       "    </tr>\n",
       "  </thead>\n",
       "  <tbody>\n",
       "    <tr>\n",
       "      <th>0</th>\n",
       "      <td>1</td>\n",
       "      <td>Toy Story (1995)</td>\n",
       "      <td>Adventure|Animation|Children|Comedy|Fantasy</td>\n",
       "      <td>[0.009563226, 0.016655952, -0.00384119, 0.0240...</td>\n",
       "    </tr>\n",
       "    <tr>\n",
       "      <th>1</th>\n",
       "      <td>2</td>\n",
       "      <td>Jumanji (1995)</td>\n",
       "      <td>Adventure|Children|Fantasy</td>\n",
       "      <td>[0.009672286, -0.0046788617, 0.013131944, -0.0...</td>\n",
       "    </tr>\n",
       "    <tr>\n",
       "      <th>2</th>\n",
       "      <td>3</td>\n",
       "      <td>Grumpier Old Men (1995)</td>\n",
       "      <td>Comedy|Romance</td>\n",
       "      <td>[-0.017449005, 0.016240655, 0.0057858294, -0.0...</td>\n",
       "    </tr>\n",
       "    <tr>\n",
       "      <th>3</th>\n",
       "      <td>4</td>\n",
       "      <td>Waiting to Exhale (1995)</td>\n",
       "      <td>Comedy|Drama|Romance</td>\n",
       "      <td>NaN</td>\n",
       "    </tr>\n",
       "    <tr>\n",
       "      <th>4</th>\n",
       "      <td>5</td>\n",
       "      <td>Father of the Bride Part II (1995)</td>\n",
       "      <td>Comedy</td>\n",
       "      <td>[-0.026297674, 0.02462507, -0.020405838, -0.01...</td>\n",
       "    </tr>\n",
       "  </tbody>\n",
       "</table>\n",
       "</div>"
      ],
      "text/plain": [
       "   movieId                               title  \\\n",
       "0        1                    Toy Story (1995)   \n",
       "1        2                      Jumanji (1995)   \n",
       "2        3             Grumpier Old Men (1995)   \n",
       "3        4            Waiting to Exhale (1995)   \n",
       "4        5  Father of the Bride Part II (1995)   \n",
       "\n",
       "                                        genres  \\\n",
       "0  Adventure|Animation|Children|Comedy|Fantasy   \n",
       "1                   Adventure|Children|Fantasy   \n",
       "2                               Comedy|Romance   \n",
       "3                         Comedy|Drama|Romance   \n",
       "4                                       Comedy   \n",
       "\n",
       "                                              vector  \n",
       "0  [0.009563226, 0.016655952, -0.00384119, 0.0240...  \n",
       "1  [0.009672286, -0.0046788617, 0.013131944, -0.0...  \n",
       "2  [-0.017449005, 0.016240655, 0.0057858294, -0.0...  \n",
       "3                                                NaN  \n",
       "4  [-0.026297674, 0.02462507, -0.020405838, -0.01...  "
      ]
     },
     "execution_count": 105,
     "metadata": {},
     "output_type": "execute_result"
    }
   ],
   "source": [
    "df_merge = pd.merge(df_movie, emb_df, on='movieId', how='left')\n",
    "df_merge.head()"
   ]
  },
  {
   "cell_type": "code",
   "execution_count": 106,
   "metadata": {},
   "outputs": [
    {
     "data": {
      "text/html": [
       "<div>\n",
       "<style scoped>\n",
       "    .dataframe tbody tr th:only-of-type {\n",
       "        vertical-align: middle;\n",
       "    }\n",
       "\n",
       "    .dataframe tbody tr th {\n",
       "        vertical-align: top;\n",
       "    }\n",
       "\n",
       "    .dataframe thead th {\n",
       "        text-align: right;\n",
       "    }\n",
       "</style>\n",
       "<table border=\"1\" class=\"dataframe\">\n",
       "  <thead>\n",
       "    <tr style=\"text-align: right;\">\n",
       "      <th></th>\n",
       "      <th>movieId</th>\n",
       "      <th>title</th>\n",
       "      <th>genres</th>\n",
       "      <th>vector</th>\n",
       "    </tr>\n",
       "  </thead>\n",
       "  <tbody>\n",
       "    <tr>\n",
       "      <th>3002</th>\n",
       "      <td>4018</td>\n",
       "      <td>What Women Want (2000)</td>\n",
       "      <td>Comedy|Romance</td>\n",
       "      <td>[0.024533588, 0.0046383645, 0.0018839509, -0.0...</td>\n",
       "    </tr>\n",
       "  </tbody>\n",
       "</table>\n",
       "</div>"
      ],
      "text/plain": [
       "      movieId                   title          genres  \\\n",
       "3002     4018  What Women Want (2000)  Comedy|Romance   \n",
       "\n",
       "                                                 vector  \n",
       "3002  [0.024533588, 0.0046383645, 0.0018839509, -0.0...  "
      ]
     },
     "execution_count": 106,
     "metadata": {},
     "output_type": "execute_result"
    }
   ],
   "source": [
    "# 随便挑选一个电影：4018\tWhat Women Want (2000)\n",
    "movie_id = 4018\n",
    "df_merge.loc[df_merge[\"movieId\"]==movie_id]"
   ]
  },
  {
   "cell_type": "code",
   "execution_count": 107,
   "metadata": {},
   "outputs": [
    {
     "data": {
      "text/plain": [
       "[0.024533588,\n",
       " 0.0046383645,\n",
       " 0.0018839509,\n",
       " -0.0002835982,\n",
       " 0.024037596,\n",
       " 0.0024099012,\n",
       " 0.0026918708,\n",
       " -0.0039753052,\n",
       " -0.023770606,\n",
       " -0.020398686,\n",
       " 0.010802483,\n",
       " 0.021639591,\n",
       " -0.016242243,\n",
       " 0.027446344,\n",
       " -0.020431234,\n",
       " -0.0005121919]"
      ]
     },
     "execution_count": 107,
     "metadata": {},
     "output_type": "execute_result"
    }
   ],
   "source": [
    "movie_embedding = df_merge.loc[df_merge[\"movieId\"]==movie_id, \"vector\"].iloc[0]\n",
    "movie_embedding"
   ]
  },
  {
   "cell_type": "code",
   "execution_count": 108,
   "metadata": {},
   "outputs": [],
   "source": [
    "# 余弦相似度\n",
    "from scipy.spatial import distance\n",
    "df_merge[\"sim_value\"] = df_merge[\"vector\"].map(lambda x : 1 - distance.cosine(movie_embedding, x))"
   ]
  },
  {
   "cell_type": "code",
   "execution_count": 109,
   "metadata": {},
   "outputs": [
    {
     "data": {
      "text/html": [
       "<div>\n",
       "<style scoped>\n",
       "    .dataframe tbody tr th:only-of-type {\n",
       "        vertical-align: middle;\n",
       "    }\n",
       "\n",
       "    .dataframe tbody tr th {\n",
       "        vertical-align: top;\n",
       "    }\n",
       "\n",
       "    .dataframe thead th {\n",
       "        text-align: right;\n",
       "    }\n",
       "</style>\n",
       "<table border=\"1\" class=\"dataframe\">\n",
       "  <thead>\n",
       "    <tr style=\"text-align: right;\">\n",
       "      <th></th>\n",
       "      <th>movieId</th>\n",
       "      <th>title</th>\n",
       "      <th>genres</th>\n",
       "      <th>sim_value</th>\n",
       "    </tr>\n",
       "  </thead>\n",
       "  <tbody>\n",
       "    <tr>\n",
       "      <th>0</th>\n",
       "      <td>1</td>\n",
       "      <td>Toy Story (1995)</td>\n",
       "      <td>Adventure|Animation|Children|Comedy|Fantasy</td>\n",
       "      <td>-0.006609</td>\n",
       "    </tr>\n",
       "    <tr>\n",
       "      <th>1</th>\n",
       "      <td>2</td>\n",
       "      <td>Jumanji (1995)</td>\n",
       "      <td>Adventure|Children|Fantasy</td>\n",
       "      <td>0.325056</td>\n",
       "    </tr>\n",
       "    <tr>\n",
       "      <th>2</th>\n",
       "      <td>3</td>\n",
       "      <td>Grumpier Old Men (1995)</td>\n",
       "      <td>Comedy|Romance</td>\n",
       "      <td>-0.475340</td>\n",
       "    </tr>\n",
       "  </tbody>\n",
       "</table>\n",
       "</div>"
      ],
      "text/plain": [
       "   movieId                    title  \\\n",
       "0        1         Toy Story (1995)   \n",
       "1        2           Jumanji (1995)   \n",
       "2        3  Grumpier Old Men (1995)   \n",
       "\n",
       "                                        genres  sim_value  \n",
       "0  Adventure|Animation|Children|Comedy|Fantasy  -0.006609  \n",
       "1                   Adventure|Children|Fantasy   0.325056  \n",
       "2                               Comedy|Romance  -0.475340  "
      ]
     },
     "execution_count": 109,
     "metadata": {},
     "output_type": "execute_result"
    }
   ],
   "source": [
    "df_merge[[\"movieId\", \"title\", \"genres\", \"sim_value\"]].head(3)"
   ]
  },
  {
   "cell_type": "code",
   "execution_count": 110,
   "metadata": {
    "scrolled": true
   },
   "outputs": [
    {
     "data": {
      "text/html": [
       "<div>\n",
       "<style scoped>\n",
       "    .dataframe tbody tr th:only-of-type {\n",
       "        vertical-align: middle;\n",
       "    }\n",
       "\n",
       "    .dataframe tbody tr th {\n",
       "        vertical-align: top;\n",
       "    }\n",
       "\n",
       "    .dataframe thead th {\n",
       "        text-align: right;\n",
       "    }\n",
       "</style>\n",
       "<table border=\"1\" class=\"dataframe\">\n",
       "  <thead>\n",
       "    <tr style=\"text-align: right;\">\n",
       "      <th></th>\n",
       "      <th>movieId</th>\n",
       "      <th>title</th>\n",
       "      <th>genres</th>\n",
       "      <th>sim_value</th>\n",
       "    </tr>\n",
       "  </thead>\n",
       "  <tbody>\n",
       "    <tr>\n",
       "      <th>3002</th>\n",
       "      <td>4018</td>\n",
       "      <td>What Women Want (2000)</td>\n",
       "      <td>Comedy|Romance</td>\n",
       "      <td>1.000000</td>\n",
       "    </tr>\n",
       "    <tr>\n",
       "      <th>2684</th>\n",
       "      <td>3594</td>\n",
       "      <td>Center Stage (2000)</td>\n",
       "      <td>Drama|Musical</td>\n",
       "      <td>0.773671</td>\n",
       "    </tr>\n",
       "    <tr>\n",
       "      <th>4908</th>\n",
       "      <td>7360</td>\n",
       "      <td>Dawn of the Dead (2004)</td>\n",
       "      <td>Action|Drama|Horror|Thriller</td>\n",
       "      <td>0.749598</td>\n",
       "    </tr>\n",
       "    <tr>\n",
       "      <th>7008</th>\n",
       "      <td>68073</td>\n",
       "      <td>Pirate Radio (2009)</td>\n",
       "      <td>Comedy|Drama</td>\n",
       "      <td>0.724681</td>\n",
       "    </tr>\n",
       "    <tr>\n",
       "      <th>9510</th>\n",
       "      <td>170993</td>\n",
       "      <td>Mini's First Time (2006)</td>\n",
       "      <td>Comedy|Crime|Drama</td>\n",
       "      <td>0.711066</td>\n",
       "    </tr>\n",
       "    <tr>\n",
       "      <th>858</th>\n",
       "      <td>1129</td>\n",
       "      <td>Escape from New York (1981)</td>\n",
       "      <td>Action|Adventure|Sci-Fi|Thriller</td>\n",
       "      <td>0.696947</td>\n",
       "    </tr>\n",
       "    <tr>\n",
       "      <th>326</th>\n",
       "      <td>368</td>\n",
       "      <td>Maverick (1994)</td>\n",
       "      <td>Adventure|Comedy|Western</td>\n",
       "      <td>0.688153</td>\n",
       "    </tr>\n",
       "    <tr>\n",
       "      <th>2635</th>\n",
       "      <td>3526</td>\n",
       "      <td>Parenthood (1989)</td>\n",
       "      <td>Comedy|Drama</td>\n",
       "      <td>0.683185</td>\n",
       "    </tr>\n",
       "    <tr>\n",
       "      <th>552</th>\n",
       "      <td>662</td>\n",
       "      <td>Fear (1996)</td>\n",
       "      <td>Thriller</td>\n",
       "      <td>0.681208</td>\n",
       "    </tr>\n",
       "    <tr>\n",
       "      <th>718</th>\n",
       "      <td>937</td>\n",
       "      <td>Love in the Afternoon (1957)</td>\n",
       "      <td>Comedy|Romance</td>\n",
       "      <td>0.680697</td>\n",
       "    </tr>\n",
       "  </tbody>\n",
       "</table>\n",
       "</div>"
      ],
      "text/plain": [
       "      movieId                         title                            genres  \\\n",
       "3002     4018        What Women Want (2000)                    Comedy|Romance   \n",
       "2684     3594           Center Stage (2000)                     Drama|Musical   \n",
       "4908     7360       Dawn of the Dead (2004)      Action|Drama|Horror|Thriller   \n",
       "7008    68073           Pirate Radio (2009)                      Comedy|Drama   \n",
       "9510   170993      Mini's First Time (2006)                Comedy|Crime|Drama   \n",
       "858      1129   Escape from New York (1981)  Action|Adventure|Sci-Fi|Thriller   \n",
       "326       368               Maverick (1994)          Adventure|Comedy|Western   \n",
       "2635     3526             Parenthood (1989)                      Comedy|Drama   \n",
       "552       662                   Fear (1996)                          Thriller   \n",
       "718       937  Love in the Afternoon (1957)                    Comedy|Romance   \n",
       "\n",
       "      sim_value  \n",
       "3002   1.000000  \n",
       "2684   0.773671  \n",
       "4908   0.749598  \n",
       "7008   0.724681  \n",
       "9510   0.711066  \n",
       "858    0.696947  \n",
       "326    0.688153  \n",
       "2635   0.683185  \n",
       "552    0.681208  \n",
       "718    0.680697  "
      ]
     },
     "execution_count": 110,
     "metadata": {},
     "output_type": "execute_result"
    }
   ],
   "source": [
    "# 按相似度降序排列，查询前10条\n",
    "df_merge.sort_values(by=\"sim_value\", ascending=False)[[\"movieId\", \"title\", \"genres\", \"sim_value\"]].head(10)"
   ]
  },
  {
   "cell_type": "markdown",
   "metadata": {},
   "source": [
    "## Faiss相似检索\n",
    "- 压缩\n",
    "- 分群\n",
    "- index"
   ]
  },
  {
   "cell_type": "code",
   "execution_count": 111,
   "metadata": {},
   "outputs": [
    {
     "data": {
      "text/html": [
       "<div>\n",
       "<style scoped>\n",
       "    .dataframe tbody tr th:only-of-type {\n",
       "        vertical-align: middle;\n",
       "    }\n",
       "\n",
       "    .dataframe tbody tr th {\n",
       "        vertical-align: top;\n",
       "    }\n",
       "\n",
       "    .dataframe thead th {\n",
       "        text-align: right;\n",
       "    }\n",
       "</style>\n",
       "<table border=\"1\" class=\"dataframe\">\n",
       "  <thead>\n",
       "    <tr style=\"text-align: right;\">\n",
       "      <th></th>\n",
       "      <th>movieId</th>\n",
       "      <th>vector</th>\n",
       "    </tr>\n",
       "  </thead>\n",
       "  <tbody>\n",
       "    <tr>\n",
       "      <th>0</th>\n",
       "      <td>1</td>\n",
       "      <td>[0.009563226, 0.016655952, -0.00384119, 0.0240...</td>\n",
       "    </tr>\n",
       "    <tr>\n",
       "      <th>1</th>\n",
       "      <td>3</td>\n",
       "      <td>[-0.017449005, 0.016240655, 0.0057858294, -0.0...</td>\n",
       "    </tr>\n",
       "    <tr>\n",
       "      <th>2</th>\n",
       "      <td>6</td>\n",
       "      <td>[0.004522709, -0.02596823, -0.028129607, 0.017...</td>\n",
       "    </tr>\n",
       "    <tr>\n",
       "      <th>3</th>\n",
       "      <td>47</td>\n",
       "      <td>[0.009782434, -0.013077681, 0.02617319, -0.014...</td>\n",
       "    </tr>\n",
       "    <tr>\n",
       "      <th>4</th>\n",
       "      <td>50</td>\n",
       "      <td>[0.0034451142, 0.018996798, -0.031216076, -0.0...</td>\n",
       "    </tr>\n",
       "  </tbody>\n",
       "</table>\n",
       "</div>"
      ],
      "text/plain": [
       "   movieId                                             vector\n",
       "0        1  [0.009563226, 0.016655952, -0.00384119, 0.0240...\n",
       "1        3  [-0.017449005, 0.016240655, 0.0057858294, -0.0...\n",
       "2        6  [0.004522709, -0.02596823, -0.028129607, 0.017...\n",
       "3       47  [0.009782434, -0.013077681, 0.02617319, -0.014...\n",
       "4       50  [0.0034451142, 0.018996798, -0.031216076, -0.0..."
      ]
     },
     "execution_count": 111,
     "metadata": {},
     "output_type": "execute_result"
    }
   ],
   "source": [
    "emb_df.head()"
   ]
  },
  {
   "cell_type": "code",
   "execution_count": 112,
   "metadata": {},
   "outputs": [
    {
     "data": {
      "text/plain": [
       "(6298, 2)"
      ]
     },
     "execution_count": 112,
     "metadata": {},
     "output_type": "execute_result"
    }
   ],
   "source": [
    "emb_df.shape"
   ]
  },
  {
   "cell_type": "code",
   "execution_count": 113,
   "metadata": {},
   "outputs": [],
   "source": [
    "import faiss\n",
    "index = faiss.IndexFlatIP(16)\n",
    "index.add(np.array(emb_df['vector'].tolist()))\n",
    "# faiss.normalize_L2(user_embs)\n",
    "D, I = index.search(np.array(emb_df['vector'].tolist()), 10)"
   ]
  },
  {
   "cell_type": "code",
   "execution_count": 114,
   "metadata": {
    "collapsed": true
   },
   "outputs": [
    {
     "data": {
      "text/plain": [
       "array([[0.00348195, 0.00337485, 0.00328093, ..., 0.00295225, 0.00293264,\n",
       "        0.00293117],\n",
       "       [0.00507831, 0.00483656, 0.004785  , ..., 0.00369507, 0.00365712,\n",
       "        0.00362798],\n",
       "       [0.00485329, 0.00467913, 0.00447669, ..., 0.00407606, 0.00393377,\n",
       "        0.00348858],\n",
       "       ...,\n",
       "       [0.00553616, 0.00471477, 0.00462394, ..., 0.00395534, 0.0039509 ,\n",
       "        0.0039442 ],\n",
       "       [0.00420992, 0.00414417, 0.00380386, ..., 0.0033235 , 0.00326754,\n",
       "        0.00320414],\n",
       "       [0.00433764, 0.00391496, 0.00349112, ..., 0.00340394, 0.00338355,\n",
       "        0.00336748]], dtype=float32)"
      ]
     },
     "execution_count": 114,
     "metadata": {},
     "output_type": "execute_result"
    }
   ],
   "source": [
    "D"
   ]
  },
  {
   "cell_type": "code",
   "execution_count": 115,
   "metadata": {},
   "outputs": [
    {
     "data": {
      "text/plain": [
       "array([[4263, 4515, 3195, ..., 5534,  240, 5070],\n",
       "       [1075,    1, 3152, ..., 4187, 6170,  613],\n",
       "       [1136,    2, 4074, ..., 2770, 2474, 5668],\n",
       "       ...,\n",
       "       [6295, 3125, 4871, ..., 5211,   67, 5369],\n",
       "       [3296, 5715, 6296, ..., 1001, 6176, 5113],\n",
       "       [6297,  292, 3144, ..., 6291, 3179, 3301]])"
      ]
     },
     "execution_count": 115,
     "metadata": {},
     "output_type": "execute_result"
    }
   ],
   "source": [
    "I"
   ]
  }
 ],
 "metadata": {
  "kernelspec": {
   "display_name": "Python 3",
   "language": "python",
   "name": "python3"
  },
  "language_info": {
   "codemirror_mode": {
    "name": "ipython",
    "version": 3
   },
   "file_extension": ".py",
   "mimetype": "text/x-python",
   "name": "python",
   "nbconvert_exporter": "python",
   "pygments_lexer": "ipython3",
   "version": "3.6.3"
  }
 },
 "nbformat": 4,
 "nbformat_minor": 4
}
