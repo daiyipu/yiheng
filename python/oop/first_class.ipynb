{
 "cells": [
  {
   "cell_type": "code",
   "execution_count": 7,
   "metadata": {},
   "outputs": [],
   "source": [
    "# 在终端中执行\n",
    "# exec(open(\"yiheng/python_oop/first_class.py\", \"r\", encoding=\"utf-8\").read())"
   ]
  },
  {
   "cell_type": "code",
   "execution_count": 4,
   "metadata": {},
   "outputs": [
    {
     "name": "stdout",
     "output_type": "stream",
     "text": [
      "xiaoxiao 20\n",
      "name is xiaoxiao, 20 years old\n",
      "walk, run, swim\n",
      "walk, run, swim\n",
      "I am a class method\n",
      "I am a class method\n",
      "xiaoxiao2020\n",
      "xiaoxiao20\n",
      "Sky is eating...\n",
      "Corgi eats more\n"
     ]
    }
   ],
   "source": [
    "# 在交互式notebook中执行\n",
    "exec(open(\"first_class.py\").read())\n",
    "# exec(open(\"./first_class.py\").read())"
   ]
  }
 ],
 "metadata": {
  "kernelspec": {
   "display_name": "base",
   "language": "python",
   "name": "python3"
  },
  "language_info": {
   "codemirror_mode": {
    "name": "ipython",
    "version": 3
   },
   "file_extension": ".py",
   "mimetype": "text/x-python",
   "name": "python",
   "nbconvert_exporter": "python",
   "pygments_lexer": "ipython3",
   "version": "3.10.9"
  }
 },
 "nbformat": 4,
 "nbformat_minor": 2
}
