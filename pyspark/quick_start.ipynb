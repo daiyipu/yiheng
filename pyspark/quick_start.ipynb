{
 "cells": [
  {
   "cell_type": "code",
   "execution_count": 1,
   "id": "a64560d6",
   "metadata": {},
   "outputs": [
    {
     "name": "stdout",
     "output_type": "stream",
     "text": [
      "1.24.4\n"
     ]
    }
   ],
   "source": [
    "import numpy\n",
    "print(numpy.__version__) "
   ]
  },
  {
   "cell_type": "code",
   "execution_count": null,
   "id": "cb623a5a",
   "metadata": {},
   "outputs": [],
   "source": [
    "from pyspark.sql import SparkSession\n",
    "\n",
    "# 初始化 Spark 会话（本地模式）\n",
    "spark = SparkSession.builder\\\n",
    "    .appName(\"MyApp\")\\\n",
    "    .master(\"local[*]\")\\\n",
    "    .config(\"spark.driver.memory\", \"4g\")\\\n",
    "    .enableHiveSupport()\\\n",
    "    .getOrCreate()"
   ]
  },
  {
   "cell_type": "code",
   "execution_count": null,
   "id": "85777db5",
   "metadata": {},
   "outputs": [],
   "source": [
    "# 从 CSV 加载\n",
    "df = spark.read.csv(\"data.csv\", header=True, inferSchema=True)\n",
    "\n",
    "# 从 Hive 表加载\n",
    "hive_df = spark.sql(\"SELECT * FROM my_hive_table\")\n",
    "\n",
    "# 从 Parquet 加载\n",
    "parquet_df = spark.read.parquet(\"data.parquet\")"
   ]
  },
  {
   "cell_type": "code",
   "execution_count": null,
   "id": "b1c21464",
   "metadata": {},
   "outputs": [],
   "source": [
    "# 保存为 Parquet\n",
    "df.write.parquet(\"output.parquet\")\n",
    "\n",
    "# 保存到 Hive 表\n",
    "df.write.saveAsTable(\"hive_table\")\n",
    "\n",
    "# 保存为 CSV（需谨慎处理分区）\n",
    "df.write.csv(\"output.csv\", mode=\"overwrite\")"
   ]
  },
  {
   "cell_type": "code",
   "execution_count": null,
   "id": "afbd0697",
   "metadata": {},
   "outputs": [],
   "source": [
    "# 显示数据\n",
    "df.show(5)  # 前 5 行\n",
    "df.printSchema()  # 查看表结构\n",
    "\n",
    "# 列选择与过滤\n",
    "df.select(\"name\", \"age\").filter(df.age > 30).show()\n",
    "\n",
    "# 聚合操作\n",
    "df.groupBy(\"department\").agg({\"salary\": \"avg\", \"age\": \"max\"}).show()"
   ]
  },
  {
   "cell_type": "code",
   "execution_count": null,
   "id": "402a95c9",
   "metadata": {},
   "outputs": [],
   "source": [
    "from pyspark.sql.functions import udf\n",
    "from pyspark.sql.types import IntegerType\n",
    "\n",
    "# 定义 UDF\n",
    "def square(x):\n",
    "    return x * x\n",
    "\n",
    "square_udf = udf(square, IntegerType())\n",
    "\n",
    "# 应用 UDF\n",
    "df.withColumn(\"squared_age\", square_udf(df.age)).show()"
   ]
  },
  {
   "cell_type": "code",
   "execution_count": null,
   "id": "01a60640",
   "metadata": {},
   "outputs": [],
   "source": [
    "# 创建临时视图\n",
    "df.createOrReplaceTempView(\"people\")\n",
    "\n",
    "# 执行 SQL 查询\n",
    "result = spark.sql(\"\"\"\n",
    "    SELECT department, AVG(salary) AS avg_salary \n",
    "    FROM people \n",
    "    WHERE age > 25 \n",
    "    GROUP BY department\n",
    "\"\"\")\n",
    "result.show()"
   ]
  },
  {
   "cell_type": "code",
   "execution_count": null,
   "id": "e5361d82",
   "metadata": {},
   "outputs": [],
   "source": [
    "df.cache()  # 缓存到内存（适用于频繁访问的数据）\n",
    "df.persist(StorageLevel.MEMORY_AND_DISK)  # 更灵活的持久化策略"
   ]
  },
  {
   "cell_type": "code",
   "execution_count": null,
   "id": "8ee176c5",
   "metadata": {},
   "outputs": [],
   "source": [
    "# 重分区（减少数据倾斜）\n",
    "df = df.repartition(100, \"department\")\n",
    "\n",
    "# 控制并行度\n",
    "spark.conf.set(\"spark.sql.shuffle.partitions\", 200)  # 调整 Shuffle 分区数"
   ]
  },
  {
   "cell_type": "code",
   "execution_count": null,
   "id": "6b9bbbac",
   "metadata": {},
   "outputs": [],
   "source": [
    "small_df = ...  # 小数据集\n",
    "broadcast_df = spark.sparkContext.broadcast(small_df.collect())\n",
    "\n",
    "# 在 UDF 中使用广播变量\n",
    "def lookup_data(id):\n",
    "    return broadcast_df.value.get(id)"
   ]
  },
  {
   "cell_type": "code",
   "execution_count": null,
   "id": "996ddc01",
   "metadata": {},
   "outputs": [],
   "source": [
    "# 从 Kafka 读取流数据\n",
    "stream_df = spark.readStream \\\n",
    "    .format(\"kafka\") \\\n",
    "    .option(\"kafka.bootstrap.servers\", \"host:9092\") \\\n",
    "    .option(\"subscribe\", \"topic\") \\\n",
    "    .load()\n",
    "\n",
    "# 处理数据并输出\n",
    "query = stream_df.writeStream \\\n",
    "    .outputMode(\"append\") \\\n",
    "    .format(\"console\") \\\n",
    "    .start()\n",
    "\n",
    "query.awaitTermination()  # 持续运行"
   ]
  },
  {
   "cell_type": "code",
   "execution_count": null,
   "id": "464113ac",
   "metadata": {},
   "outputs": [],
   "source": [
    "spark.stop()  # 显式释放资源"
   ]
  }
 ],
 "metadata": {
  "kernelspec": {
   "display_name": "base",
   "language": "python",
   "name": "python3"
  },
  "language_info": {
   "codemirror_mode": {
    "name": "ipython",
    "version": 3
   },
   "file_extension": ".py",
   "mimetype": "text/x-python",
   "name": "python",
   "nbconvert_exporter": "python",
   "pygments_lexer": "ipython3",
   "version": "3.10.9"
  }
 },
 "nbformat": 4,
 "nbformat_minor": 5
}
