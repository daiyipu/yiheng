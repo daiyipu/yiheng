{
 "cells": [
  {
   "cell_type": "markdown",
   "metadata": {},
   "source": [
    "# Python数据分析实战"
   ]
  },
  {
   "cell_type": "markdown",
   "metadata": {},
   "source": [
    "## pandas处理时间序列"
   ]
  },
  {
   "cell_type": "markdown",
   "metadata": {},
   "source": [
    "### 本周课程目标\n",
    "- 时间序列的基本知识\n",
    "\n",
    "        日期和时间数据类型以及工具的使用\n",
    "        时间序列基础\n",
    "        日期范围、频率、移动\n",
    "        时区处理\n",
    "        日期与算术运算\n",
    "       "
   ]
  },
  {
   "cell_type": "code",
   "execution_count": null,
   "metadata": {},
   "outputs": [],
   "source": [
    "'''\n",
    "时间序列的分类：\n",
    "1.时间戳\n",
    "2.固定周期\n",
    "3.时间间隔\n",
    "'''"
   ]
  },
  {
   "cell_type": "markdown",
   "metadata": {},
   "source": [
    "### 日期和时间数据类型以及工具的使用"
   ]
  },
  {
   "cell_type": "markdown",
   "metadata": {},
   "source": [
    "#### Python的日期和时间处理及操作"
   ]
  },
  {
   "cell_type": "code",
   "execution_count": 40,
   "metadata": {
    "ExecuteTime": {
     "end_time": "2021-05-26T03:32:58.760107Z",
     "start_time": "2021-05-26T03:32:58.757006Z"
    }
   },
   "outputs": [],
   "source": [
    "import pandas as pd\n",
    "import numpy as np"
   ]
  },
  {
   "cell_type": "code",
   "execution_count": 41,
   "metadata": {
    "ExecuteTime": {
     "end_time": "2021-05-26T03:33:08.197626Z",
     "start_time": "2021-05-26T03:33:08.191799Z"
    }
   },
   "outputs": [
    {
     "data": {
      "text/plain": [
       "datetime.datetime(2021, 5, 26, 11, 33, 8, 193216)"
      ]
     },
     "execution_count": 41,
     "metadata": {},
     "output_type": "execute_result"
    }
   ],
   "source": [
    "from datetime import datetime\n",
    "#显示下当前本地的时间\n",
    "now = datetime.now()\n",
    "now"
   ]
  },
  {
   "cell_type": "code",
   "execution_count": 42,
   "metadata": {
    "ExecuteTime": {
     "end_time": "2021-05-26T03:33:36.832146Z",
     "start_time": "2021-05-26T03:33:36.825894Z"
    }
   },
   "outputs": [
    {
     "data": {
      "text/plain": [
       "2021"
      ]
     },
     "execution_count": 42,
     "metadata": {},
     "output_type": "execute_result"
    }
   ],
   "source": [
    "now.year"
   ]
  },
  {
   "cell_type": "code",
   "execution_count": 43,
   "metadata": {
    "ExecuteTime": {
     "end_time": "2021-05-26T03:33:45.431766Z",
     "start_time": "2021-05-26T03:33:45.426654Z"
    }
   },
   "outputs": [
    {
     "data": {
      "text/plain": [
       "5"
      ]
     },
     "execution_count": 43,
     "metadata": {},
     "output_type": "execute_result"
    }
   ],
   "source": [
    "now.month"
   ]
  },
  {
   "cell_type": "code",
   "execution_count": 44,
   "metadata": {
    "ExecuteTime": {
     "end_time": "2021-05-26T03:33:49.657102Z",
     "start_time": "2021-05-26T03:33:49.651090Z"
    }
   },
   "outputs": [
    {
     "data": {
      "text/plain": [
       "26"
      ]
     },
     "execution_count": 44,
     "metadata": {},
     "output_type": "execute_result"
    }
   ],
   "source": [
    "now.day"
   ]
  },
  {
   "cell_type": "code",
   "execution_count": 45,
   "metadata": {
    "ExecuteTime": {
     "end_time": "2021-05-26T03:33:57.496460Z",
     "start_time": "2021-05-26T03:33:57.489346Z"
    }
   },
   "outputs": [
    {
     "data": {
      "text/plain": [
       "datetime.datetime"
      ]
     },
     "execution_count": 45,
     "metadata": {},
     "output_type": "execute_result"
    }
   ],
   "source": [
    "#查看下他的数据类型\n",
    "type(now)"
   ]
  },
  {
   "cell_type": "code",
   "execution_count": 46,
   "metadata": {
    "ExecuteTime": {
     "end_time": "2021-05-26T03:34:29.873959Z",
     "start_time": "2021-05-26T03:34:29.867751Z"
    }
   },
   "outputs": [
    {
     "name": "stdout",
     "output_type": "stream",
     "text": [
      "<class 'datetime.timedelta'>\n",
      "-4 days, 0:00:00\n",
      "经历了-4天，0秒\n"
     ]
    }
   ],
   "source": [
    "#实现两个时间段的差值计算\n",
    "delta = datetime(2021,3,18,12) - datetime(2021,3,22,12)\n",
    "print(type(delta))\n",
    "print(delta)\n",
    "print('经历了{}天，{}秒'.format(delta.days,delta.seconds))"
   ]
  },
  {
   "cell_type": "code",
   "execution_count": 47,
   "metadata": {
    "ExecuteTime": {
     "end_time": "2021-05-26T03:35:14.940541Z",
     "start_time": "2021-05-26T03:35:14.934645Z"
    }
   },
   "outputs": [
    {
     "data": {
      "text/plain": [
       "datetime.datetime(2021, 3, 25, 0, 0)"
      ]
     },
     "execution_count": 47,
     "metadata": {},
     "output_type": "execute_result"
    }
   ],
   "source": [
    "'''\n",
    "同样可以给datetime对象加上或者减去一个/多个timedelta,这样会产生一个新的对象。\n",
    "'''\n",
    "from datetime import timedelta\n",
    "start = datetime(2021,3,15)\n",
    "start + timedelta(10)"
   ]
  },
  {
   "cell_type": "code",
   "execution_count": 48,
   "metadata": {
    "ExecuteTime": {
     "end_time": "2021-05-26T03:35:26.763293Z",
     "start_time": "2021-05-26T03:35:26.758112Z"
    }
   },
   "outputs": [
    {
     "data": {
      "text/plain": [
       "datetime.datetime(2021, 3, 11, 0, 0)"
      ]
     },
     "execution_count": 48,
     "metadata": {},
     "output_type": "execute_result"
    }
   ],
   "source": [
    "start - 2 * timedelta(2)"
   ]
  },
  {
   "cell_type": "markdown",
   "metadata": {},
   "source": [
    "#### String和datetime的相互转换"
   ]
  },
  {
   "cell_type": "code",
   "execution_count": 51,
   "metadata": {
    "ExecuteTime": {
     "end_time": "2021-05-26T03:37:09.298486Z",
     "start_time": "2021-05-26T03:37:09.293639Z"
    }
   },
   "outputs": [
    {
     "name": "stdout",
     "output_type": "stream",
     "text": [
      "<class 'datetime.datetime'>\n",
      "<class 'str'>\n",
      "2021-03-15 00:00:00\n"
     ]
    }
   ],
   "source": [
    "dt_obj = datetime(2021,3,15)\n",
    "print(type(dt_obj))\n",
    "str_obj = str(dt_obj)#强制转换\n",
    "print(type(str_obj))\n",
    "print(str_obj)"
   ]
  },
  {
   "cell_type": "code",
   "execution_count": 52,
   "metadata": {
    "ExecuteTime": {
     "end_time": "2021-05-26T03:38:18.554428Z",
     "start_time": "2021-05-26T03:38:18.550138Z"
    }
   },
   "outputs": [
    {
     "name": "stdout",
     "output_type": "stream",
     "text": [
      "15/03/2021\n"
     ]
    }
   ],
   "source": [
    "str_obj2 = dt_obj.strftime('%d/%m/%Y')#%Y-%m-%d\n",
    "print(str_obj2)"
   ]
  },
  {
   "cell_type": "code",
   "execution_count": 54,
   "metadata": {
    "ExecuteTime": {
     "end_time": "2021-05-26T03:40:54.805392Z",
     "start_time": "2021-05-26T03:40:54.800427Z"
    }
   },
   "outputs": [
    {
     "name": "stdout",
     "output_type": "stream",
     "text": [
      "<class 'datetime.datetime'>\n",
      "2021-03-15 00:00:00\n"
     ]
    }
   ],
   "source": [
    "#strftime\n",
    "dt_str = '2021-03-15'\n",
    "dt_obj = datetime.strptime(dt_str,'%Y-%m-%d')\n",
    "print(type(dt_obj))\n",
    "print(dt_obj)"
   ]
  },
  {
   "cell_type": "code",
   "execution_count": 56,
   "metadata": {
    "ExecuteTime": {
     "end_time": "2021-05-26T03:43:08.878969Z",
     "start_time": "2021-05-26T03:43:08.872734Z"
    }
   },
   "outputs": [
    {
     "name": "stdout",
     "output_type": "stream",
     "text": [
      "<class 'datetime.datetime'>\n",
      "2021-03-15 00:00:00\n"
     ]
    }
   ],
   "source": [
    "#dateutil.parser.parse\n",
    "'''\n",
    "parse函数同样可以解决这个数据类型转换的问题\n",
    "'''\n",
    "from dateutil.parser import parse\n",
    "dt_str2 = '2021-03-15'\n",
    "dt_obj2 = parse(dt_str2)\n",
    "print(type(dt_obj2))\n",
    "print(dt_obj2)"
   ]
  },
  {
   "cell_type": "code",
   "execution_count": 57,
   "metadata": {
    "ExecuteTime": {
     "end_time": "2021-05-26T03:44:48.262999Z",
     "start_time": "2021-05-26T03:44:48.256901Z"
    }
   },
   "outputs": [
    {
     "name": "stdout",
     "output_type": "stream",
     "text": [
      "0    2021/03/15\n",
      "1    2021/03/16\n",
      "2    2021/03/17\n",
      "Name: course_time, dtype: object\n"
     ]
    }
   ],
   "source": [
    "import pandas as pd\n",
    "#定义一个一维数组\n",
    "s_obj = pd.Series(['2021/03/15','2021/03/16','2021/03/17'],name='course_time')\n",
    "print(s_obj)"
   ]
  },
  {
   "cell_type": "code",
   "execution_count": 58,
   "metadata": {
    "ExecuteTime": {
     "end_time": "2021-05-26T03:44:59.367782Z",
     "start_time": "2021-05-26T03:44:59.359980Z"
    }
   },
   "outputs": [
    {
     "name": "stdout",
     "output_type": "stream",
     "text": [
      "0   2021-03-15\n",
      "1   2021-03-16\n",
      "2   2021-03-17\n",
      "Name: course_time, dtype: datetime64[ns]\n"
     ]
    }
   ],
   "source": [
    "#如何将上面这个一列结果数据转换成datetime数据类型呢？\n",
    "\n",
    "s_obj2 = pd.to_datetime(s_obj)\n",
    "print(s_obj2)"
   ]
  },
  {
   "cell_type": "code",
   "execution_count": 59,
   "metadata": {
    "ExecuteTime": {
     "end_time": "2021-05-26T03:46:16.478019Z",
     "start_time": "2021-05-26T03:46:16.473316Z"
    }
   },
   "outputs": [
    {
     "name": "stdout",
     "output_type": "stream",
     "text": [
      "0    2021/03/15\n",
      "1    2021/03/16\n",
      "2    2021/03/17\n",
      "3          None\n",
      "Name: course_time, dtype: object\n"
     ]
    }
   ],
   "source": [
    "#而且他还有一个更加实用的功能，处理缺失值（None,空字符串）\n",
    "s_obj3 = pd.Series(['2021/03/15','2021/03/16','2021/03/17'] + [None],name='course_time')\n",
    "print(s_obj3)"
   ]
  },
  {
   "cell_type": "code",
   "execution_count": 60,
   "metadata": {
    "ExecuteTime": {
     "end_time": "2021-05-26T03:46:32.563537Z",
     "start_time": "2021-05-26T03:46:32.557100Z"
    }
   },
   "outputs": [
    {
     "name": "stdout",
     "output_type": "stream",
     "text": [
      "0   2021-03-15\n",
      "1   2021-03-16\n",
      "2   2021-03-17\n",
      "3          NaT\n",
      "Name: course_time, dtype: datetime64[ns]\n"
     ]
    }
   ],
   "source": [
    "#在对这样一个有缺失值的数据进行to_datetime操作下\n",
    "s_obj3 = pd.to_datetime(s_obj3)\n",
    "print(s_obj3)"
   ]
  },
  {
   "cell_type": "markdown",
   "metadata": {
    "ExecuteTime": {
     "end_time": "2021-03-20T08:32:35.076626Z",
     "start_time": "2021-03-20T08:32:35.071470Z"
    }
   },
   "source": [
    "#### 时间序列基础"
   ]
  },
  {
   "cell_type": "code",
   "execution_count": 61,
   "metadata": {
    "ExecuteTime": {
     "end_time": "2021-05-26T03:50:26.242209Z",
     "start_time": "2021-05-26T03:50:26.233308Z"
    }
   },
   "outputs": [
    {
     "name": "stdout",
     "output_type": "stream",
     "text": [
      "2021-03-15    0.418077\n",
      "2021-03-16   -1.672639\n",
      "2021-03-17   -0.318196\n",
      "2021-03-18    0.221311\n",
      "2021-03-19    0.245561\n",
      "2021-03-20    0.076087\n",
      "dtype: float64\n",
      "<class 'pandas.core.series.Series'>\n",
      "<class 'pandas.core.indexes.datetimes.DatetimeIndex'>\n"
     ]
    }
   ],
   "source": [
    "import random\n",
    "from datetime import datetime\n",
    "#首先定义一个以datetime为元素的list\n",
    "date_list = [datetime(2021,3,15),datetime(2021,3,16),\n",
    "             datetime(2021,3,17),datetime(2021,3,18),\n",
    "             datetime(2021,3,19),datetime(2021,3,20)]\n",
    "#在来创建一个Series，指定index为datetime的list\n",
    "time_s = pd.Series(np.random.randn(6),index = date_list)\n",
    "print(time_s)\n",
    "print(type(time_s))\n",
    "#索引对应的数据类型\n",
    "print(type(time_s.index))\n"
   ]
  },
  {
   "cell_type": "code",
   "execution_count": 16,
   "metadata": {
    "ExecuteTime": {
     "end_time": "2021-05-26T03:21:51.626470Z",
     "start_time": "2021-05-26T03:21:51.419969Z"
    }
   },
   "outputs": [
    {
     "data": {
      "text/plain": [
       "2021-03-15   -2.040669\n",
       "2021-03-16         NaN\n",
       "2021-03-17   -2.789220\n",
       "2021-03-18         NaN\n",
       "2021-03-19    2.811834\n",
       "2021-03-20         NaN\n",
       "dtype: float64"
      ]
     },
     "execution_count": 16,
     "metadata": {},
     "output_type": "execute_result"
    }
   ],
   "source": [
    "#跟其他Series一样，不同索引的时间序列之间的运算术运算会自动按照日期对齐。\n",
    "time_s+time_s[::2]"
   ]
  },
  {
   "cell_type": "code",
   "execution_count": 62,
   "metadata": {
    "ExecuteTime": {
     "end_time": "2021-05-26T03:53:36.257484Z",
     "start_time": "2021-05-26T03:53:36.249154Z"
    }
   },
   "outputs": [
    {
     "name": "stdout",
     "output_type": "stream",
     "text": [
      "DatetimeIndex(['2021-03-20', '2021-03-27', '2021-04-03', '2021-04-10',\n",
      "               '2021-04-17'],\n",
      "              dtype='datetime64[ns]', freq='W-SAT')\n",
      "2021-03-20   -0.976694\n",
      "2021-03-27   -1.051520\n",
      "2021-04-03    0.937054\n",
      "2021-04-10   -0.698448\n",
      "2021-04-17   -1.638513\n",
      "Freq: W-SAT, dtype: float64\n",
      "<class 'pandas.core.indexes.datetimes.DatetimeIndex'>\n"
     ]
    }
   ],
   "source": [
    "dates = pd.date_range('2021-03-16',periods=5,freq='W-SAT')\n",
    "print(dates)\n",
    "\n",
    "#当然是要上面的方式也是可以的\n",
    "print(pd.Series(np.random.randn(5),index = dates))\n",
    "\n",
    "#看下数据类型\n",
    "print(type(dates))"
   ]
  },
  {
   "cell_type": "code",
   "execution_count": 63,
   "metadata": {
    "ExecuteTime": {
     "end_time": "2021-05-26T03:55:16.037030Z",
     "start_time": "2021-05-26T03:55:16.031870Z"
    }
   },
   "outputs": [
    {
     "data": {
      "text/plain": [
       "0.41807696117681564"
      ]
     },
     "execution_count": 63,
     "metadata": {},
     "output_type": "execute_result"
    }
   ],
   "source": [
    "#索引位置\n",
    "time_s[0]"
   ]
  },
  {
   "cell_type": "code",
   "execution_count": 64,
   "metadata": {
    "ExecuteTime": {
     "end_time": "2021-05-26T03:55:23.430074Z",
     "start_time": "2021-05-26T03:55:23.424672Z"
    }
   },
   "outputs": [
    {
     "data": {
      "text/plain": [
       "0.41807696117681564"
      ]
     },
     "execution_count": 64,
     "metadata": {},
     "output_type": "execute_result"
    }
   ],
   "source": [
    "#索引值\n",
    "time_s[datetime(2021,3,15)]"
   ]
  },
  {
   "cell_type": "code",
   "execution_count": 65,
   "metadata": {
    "ExecuteTime": {
     "end_time": "2021-05-26T03:55:31.224954Z",
     "start_time": "2021-05-26T03:55:31.217913Z"
    }
   },
   "outputs": [
    {
     "data": {
      "text/plain": [
       "0.41807696117681564"
      ]
     },
     "execution_count": 65,
     "metadata": {},
     "output_type": "execute_result"
    }
   ],
   "source": [
    "#可以被解析的日期字符串\n",
    "time_s['2021/3/15']"
   ]
  },
  {
   "cell_type": "code",
   "execution_count": 66,
   "metadata": {
    "ExecuteTime": {
     "end_time": "2021-05-26T03:55:32.973877Z",
     "start_time": "2021-05-26T03:55:32.967812Z"
    }
   },
   "outputs": [
    {
     "data": {
      "text/plain": [
       "-1.6726389212760604"
      ]
     },
     "execution_count": 66,
     "metadata": {},
     "output_type": "execute_result"
    }
   ],
   "source": [
    "time_s['2021-3-16']"
   ]
  },
  {
   "cell_type": "code",
   "execution_count": 67,
   "metadata": {
    "ExecuteTime": {
     "end_time": "2021-05-26T03:55:38.189669Z",
     "start_time": "2021-05-26T03:55:38.181167Z"
    }
   },
   "outputs": [
    {
     "data": {
      "text/plain": [
       "2021-03-15    0.418077\n",
       "2021-03-16   -1.672639\n",
       "2021-03-17   -0.318196\n",
       "2021-03-18    0.221311\n",
       "2021-03-19    0.245561\n",
       "2021-03-20    0.076087\n",
       "dtype: float64"
      ]
     },
     "execution_count": 67,
     "metadata": {},
     "output_type": "execute_result"
    }
   ],
   "source": [
    "#按年份、月份索引\n",
    "time_s['2021-03']"
   ]
  },
  {
   "cell_type": "code",
   "execution_count": 68,
   "metadata": {
    "ExecuteTime": {
     "end_time": "2021-05-26T03:55:41.196002Z",
     "start_time": "2021-05-26T03:55:41.186711Z"
    }
   },
   "outputs": [
    {
     "data": {
      "text/plain": [
       "2021-03-15    0.418077\n",
       "2021-03-16   -1.672639\n",
       "2021-03-17   -0.318196\n",
       "2021-03-18    0.221311\n",
       "2021-03-19    0.245561\n",
       "2021-03-20    0.076087\n",
       "dtype: float64"
      ]
     },
     "execution_count": 68,
     "metadata": {},
     "output_type": "execute_result"
    }
   ],
   "source": [
    "#拿整年数据\n",
    "time_s['2021']"
   ]
  },
  {
   "cell_type": "code",
   "execution_count": 69,
   "metadata": {
    "ExecuteTime": {
     "end_time": "2021-05-26T03:55:49.380439Z",
     "start_time": "2021-05-26T03:55:49.372922Z"
    }
   },
   "outputs": [
    {
     "data": {
      "text/plain": [
       "2021-03-17   -0.318196\n",
       "2021-03-18    0.221311\n",
       "2021-03-19    0.245561\n",
       "2021-03-20    0.076087\n",
       "dtype: float64"
      ]
     },
     "execution_count": 69,
     "metadata": {},
     "output_type": "execute_result"
    }
   ],
   "source": [
    "#切片操作\n",
    "# time_s['2021-3-15':]\n",
    "time_s['2021-3-17':]"
   ]
  },
  {
   "cell_type": "code",
   "execution_count": 26,
   "metadata": {
    "ExecuteTime": {
     "end_time": "2021-05-26T03:22:25.067285Z",
     "start_time": "2021-05-26T03:22:25.058082Z"
    }
   },
   "outputs": [
    {
     "data": {
      "text/plain": [
       "2021-03-18   -0.253077\n",
       "2021-03-19    1.405917\n",
       "2021-03-20    1.421750\n",
       "dtype: float64"
      ]
     },
     "execution_count": 26,
     "metadata": {},
     "output_type": "execute_result"
    }
   ],
   "source": [
    "'''\n",
    "过滤\n",
    "'''\n",
    "time_s.truncate(before='2021-3-18')"
   ]
  },
  {
   "cell_type": "code",
   "execution_count": 27,
   "metadata": {
    "ExecuteTime": {
     "end_time": "2021-05-26T03:22:27.408313Z",
     "start_time": "2021-05-26T03:22:27.401370Z"
    }
   },
   "outputs": [
    {
     "data": {
      "text/plain": [
       "2021-03-15   -1.020334\n",
       "2021-03-16   -0.032143\n",
       "2021-03-17   -1.394610\n",
       "2021-03-18   -0.253077\n",
       "dtype: float64"
      ]
     },
     "execution_count": 27,
     "metadata": {},
     "output_type": "execute_result"
    }
   ],
   "source": [
    "time_s.truncate(after='2021-3-18')"
   ]
  },
  {
   "cell_type": "code",
   "execution_count": 70,
   "metadata": {
    "ExecuteTime": {
     "end_time": "2021-05-26T03:56:56.728776Z",
     "start_time": "2021-05-26T03:56:56.721216Z"
    }
   },
   "outputs": [
    {
     "data": {
      "text/plain": [
       "DatetimeIndex(['2021-03-15', '2021-03-16', '2021-03-17', '2021-03-18',\n",
       "               '2021-03-19'],\n",
       "              dtype='datetime64[ns]', freq='D')"
      ]
     },
     "execution_count": 70,
     "metadata": {},
     "output_type": "execute_result"
    }
   ],
   "source": [
    "'''\n",
    "生成日期范围\n",
    "'''\n",
    "date_index = pd.date_range('2021-03-15','2021-03-19')\n",
    "date_index"
   ]
  },
  {
   "cell_type": "code",
   "execution_count": 71,
   "metadata": {
    "ExecuteTime": {
     "end_time": "2021-05-26T03:57:23.106524Z",
     "start_time": "2021-05-26T03:57:23.099715Z"
    }
   },
   "outputs": [
    {
     "data": {
      "text/plain": [
       "DatetimeIndex(['2021-03-17', '2021-03-18', '2021-03-19', '2021-03-20',\n",
       "               '2021-03-21', '2021-03-22', '2021-03-23', '2021-03-24',\n",
       "               '2021-03-25', '2021-03-26'],\n",
       "              dtype='datetime64[ns]', freq='D')"
      ]
     },
     "execution_count": 71,
     "metadata": {},
     "output_type": "execute_result"
    }
   ],
   "source": [
    "#只传入开始或者结束日期，还需要传入时间段\n",
    "pd.date_range(start='2021-03-17',periods=10)"
   ]
  },
  {
   "cell_type": "code",
   "execution_count": 72,
   "metadata": {
    "ExecuteTime": {
     "end_time": "2021-05-26T03:57:31.629324Z",
     "start_time": "2021-05-26T03:57:31.622321Z"
    }
   },
   "outputs": [
    {
     "data": {
      "text/plain": [
       "DatetimeIndex(['2021-03-08', '2021-03-09', '2021-03-10', '2021-03-11',\n",
       "               '2021-03-12', '2021-03-13', '2021-03-14', '2021-03-15',\n",
       "               '2021-03-16', '2021-03-17'],\n",
       "              dtype='datetime64[ns]', freq='D')"
      ]
     },
     "execution_count": 72,
     "metadata": {},
     "output_type": "execute_result"
    }
   ],
   "source": [
    "pd.date_range(end='2021-03-17',periods=10)"
   ]
  },
  {
   "cell_type": "code",
   "execution_count": 73,
   "metadata": {
    "ExecuteTime": {
     "end_time": "2021-05-26T03:57:56.325752Z",
     "start_time": "2021-05-26T03:57:56.319447Z"
    }
   },
   "outputs": [
    {
     "data": {
      "text/plain": [
       "DatetimeIndex(['2021-03-17 12:00:00', '2021-03-18 12:00:00',\n",
       "               '2021-03-19 12:00:00', '2021-03-20 12:00:00',\n",
       "               '2021-03-21 12:00:00', '2021-03-22 12:00:00',\n",
       "               '2021-03-23 12:00:00', '2021-03-24 12:00:00',\n",
       "               '2021-03-25 12:00:00', '2021-03-26 12:00:00'],\n",
       "              dtype='datetime64[ns]', freq='D')"
      ]
     },
     "execution_count": 73,
     "metadata": {},
     "output_type": "execute_result"
    }
   ],
   "source": [
    "#规范化时间戳\n",
    "pd.date_range(start='2021-03-17 12:00:00',periods=10)"
   ]
  },
  {
   "cell_type": "code",
   "execution_count": 75,
   "metadata": {
    "ExecuteTime": {
     "end_time": "2021-05-26T03:58:51.063218Z",
     "start_time": "2021-05-26T03:58:51.056175Z"
    }
   },
   "outputs": [
    {
     "data": {
      "text/plain": [
       "DatetimeIndex(['2021-03-17', '2021-03-18', '2021-03-19', '2021-03-20',\n",
       "               '2021-03-21', '2021-03-22', '2021-03-23', '2021-03-24',\n",
       "               '2021-03-25', '2021-03-26'],\n",
       "              dtype='datetime64[ns]', freq='D')"
      ]
     },
     "execution_count": 75,
     "metadata": {},
     "output_type": "execute_result"
    }
   ],
   "source": [
    "#自动屏蔽掉后面的时分秒，以年月日的形式展示\n",
    "pd.date_range(start='2021-03-17 12:00:00',periods=10,normalize=True)"
   ]
  },
  {
   "cell_type": "code",
   "execution_count": 76,
   "metadata": {
    "ExecuteTime": {
     "end_time": "2021-05-26T03:59:06.899294Z",
     "start_time": "2021-05-26T03:59:06.891933Z"
    }
   },
   "outputs": [
    {
     "data": {
      "text/plain": [
       "DatetimeIndex(['2021-03-17 12:00:00', '2021-03-19 12:00:00',\n",
       "               '2021-03-21 12:00:00', '2021-03-23 12:00:00',\n",
       "               '2021-03-25 12:00:00', '2021-03-27 12:00:00',\n",
       "               '2021-03-29 12:00:00', '2021-03-31 12:00:00',\n",
       "               '2021-04-02 12:00:00', '2021-04-04 12:00:00'],\n",
       "              dtype='datetime64[ns]', freq='2D')"
      ]
     },
     "execution_count": 76,
     "metadata": {},
     "output_type": "execute_result"
    }
   ],
   "source": [
    "#设置倍数，比如2D/3D等\n",
    "pd.date_range(start='2021-03-17 12:00:00',periods=10,freq='2D')"
   ]
  },
  {
   "cell_type": "code",
   "execution_count": 77,
   "metadata": {
    "ExecuteTime": {
     "end_time": "2021-05-26T04:00:19.789711Z",
     "start_time": "2021-05-26T04:00:19.783706Z"
    }
   },
   "outputs": [
    {
     "data": {
      "text/plain": [
       "Timedelta('14 days 12:00:00')"
      ]
     },
     "execution_count": 77,
     "metadata": {},
     "output_type": "execute_result"
    }
   ],
   "source": [
    "'''\n",
    "偏移量\n",
    "'''\n",
    "sum_offset = pd.tseries.offsets.Week(2) + pd.tseries.offsets.Hour(12)\n",
    "sum_offset"
   ]
  },
  {
   "cell_type": "code",
   "execution_count": 36,
   "metadata": {
    "ExecuteTime": {
     "end_time": "2021-05-26T03:23:40.091614Z",
     "start_time": "2021-05-26T03:23:40.085175Z"
    }
   },
   "outputs": [
    {
     "data": {
      "text/plain": [
       "DatetimeIndex(['2021-03-17 12:00:00', '2021-04-01 00:00:00',\n",
       "               '2021-04-15 12:00:00', '2021-04-30 00:00:00',\n",
       "               '2021-05-14 12:00:00', '2021-05-29 00:00:00',\n",
       "               '2021-06-12 12:00:00', '2021-06-27 00:00:00',\n",
       "               '2021-07-11 12:00:00', '2021-07-26 00:00:00'],\n",
       "              dtype='datetime64[ns]', freq='348H')"
      ]
     },
     "execution_count": 36,
     "metadata": {},
     "output_type": "execute_result"
    }
   ],
   "source": [
    "#可以将上面freq设置的值直接使用偏移量也是可以的\n",
    "pd.date_range(start='2021-03-17 12:00:00',periods=10,freq=sum_offset)"
   ]
  },
  {
   "cell_type": "markdown",
   "metadata": {},
   "source": [
    "#### 时期的频率转换"
   ]
  },
  {
   "cell_type": "code",
   "execution_count": 78,
   "metadata": {
    "ExecuteTime": {
     "end_time": "2021-05-26T04:02:19.063800Z",
     "start_time": "2021-05-26T04:02:19.057409Z"
    }
   },
   "outputs": [
    {
     "data": {
      "text/plain": [
       "Period('2021-01', 'M')"
      ]
     },
     "execution_count": 78,
     "metadata": {},
     "output_type": "execute_result"
    }
   ],
   "source": [
    "p = pd.Period('2021',freq='A-DEC')\n",
    "p.asfreq('M',how='start')"
   ]
  },
  {
   "cell_type": "code",
   "execution_count": 79,
   "metadata": {
    "ExecuteTime": {
     "end_time": "2021-05-26T04:02:28.706987Z",
     "start_time": "2021-05-26T04:02:28.702030Z"
    }
   },
   "outputs": [
    {
     "data": {
      "text/plain": [
       "Period('2021-12', 'M')"
      ]
     },
     "execution_count": 79,
     "metadata": {},
     "output_type": "execute_result"
    }
   ],
   "source": [
    "p.asfreq('M',how='end')"
   ]
  },
  {
   "cell_type": "code",
   "execution_count": 80,
   "metadata": {
    "ExecuteTime": {
     "end_time": "2021-05-26T04:02:36.119939Z",
     "start_time": "2021-05-26T04:02:36.113830Z"
    }
   },
   "outputs": [
    {
     "data": {
      "text/plain": [
       "Period('2020-07', 'M')"
      ]
     },
     "execution_count": 80,
     "metadata": {},
     "output_type": "execute_result"
    }
   ],
   "source": [
    "p = pd.Period('2021',freq='A-JUN')\n",
    "p.asfreq('M','start')"
   ]
  },
  {
   "cell_type": "code",
   "execution_count": null,
   "metadata": {},
   "outputs": [],
   "source": []
  },
  {
   "cell_type": "code",
   "execution_count": null,
   "metadata": {},
   "outputs": [],
   "source": []
  },
  {
   "cell_type": "code",
   "execution_count": null,
   "metadata": {},
   "outputs": [],
   "source": []
  }
 ],
 "metadata": {
  "kernelspec": {
   "display_name": "Python 3",
   "language": "python",
   "name": "python3"
  },
  "language_info": {
   "codemirror_mode": {
    "name": "ipython",
    "version": 3
   },
   "file_extension": ".py",
   "mimetype": "text/x-python",
   "name": "python",
   "nbconvert_exporter": "python",
   "pygments_lexer": "ipython3",
   "version": "3.7.3"
  },
  "latex_envs": {
   "LaTeX_envs_menu_present": true,
   "autoclose": false,
   "autocomplete": true,
   "bibliofile": "biblio.bib",
   "cite_by": "apalike",
   "current_citInitial": 1,
   "eqLabelWithNumbers": true,
   "eqNumInitial": 1,
   "hotkeys": {
    "equation": "Ctrl-E",
    "itemize": "Ctrl-I"
   },
   "labels_anchors": false,
   "latex_user_defs": false,
   "report_style_numbering": false,
   "user_envs_cfg": false
  },
  "toc": {
   "base_numbering": 1,
   "nav_menu": {},
   "number_sections": true,
   "sideBar": true,
   "skip_h1_title": false,
   "title_cell": "Table of Contents",
   "title_sidebar": "Contents",
   "toc_cell": false,
   "toc_position": {
    "height": "calc(100% - 180px)",
    "left": "10px",
    "top": "150px",
    "width": "288px"
   },
   "toc_section_display": true,
   "toc_window_display": true
  }
 },
 "nbformat": 4,
 "nbformat_minor": 2
}
