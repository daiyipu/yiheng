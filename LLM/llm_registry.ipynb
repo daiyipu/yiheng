{
 "cells": [
  {
   "cell_type": "code",
   "execution_count": 1,
   "metadata": {},
   "outputs": [],
   "source": [
    "from qwen_agent.llm.base import LLM_REGISTRY"
   ]
  },
  {
   "cell_type": "code",
   "execution_count": null,
   "metadata": {},
   "outputs": [],
   "source": [
    "LLM_REGISTRY"
   ]
  },
  {
   "cell_type": "code",
   "execution_count": null,
   "metadata": {},
   "outputs": [],
   "source": [
    "@register_llm(\"deepseek\")  # 👈 注册模型类型为 \"deepseek\"\n",
    "class DeepSeekLLM:\n",
    "    def __init__(self):\n",
    "        self.config = {\n",
    "            'api_key': os.getenv(\"ARK_API_KEY\"),        # 从环境变量读取密钥\n",
    "            'base_url': \"https://ark.cn-beijing.volces.com/api/v3\",  # API 基础地址\n",
    "            'model': \"deepseek-r1-250120\"               # 默认模型版本\n",
    "        }\n",
    "    \n",
    "    def generate(self, prompt: str) -> str:\n",
    "        \"\"\"调用示例方法\"\"\"\n",
    "        # 这里添加实际的 API 调用逻辑\n",
    "        return f\"DeepSeek Response to: {prompt}\"\n",
    "\n"
   ]
  },
  {
   "cell_type": "code",
   "execution_count": null,
   "metadata": {},
   "outputs": [],
   "source": [
    "# 验证注册\n",
    "if __name__ == \"__main__\":\n",
    "    print(\"已注册的模型:\", LLM_REGISTRY.keys())  # 输出: dict_keys(['deepseek'])\n",
    "    \n",
    "    # 实例化并使用\n",
    "    deepseek = LLM_REGISTRY[\"deepseek\"]()\n",
    "    print(deepseek.config)\n",
    "    # 输出: {'api_key': 'your_env_value', 'base_url': '...', 'model': 'deepseek-r1-250120'}\n",
    "    \n",
    "    print(deepseek.generate(\"Hello world\"))\n",
    "    # 输出: DeepSeek Response to: Hello world"
   ]
  }
 ],
 "metadata": {
  "kernelspec": {
   "display_name": "Python 3",
   "language": "python",
   "name": "python3"
  },
  "language_info": {
   "codemirror_mode": {
    "name": "ipython",
    "version": 3
   },
   "file_extension": ".py",
   "mimetype": "text/x-python",
   "name": "python",
   "nbconvert_exporter": "python",
   "pygments_lexer": "ipython3",
   "version": "3.10.9"
  }
 },
 "nbformat": 4,
 "nbformat_minor": 2
}
