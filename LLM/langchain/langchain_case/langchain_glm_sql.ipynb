{
 "cells": [
  {
   "cell_type": "markdown",
   "metadata": {},
   "source": [
    "5，数据库问答(Querying Tabular Data): 从数据库/类数据库内容中抽取数据信息。"
   ]
  },
  {
   "cell_type": "code",
   "execution_count": 3,
   "metadata": {},
   "outputs": [],
   "source": [
    "# 使用你自己的OpenAI API key\n",
    "# openai_api_key='sk-PFwMvMFcU7VXaL5cYM9vT3B'\n",
    "# zhipu_api_key='08132b620644081b192567639fc0a9b1.OAz1XI2d21zLZDk9'\n",
    "#调用环境变量\n",
    "import os\n",
    "zhipu_api_key = os.environ.get('ZHIPU_API_KEY')"
   ]
  },
  {
   "cell_type": "code",
   "execution_count": 4,
   "metadata": {},
   "outputs": [],
   "source": [
    "import time\n",
    "import jwt\n",
    " \n",
    "def generate_token(apikey: str, exp_seconds: int):\n",
    "    try:\n",
    "        id, secret = apikey.split(\".\")\n",
    "    except Exception as e:\n",
    "        raise Exception(\"invalid apikey\", e)\n",
    " \n",
    "    payload = {\n",
    "        \"api_key\": id,\n",
    "        \"exp\": int(round(time.time() * 1000)) + exp_seconds * 1000,\n",
    "        \"timestamp\": int(round(time.time() * 1000)),\n",
    "    }\n",
    " \n",
    "    return jwt.encode(\n",
    "        payload,\n",
    "        secret,\n",
    "        algorithm=\"HS256\",\n",
    "        headers={\"alg\": \"HS256\", \"sign_type\": \"SIGN\"},\n",
    "    )"
   ]
  },
  {
   "cell_type": "code",
   "execution_count": 5,
   "metadata": {},
   "outputs": [],
   "source": [
    "# from langchain_community.chat_models import ChatOpenAI\n",
    "# from langchain.chat_models import ChatOpenAI\n",
    "from langchain_openai import ChatOpenAI\n",
    "llm =ChatOpenAI(\n",
    "        model_name=\"glm-4\",\n",
    "        openai_api_base=\"https://open.bigmodel.cn/api/paas/v4\",\n",
    "        openai_api_key=generate_token(zhipu_api_key,10000),\n",
    "        streaming=False,\n",
    "        temperature=0.5\n",
    "    )"
   ]
  },
  {
   "cell_type": "markdown",
   "metadata": {
    "id": "MaUJftcC6aCV"
   },
   "source": [
    "## 五，数据库问答(Querying Tabular Data)"
   ]
  },
  {
   "cell_type": "code",
   "execution_count": 6,
   "metadata": {
    "ExecuteTime": {
     "end_time": "2023-09-28T12:19:00.323997Z",
     "start_time": "2023-09-28T12:19:00.285875Z"
    },
    "id": "dIpb5Hi46OCr"
   },
   "outputs": [],
   "source": [
    "# 使用自然语言查询一个 SQLite 数据库，我们将使用旧金山树木数据集\n",
    "# Don't run following code if you don't run sqlite and follow db\n",
    "from langchain import OpenAI, SQLDatabase\n",
    "# %pip install  --user langchain_experimental\n",
    "from langchain_experimental.sql import SQLDatabaseChain\n",
    "# llm = OpenAI(temperature=0, openai_api_key=openai_api_key)"
   ]
  },
  {
   "cell_type": "code",
   "execution_count": 7,
   "metadata": {
    "ExecuteTime": {
     "end_time": "2023-09-28T12:19:00.647603Z",
     "start_time": "2023-09-28T12:19:00.329010Z"
    },
    "id": "6DiP-LlX6nrh"
   },
   "outputs": [],
   "source": [
    "sqlite_db_path = 'San_Francisco_Trees.db'\n",
    "db = SQLDatabase.from_uri(f\"sqlite:///{sqlite_db_path}\")"
   ]
  },
  {
   "cell_type": "code",
   "execution_count": 8,
   "metadata": {
    "ExecuteTime": {
     "end_time": "2023-09-28T12:19:00.694738Z",
     "start_time": "2023-09-28T12:19:00.657630Z"
    },
    "id": "X568YYZ265Pi"
   },
   "outputs": [],
   "source": [
    "db_chain = SQLDatabaseChain.from_llm(llm=llm, db=db, use_query_checker=True,verbose=True)"
   ]
  },
  {
   "cell_type": "code",
   "execution_count": 12,
   "metadata": {
    "ExecuteTime": {
     "end_time": "2023-09-28T12:19:41.013454Z",
     "start_time": "2023-09-28T12:19:00.697748Z"
    },
    "id": "vLuuRm4n66NM"
   },
   "outputs": [
    {
     "name": "stdout",
     "output_type": "stream",
     "text": [
      "\n",
      "\n",
      "\u001b[1m> Entering new SQLDatabaseChain chain...\u001b[0m\n",
      "多少树在San Francisco?\n",
      "SQLQuery:\n",
      " llm_inputs {'input': '多少树在San Francisco?\\nSQLQuery:', 'top_k': '5', 'dialect': 'sqlite', 'table_info': '\\nCREATE TABLE \"SFTrees\" (\\n\\t\"TreeID\" INTEGER, \\n\\t\"qSpecies\" TEXT, \\n\\t\"qAddress\" TEXT, \\n\\t\"PlantType\" TEXT\\n)\\n\\n/*\\n3 rows from SFTrees table:\\nTreeID\\tqSpecies\\tqAddress\\tPlantType\\n168225\\tArbutus \\'Marina\\' :: Hybrid Strawberry Tree\\t2547 Vallejo St\\tTree\\n168228\\tArbutus \\'Marina\\' :: Hybrid Strawberry Tree\\t2547 Vallejo St\\tTree\\n189160\\tAfrocarpus gracilior :: Fern Pine\\t100 Kissling St\\tTree\\n*/', 'stop': ['\\nSQLResult:']}\n",
      "\n",
      " sql_cmd SELECT COUNT(\"TreeID\") FROM \"SFTrees\"\n",
      "SQLResult:\n",
      "query_checker_prompt:: input_variables=['dialect', 'query'] template='\\n{query}\\nDouble check the {dialect} query above for common mistakes, including:\\n- Using NOT IN with NULL values\\n- Using UNION when UNION ALL should have been used\\n- Using BETWEEN for exclusive ranges\\n- Data type mismatch in predicates\\n- Properly quoting identifiers\\n- Using the correct number of arguments for functions\\n- Casting to the correct data type\\n- Using the proper columns for joins\\nshuibianjiang\\nIf there are any of the above mistakes, rewrite the query. If there are no mistakes, just reproduce the original query.\\n\\nOutput the final SQL query only.输出为SQL语法的可执行语句，不需要其他说明和解释。\\n\\nSQL Query: '\n",
      "checked_sql_command:: SELECT COUNT(\"TreeID\") FROM \"SFTrees\"\n",
      "\u001b[32;1m\u001b[1;3mSELECT COUNT(\"TreeID\") FROM \"SFTrees\"\u001b[0m\n",
      "SQLResult: \u001b[33;1m\u001b[1;3m[(197096,)]\u001b[0m\n",
      "Answer:\u001b[32;1m\u001b[1;3mSan Francisco有197,096棵树。\u001b[0m\n",
      "\u001b[1m> Finished chain.\u001b[0m\n"
     ]
    },
    {
     "data": {
      "text/plain": [
       "{'query': '多少树在San Francisco?', 'result': 'San Francisco有197,096棵树。'}"
      ]
     },
     "execution_count": 12,
     "metadata": {},
     "output_type": "execute_result"
    }
   ],
   "source": [
    "# db_chain.invoke(\"How many Species of trees are there in San Francisco?\")\n",
    "db_chain.invoke(\"多少树在San Francisco?\")"
   ]
  },
  {
   "cell_type": "markdown",
   "metadata": {
    "id": "d4ukkWFf7BaS"
   },
   "source": [
    "1. Find which table to use\n",
    "2. Find which column to use\n",
    "3. Construct the correct sql query\n",
    "4. Execute that query\n",
    "5. Get the result\n",
    "6. Return a natural language reponse back\n",
    "\n",
    "confirm LLM result via pandas"
   ]
  },
  {
   "cell_type": "code",
   "execution_count": null,
   "metadata": {},
   "outputs": [],
   "source": []
  }
 ],
 "metadata": {
  "colab": {
   "provenance": []
  },
  "kernelspec": {
   "display_name": "base",
   "language": "python",
   "name": "python3"
  },
  "language_info": {
   "codemirror_mode": {
    "name": "ipython",
    "version": 3
   },
   "file_extension": ".py",
   "mimetype": "text/x-python",
   "name": "python",
   "nbconvert_exporter": "python",
   "pygments_lexer": "ipython3",
   "version": "3.10.9"
  },
  "toc": {
   "base_numbering": 1,
   "nav_menu": {},
   "number_sections": true,
   "sideBar": true,
   "skip_h1_title": false,
   "title_cell": "Table of Contents",
   "title_sidebar": "Contents",
   "toc_cell": false,
   "toc_position": {
    "height": "calc(100% - 180px)",
    "left": "10px",
    "top": "150px",
    "width": "242.909px"
   },
   "toc_section_display": true,
   "toc_window_display": true
  }
 },
 "nbformat": 4,
 "nbformat_minor": 4
}
