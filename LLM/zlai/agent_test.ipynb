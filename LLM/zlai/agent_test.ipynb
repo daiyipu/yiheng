{
 "cells": [
  {
   "cell_type": "code",
   "execution_count": 1,
   "metadata": {},
   "outputs": [],
   "source": [
    "from zlai.agent import *\n",
    "from zlai.llms import Zhipu\n",
    "from zlai.llms import (\n",
    "    GLM3TurboGenerateConfig, GLM4GenerateConfig\n",
    ")\n",
    "\n",
    "task_weather = [\n",
    "    TaskDescription(\n",
    "        task=AddressAgent, task_id=0, task_name=\"地址解析机器人\",\n",
    "        task_description=\"\"\"可以帮助你解析文本中的地址信息，并返回标准地址字段信息。\"\"\",\n",
    "        task_parameters=TaskParameters(\n",
    "            llm=Zhipu(generate_config=GLM4GenerateConfig()),\n",
    "            verbose=True,\n",
    "        )\n",
    "    ),\n",
    "    TaskDescription(\n",
    "        task=WeatherAgent, task_id=1, task_name=\"天气播报机器人\",\n",
    "        task_description=\"\"\"提供具体的地址信息后可以帮助你查询当地的天气情况，必须提供标准地址。\"\"\",\n",
    "        task_parameters=TaskParameters(\n",
    "            llm=Zhipu(generate_config=GLM4GenerateConfig()),\n",
    "            verbose=True,\n",
    "        )\n",
    "    ),\n",
    "]"
   ]
  },
  {
   "cell_type": "code",
   "execution_count": 2,
   "metadata": {},
   "outputs": [
    {
     "name": "stdout",
     "output_type": "stream",
     "text": [
      "llm=<zlai.llms.zhipu.Zhipu object at 0x000002280D97C790> embedding=None db=None db_path=None system_message=SystemMessage(role='system', content='You are a helpful assistant.') system_template=None prompt_template=None few_shot=None messages_prompt=None use_memory=False max_memory_messages=None logger=None verbose=None index_name=None elasticsearch_host=None hooks=None tools_description=None tools_params_fun=None kwargs=None\n"
     ]
    }
   ],
   "source": [
    "from zlai.schema import SystemMessage\n",
    "from zlai.llms import Zhipu, GLM4GenerateConfig\n",
    "from zlai.agent import TaskParameters\n",
    "\n",
    "system_message = SystemMessage(content=\"\"\"You are a helpful assistant.\"\"\")\n",
    "\n",
    "task_parameters = TaskParameters(\n",
    "    llm=Zhipu(generate_config=GLM4GenerateConfig()),\n",
    "    system_message=system_message,\n",
    ")\n",
    "\n",
    "print(task_parameters)"
   ]
  },
  {
   "cell_type": "code",
   "execution_count": 3,
   "metadata": {},
   "outputs": [],
   "source": [
    "task_weather = [\n",
    "    TaskDescription(\n",
    "        task=AddressAgent, task_id=0, task_name=\"地址解析机器人\",\n",
    "        task_description=\"\"\"可以帮助你解析文本中的地址信息，并返回标准地址字段信息。\"\"\",\n",
    "        task_parameters=TaskParameters(\n",
    "            llm=Zhipu(generate_config=GLM4GenerateConfig()),\n",
    "            verbose=True,\n",
    "        )\n",
    "    ),\n",
    "    TaskDescription(\n",
    "        task=WeatherAgent, task_id=1, task_name=\"天气播报机器人\",\n",
    "        task_description=\"\"\"提供具体的地址信息后可以帮助你查询当地的天气情况，必须提供标准地址。\"\"\",\n",
    "        task_parameters=TaskParameters(\n",
    "            llm=Zhipu(generate_config=GLM4GenerateConfig()),\n",
    "            verbose=True,\n",
    "        )\n",
    "    ),\n",
    "]"
   ]
  },
  {
   "cell_type": "code",
   "execution_count": 4,
   "metadata": {},
   "outputs": [],
   "source": [
    "task_seq = TaskSequence(task_list=task_weather, verbose=True)"
   ]
  },
  {
   "cell_type": "code",
   "execution_count": 5,
   "metadata": {},
   "outputs": [
    {
     "name": "stdout",
     "output_type": "stream",
     "text": [
      "\u001b[32m[Task Sequence] Running 2 tasks...\n",
      "\u001b[0m\n",
      "\u001b[35m[Task Sequence @ Address Agent] Start ...\u001b[0m\n",
      "\u001b[32m[Address Agent] User Question: 杭州今天天气怎么样？\u001b[0m\n",
      "\u001b[31m==================== [Address Agent] Messages Start ====================\n",
      "\u001b[0m\n",
      "\u001b[34msystem [63]: [你是一个地址命名实体识别机器人，你需要解析出文本中出现的省、市、区，并以Dict输出。文本中没有省、市、区，则返回空Dict。]\n",
      "\u001b[0m\n",
      "\u001b[34muser [14]: [上海市浦东新区张江高科技园区]\n",
      "\u001b[0m\n",
      "\u001b[34massistant [54]: [{'province': '上海市', 'city': '上海市', 'district': '浦东新区'}]\n",
      "\u001b[0m\n",
      "\u001b[34muser [18]: [广东省深圳市南山区深南大道1001号]\n",
      "\u001b[0m\n",
      "\u001b[34massistant [53]: [{'province': '广东省', 'city': '深圳市', 'district': '南山区'}]\n",
      "\u001b[0m\n",
      "\u001b[34muser [13]: [河北省衡水市景县的天气情况]\n",
      "\u001b[0m\n",
      "\u001b[34massistant [52]: [{'province': '河北省', 'city': '衡水市', 'district': '景县'}]\n",
      "\u001b[0m\n",
      "\u001b[34muser [3]: [你好呀]\n",
      "\u001b[0m\n",
      "\u001b[34massistant [2]: [{}]\n",
      "\u001b[0m\n",
      "\u001b[34muser [10]: [杭州今天天气怎么样？]\n",
      "\u001b[0m\n",
      "\u001b[31m==================== [Address Agent] Messages End    ====================\n",
      "\u001b[0m\n",
      "\u001b[32m[Address Agent] Final Answer:\n",
      "{'province': '浙江省', 'city': '杭州市', 'district': None}\u001b[0m\n",
      "\u001b[33m[Address Agent] Parsed address:\n",
      "[{'province': '浙江省', 'city': '杭州市', 'district': None}]\u001b[0m\n",
      "\u001b[35m[Task Sequence @ Address Agent] End.\n",
      "\u001b[0m\n",
      "\u001b[35m[Task Sequence @ Weather Agent] Start ...\u001b[0m\n",
      "\u001b[32m[Weather Agent] City Name: 杭州市\u001b[0m\n",
      "\u001b[31m==================== [Weather Agent] Messages Start ====================\n",
      "\u001b[0m\n",
      "\u001b[34msystem [36]: [You are a helpful Weather Announcer.]\n",
      "\u001b[0m\n",
      "\u001b[34muser [193]: [请根据以下天气信息回答问题。\n",
      "\n",
      "信息：\n",
      "```\n",
      "{'current_condition': {'temp_C': '25', 'FeelsLikeC': '29', 'humidity': '94',...]\n",
      "\u001b[0m\n",
      "\u001b[31m==================== [Weather Agent] Messages End    ====================\n",
      "\u001b[0m\n",
      "\u001b[32m[Weather Agent] Final Answer:\n",
      "杭州今天的天气情况如下：当前气温为25摄氏度，湿度为94%，体感温度为29摄氏度，天气状况为轻微降雨。这些信息是在凌晨03:01观测到的。请注意出门时携带雨具，以防被雨淋湿。\u001b[0m\n",
      "\u001b[35m[Task Sequence @ Weather Agent] End.\n",
      "\u001b[0m\n",
      "\u001b[32m[Task Sequence] End.\u001b[0m\n"
     ]
    }
   ],
   "source": [
    "query = \"杭州今天天气怎么样？\"\n",
    "answer = task_seq(query=query)"
   ]
  },
  {
   "cell_type": "code",
   "execution_count": 6,
   "metadata": {},
   "outputs": [],
   "source": [
    "task_switch_list = [\n",
    "    TaskDescription(\n",
    "        task=ChatAgent, task_id=0, task_name=\"闲聊机器人\",\n",
    "        task_description=\"\"\"解答用户的各类闲聊问题\"\"\",\n",
    "    ),\n",
    "    TaskDescription(\n",
    "        task=Weather, task_id=1, task_name=\"天气播报机器人\",\n",
    "        task_description=\"\"\"查询当前的天气数据，并为用户播报当前的天气信息\"\"\",\n",
    "    ),\n",
    "]\n",
    "\n",
    "llm = Zhipu(generate_config=GLM4GenerateConfig())\n",
    "chat = TaskSwitch(llm=llm, task_list=task_switch_list, verbose=True)"
   ]
  },
  {
   "cell_type": "code",
   "execution_count": 8,
   "metadata": {},
   "outputs": [
    {
     "name": "stdout",
     "output_type": "stream",
     "text": [
      "\u001b[32m[Task Switch] Start ...\n",
      "\u001b[0m\n",
      "\u001b[32m[Task Switch] Question: 关于黑神话悟空你怎么看\u001b[0m\n",
      "\u001b[31m==================== [Task] Messages Start ====================\n",
      "\u001b[0m\n",
      "\u001b[34muser [11]: [关于黑神话悟空你怎么看]\n",
      "\u001b[0m\n",
      "\u001b[31m==================== [Task] Messages End    ====================\n",
      "\u001b[0m\n",
      "\u001b[32m[Task Switch] matched task id: ['0']\n",
      "\u001b[0m\n",
      "\u001b[32m[Task Switch] task id: 0, task name: 闲聊机器人, content: [0]\n",
      "\u001b[0m\n",
      "\u001b[32m[Chat Agent] Start ...\n",
      "\u001b[0m\n",
      "\u001b[32m[Chat Agent] User Question: 关于黑神话悟空你怎么看\n",
      "\u001b[0m\n",
      "\u001b[31m==================== [Chat Agent] Messages Start ====================\n",
      "\u001b[0m\n",
      "\u001b[34msystem [28]: [You are a helpful assistant.]\n",
      "\u001b[0m\n",
      "\u001b[34muser [11]: [关于黑神话悟空你怎么看]\n",
      "\u001b[0m\n",
      "\u001b[31m==================== [Chat Agent] Messages End    ====================\n",
      "\u001b[0m\n",
      "\u001b[33m[Chat Agent] Final Answer: 《黑神话：悟空》是一款由中国游戏开发公司游戏科学（Game Science Studio）开发的动作角色扮演游戏，这款游戏以中国古典名著《西游记》中的故事为背景，展示了深厚的中国文化底蕴和优秀的游戏制作技术。从公布的演示和预告来看，这款游戏在画面表现、战斗系统、故事叙述等方面都体现了高水平的制作质量。\n",
      "\n",
      "我对《黑神话：悟空》的看法是积极的：\n",
      "\n",
      "1. **文化传承**：该游戏深入挖掘中国传统文化，将《西游记》这一经典文学作品以现代游戏的形式呈现给玩家，有助于中华文化的传播和推广。\n",
      "\n",
      "2. **技术创新**：游戏的图形渲染和物理效果等技术层面展现了开发团队的高超技艺，说明中国游戏开发在技术实力上已经达到了国际先进水平。\n",
      "\n",
      "3. **产业推动**：这样的作品也有助于推动中国游戏产业的发展，提升国产游戏的国际形象，为中国游戏走向世界贡献力量。\n",
      "\n",
      "4. **玩家期待**：《黑神话：悟空》自公布以来，就受到了国内外玩家的广泛关注和期待，这对于中国游戏市场来说是一个积极的信号。\n",
      "\n",
      "当然，最终游戏的品质和玩家体验还需要等到游戏正式发布后才能得知，但我相信开发团队会继续努力，为玩家带来高质量的游戏体验。\n",
      "\u001b[0m\n",
      "\u001b[32m[Task Switch] End ...\n",
      "\u001b[0m\n"
     ]
    }
   ],
   "source": [
    "task_completion = chat(query=\"关于黑神话悟空你怎么看\")"
   ]
  }
 ],
 "metadata": {
  "kernelspec": {
   "display_name": "base",
   "language": "python",
   "name": "python3"
  },
  "language_info": {
   "codemirror_mode": {
    "name": "ipython",
    "version": 3
   },
   "file_extension": ".py",
   "mimetype": "text/x-python",
   "name": "python",
   "nbconvert_exporter": "python",
   "pygments_lexer": "ipython3",
   "version": "3.10.9"
  }
 },
 "nbformat": 4,
 "nbformat_minor": 2
}
