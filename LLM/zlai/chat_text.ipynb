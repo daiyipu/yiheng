{
 "cells": [
  {
   "cell_type": "code",
   "execution_count": 5,
   "metadata": {},
   "outputs": [
    {
     "ename": "ValueError",
     "evalue": "api_key not found, please set api key",
     "output_type": "error",
     "traceback": [
      "\u001b[1;31m---------------------------------------------------------------------------\u001b[0m",
      "\u001b[1;31mValueError\u001b[0m                                Traceback (most recent call last)",
      "Cell \u001b[1;32mIn[5], line 9\u001b[0m\n\u001b[0;32m      1\u001b[0m \u001b[38;5;28;01mfrom\u001b[39;00m \u001b[38;5;21;01mzlai\u001b[39;00m\u001b[38;5;21;01m.\u001b[39;00m\u001b[38;5;21;01mllms\u001b[39;00m \u001b[38;5;28;01mimport\u001b[39;00m \u001b[38;5;241m*\u001b[39m\n\u001b[0;32m      2\u001b[0m \u001b[38;5;28;01mfrom\u001b[39;00m \u001b[38;5;21;01mzlai\u001b[39;00m\u001b[38;5;21;01m.\u001b[39;00m\u001b[38;5;21;01magent\u001b[39;00m \u001b[38;5;28;01mimport\u001b[39;00m \u001b[38;5;241m*\u001b[39m\n\u001b[0;32m      4\u001b[0m task_weather \u001b[38;5;241m=\u001b[39m [\n\u001b[0;32m      5\u001b[0m     TaskDescription(\n\u001b[0;32m      6\u001b[0m         task\u001b[38;5;241m=\u001b[39mAddressAgent, task_id\u001b[38;5;241m=\u001b[39m\u001b[38;5;241m0\u001b[39m, task_name\u001b[38;5;241m=\u001b[39m\u001b[38;5;124m\"\u001b[39m\u001b[38;5;124m地址解析机器人\u001b[39m\u001b[38;5;124m\"\u001b[39m,\n\u001b[0;32m      7\u001b[0m         task_description\u001b[38;5;241m=\u001b[39m\u001b[38;5;124m\"\"\"\u001b[39m\u001b[38;5;124m可以帮助你解析文本中的地址信息，并返回标准地址字段信息。\u001b[39m\u001b[38;5;124m\"\"\"\u001b[39m,\n\u001b[0;32m      8\u001b[0m         task_parameters\u001b[38;5;241m=\u001b[39mTaskParameters(\n\u001b[1;32m----> 9\u001b[0m             llm\u001b[38;5;241m=\u001b[39m\u001b[43mZhipu\u001b[49m\u001b[43m(\u001b[49m\u001b[43mgenerate_config\u001b[49m\u001b[38;5;241;43m=\u001b[39;49m\u001b[43mGLM4GenerateConfig\u001b[49m\u001b[43m(\u001b[49m\u001b[43m)\u001b[49m\u001b[43m)\u001b[49m,\n\u001b[0;32m     10\u001b[0m             verbose\u001b[38;5;241m=\u001b[39m\u001b[38;5;28;01mTrue\u001b[39;00m,\n\u001b[0;32m     11\u001b[0m         )\n\u001b[0;32m     12\u001b[0m     ),\n\u001b[0;32m     13\u001b[0m     TaskDescription(\n\u001b[0;32m     14\u001b[0m         task\u001b[38;5;241m=\u001b[39mWeatherAgent, task_id\u001b[38;5;241m=\u001b[39m\u001b[38;5;241m1\u001b[39m, task_name\u001b[38;5;241m=\u001b[39m\u001b[38;5;124m\"\u001b[39m\u001b[38;5;124m天气播报机器人\u001b[39m\u001b[38;5;124m\"\u001b[39m,\n\u001b[0;32m     15\u001b[0m         task_description\u001b[38;5;241m=\u001b[39m\u001b[38;5;124m\"\"\"\u001b[39m\u001b[38;5;124m提供具体的地址信息后可以帮助你查询当地的天气情况，必须提供标准地址。\u001b[39m\u001b[38;5;124m\"\"\"\u001b[39m,\n\u001b[0;32m     16\u001b[0m         task_parameters\u001b[38;5;241m=\u001b[39mTaskParameters(\n\u001b[0;32m     17\u001b[0m             llm\u001b[38;5;241m=\u001b[39mZhipu(generate_config\u001b[38;5;241m=\u001b[39mGLM4GenerateConfig()),\n\u001b[0;32m     18\u001b[0m             verbose\u001b[38;5;241m=\u001b[39m\u001b[38;5;28;01mTrue\u001b[39;00m,\n\u001b[0;32m     19\u001b[0m         )\n\u001b[0;32m     20\u001b[0m     ),\n\u001b[0;32m     21\u001b[0m ]\n",
      "File \u001b[1;32mc:\\Users\\admin\\anaconda3\\lib\\site-packages\\zlai\\llms\\zhipu.py:53\u001b[0m, in \u001b[0;36mZhipu.__init__\u001b[1;34m(self, api_key, messages, generate_config, output, verbose, api_key_name, async_max_request_time)\u001b[0m\n\u001b[0;32m     51\u001b[0m \u001b[38;5;28mself\u001b[39m\u001b[38;5;241m.\u001b[39moutput \u001b[38;5;241m=\u001b[39m output\n\u001b[0;32m     52\u001b[0m \u001b[38;5;28mself\u001b[39m\u001b[38;5;241m.\u001b[39mparse_info \u001b[38;5;241m=\u001b[39m []\n\u001b[1;32m---> 53\u001b[0m \u001b[38;5;28;43mself\u001b[39;49m\u001b[38;5;241;43m.\u001b[39;49m\u001b[43m_create_client\u001b[49m\u001b[43m(\u001b[49m\u001b[43m)\u001b[49m\n",
      "File \u001b[1;32mc:\\Users\\admin\\anaconda3\\lib\\site-packages\\zlai\\llms\\zhipu.py:63\u001b[0m, in \u001b[0;36mZhipu._create_client\u001b[1;34m(self)\u001b[0m\n\u001b[0;32m     61\u001b[0m     \u001b[38;5;28mself\u001b[39m\u001b[38;5;241m.\u001b[39mzhipu_client \u001b[38;5;241m=\u001b[39m ZhipuAI(api_key\u001b[38;5;241m=\u001b[39m\u001b[38;5;28mself\u001b[39m\u001b[38;5;241m.\u001b[39mapi_key)\n\u001b[0;32m     62\u001b[0m \u001b[38;5;28;01melse\u001b[39;00m:\n\u001b[1;32m---> 63\u001b[0m     \u001b[38;5;28;01mraise\u001b[39;00m \u001b[38;5;167;01mValueError\u001b[39;00m(\u001b[38;5;124mf\u001b[39m\u001b[38;5;124m\"\u001b[39m\u001b[38;5;124mapi_key not found, please set api key\u001b[39m\u001b[38;5;124m\"\u001b[39m)\n",
      "\u001b[1;31mValueError\u001b[0m: api_key not found, please set api key"
     ]
    }
   ],
   "source": [
    "from zlai.llms import *\n",
    "from zlai.agent import *\n",
    "\n",
    "task_weather = [\n",
    "    TaskDescription(\n",
    "        task=AddressAgent, task_id=0, task_name=\"地址解析机器人\",\n",
    "        task_description=\"\"\"可以帮助你解析文本中的地址信息，并返回标准地址字段信息。\"\"\",\n",
    "        task_parameters=TaskParameters(\n",
    "            llm=Zhipu(generate_config=GLM4GenerateConfig()),\n",
    "            verbose=True,\n",
    "        )\n",
    "    ),\n",
    "    TaskDescription(\n",
    "        task=WeatherAgent, task_id=1, task_name=\"天气播报机器人\",\n",
    "        task_description=\"\"\"提供具体的地址信息后可以帮助你查询当地的天气情况，必须提供标准地址。\"\"\",\n",
    "        task_parameters=TaskParameters(\n",
    "            llm=Zhipu(generate_config=GLM4GenerateConfig()),\n",
    "            verbose=True,\n",
    "        )\n",
    "    ),\n",
    "]"
   ]
  },
  {
   "cell_type": "code",
   "execution_count": 6,
   "metadata": {},
   "outputs": [
    {
     "ename": "ValueError",
     "evalue": "api_key not found, please set api key",
     "output_type": "error",
     "traceback": [
      "\u001b[1;31m---------------------------------------------------------------------------\u001b[0m",
      "\u001b[1;31mValueError\u001b[0m                                Traceback (most recent call last)",
      "Cell \u001b[1;32mIn[6], line 11\u001b[0m\n\u001b[0;32m      4\u001b[0m generate_config \u001b[38;5;241m=\u001b[39m GLM3TurboGenerateConfig(\n\u001b[0;32m      5\u001b[0m     max_tokens\u001b[38;5;241m=\u001b[39m\u001b[38;5;241m1500\u001b[39m,               \u001b[38;5;66;03m# 用于指定模型在生成内容时token的最大数量\u001b[39;00m\n\u001b[0;32m      6\u001b[0m     top_p\u001b[38;5;241m=\u001b[39m\u001b[38;5;241m0.8\u001b[39m,                     \u001b[38;5;66;03m# 生成过程中核采样方法概率阈值\u001b[39;00m\n\u001b[0;32m      7\u001b[0m     temperature\u001b[38;5;241m=\u001b[39m\u001b[38;5;241m0.85\u001b[39m,              \u001b[38;5;66;03m# 用于控制随机性和多样性的程度\u001b[39;00m\n\u001b[0;32m      8\u001b[0m )\n\u001b[0;32m     10\u001b[0m \u001b[38;5;66;03m# 创建大模型\u001b[39;00m\n\u001b[1;32m---> 11\u001b[0m llm \u001b[38;5;241m=\u001b[39m \u001b[43mZhipu\u001b[49m\u001b[43m(\u001b[49m\u001b[43mgenerate_config\u001b[49m\u001b[38;5;241;43m=\u001b[39;49m\u001b[43mgenerate_config\u001b[49m\u001b[43m)\u001b[49m\n\u001b[0;32m     13\u001b[0m \u001b[38;5;66;03m# 如果您只需要使用默认的参数配置，可以直接使用以下方式创建模型\u001b[39;00m\n\u001b[0;32m     14\u001b[0m \u001b[38;5;66;03m# llm = Zhipu(generate_config=ZhipuGLM3Turbo())\u001b[39;00m\n\u001b[0;32m     15\u001b[0m \u001b[38;5;66;03m# llm = Zhipu(generate_config=ZhipuGLM4())\u001b[39;00m\n\u001b[0;32m     16\u001b[0m \u001b[38;5;66;03m# query 为你需要问大模型的问题\u001b[39;00m\n\u001b[0;32m     17\u001b[0m completion \u001b[38;5;241m=\u001b[39m llm\u001b[38;5;241m.\u001b[39mgenerate(query\u001b[38;5;241m=\u001b[39m\u001b[38;5;124m\"\u001b[39m\u001b[38;5;124m你好\u001b[39m\u001b[38;5;124m\"\u001b[39m)\n",
      "File \u001b[1;32mc:\\Users\\admin\\anaconda3\\lib\\site-packages\\zlai\\llms\\zhipu.py:53\u001b[0m, in \u001b[0;36mZhipu.__init__\u001b[1;34m(self, api_key, messages, generate_config, output, verbose, api_key_name, async_max_request_time)\u001b[0m\n\u001b[0;32m     51\u001b[0m \u001b[38;5;28mself\u001b[39m\u001b[38;5;241m.\u001b[39moutput \u001b[38;5;241m=\u001b[39m output\n\u001b[0;32m     52\u001b[0m \u001b[38;5;28mself\u001b[39m\u001b[38;5;241m.\u001b[39mparse_info \u001b[38;5;241m=\u001b[39m []\n\u001b[1;32m---> 53\u001b[0m \u001b[38;5;28;43mself\u001b[39;49m\u001b[38;5;241;43m.\u001b[39;49m\u001b[43m_create_client\u001b[49m\u001b[43m(\u001b[49m\u001b[43m)\u001b[49m\n",
      "File \u001b[1;32mc:\\Users\\admin\\anaconda3\\lib\\site-packages\\zlai\\llms\\zhipu.py:63\u001b[0m, in \u001b[0;36mZhipu._create_client\u001b[1;34m(self)\u001b[0m\n\u001b[0;32m     61\u001b[0m     \u001b[38;5;28mself\u001b[39m\u001b[38;5;241m.\u001b[39mzhipu_client \u001b[38;5;241m=\u001b[39m ZhipuAI(api_key\u001b[38;5;241m=\u001b[39m\u001b[38;5;28mself\u001b[39m\u001b[38;5;241m.\u001b[39mapi_key)\n\u001b[0;32m     62\u001b[0m \u001b[38;5;28;01melse\u001b[39;00m:\n\u001b[1;32m---> 63\u001b[0m     \u001b[38;5;28;01mraise\u001b[39;00m \u001b[38;5;167;01mValueError\u001b[39;00m(\u001b[38;5;124mf\u001b[39m\u001b[38;5;124m\"\u001b[39m\u001b[38;5;124mapi_key not found, please set api key\u001b[39m\u001b[38;5;124m\"\u001b[39m)\n",
      "\u001b[1;31mValueError\u001b[0m: api_key not found, please set api key"
     ]
    }
   ],
   "source": [
    "from zlai.llms import Zhipu, GLM3TurboGenerateConfig, GLM4GenerateConfig\n",
    "\n",
    "# 创建模型推理配置\n",
    "generate_config = GLM3TurboGenerateConfig(\n",
    "    max_tokens=1500,               # 用于指定模型在生成内容时token的最大数量\n",
    "    top_p=0.8,                     # 生成过程中核采样方法概率阈值\n",
    "    temperature=0.85,              # 用于控制随机性和多样性的程度\n",
    ")\n",
    "\n",
    "# 创建大模型\n",
    "llm = Zhipu(generate_config=generate_config)\n",
    "\n",
    "# 如果您只需要使用默认的参数配置，可以直接使用以下方式创建模型\n",
    "# llm = Zhipu(generate_config=ZhipuGLM3Turbo())\n",
    "# llm = Zhipu(generate_config=ZhipuGLM4())\n",
    "# query 为你需要问大模型的问题\n",
    "completion = llm.generate(query=\"你好\")\n",
    "\n",
    "print(completion.choices[0].message.content)"
   ]
  },
  {
   "cell_type": "code",
   "execution_count": 4,
   "metadata": {},
   "outputs": [],
   "source": [
    "from zlai.llms import Zhipu\n",
    "from zlai.llms import (\n",
    "    GLM3TurboGenerateConfig, GLM4GenerateConfig\n",
    ")"
   ]
  }
 ],
 "metadata": {
  "kernelspec": {
   "display_name": "base",
   "language": "python",
   "name": "python3"
  },
  "language_info": {
   "codemirror_mode": {
    "name": "ipython",
    "version": 3
   },
   "file_extension": ".py",
   "mimetype": "text/x-python",
   "name": "python",
   "nbconvert_exporter": "python",
   "pygments_lexer": "ipython3",
   "version": "3.10.9"
  }
 },
 "nbformat": 4,
 "nbformat_minor": 2
}
