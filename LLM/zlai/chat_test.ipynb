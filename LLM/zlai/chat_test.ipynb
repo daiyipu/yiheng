{
 "cells": [
  {
   "cell_type": "code",
   "execution_count": 3,
   "metadata": {},
   "outputs": [],
   "source": [
    "from zlai.llms import *\n",
    "from zlai.agent import *\n",
    "\n",
    "task_weather = [\n",
    "    TaskDescription(\n",
    "        task=AddressAgent, task_id=0, task_name=\"地址解析机器人\",\n",
    "        task_description=\"\"\"可以帮助你解析文本中的地址信息，并返回标准地址字段信息。\"\"\",\n",
    "        task_parameters=TaskParameters(\n",
    "            llm=Zhipu(generate_config=GLM4GenerateConfig()),\n",
    "            verbose=True,\n",
    "        )\n",
    "    ),\n",
    "    TaskDescription(\n",
    "        task=WeatherAgent, task_id=1, task_name=\"天气播报机器人\",\n",
    "        task_description=\"\"\"提供具体的地址信息后可以帮助你查询当地的天气情况，必须提供标准地址。\"\"\",\n",
    "        task_parameters=TaskParameters(\n",
    "            llm=Zhipu(generate_config=GLM4GenerateConfig()),\n",
    "            verbose=True,\n",
    "        )\n",
    "    ),\n",
    "]"
   ]
  },
  {
   "cell_type": "code",
   "execution_count": 5,
   "metadata": {},
   "outputs": [
    {
     "name": "stdout",
     "output_type": "stream",
     "text": [
      "你好👋！我是人工智能助手智谱清言（ChatGLM），很高兴见到你，欢迎问我任何问题。\n"
     ]
    }
   ],
   "source": [
    "from zlai.llms import Zhipu, GLM3TurboGenerateConfig, GLM4GenerateConfig\n",
    "\n",
    "# 创建模型推理配置\n",
    "generate_config = GLM3TurboGenerateConfig(\n",
    "    max_tokens=1500,               # 用于指定模型在生成内容时token的最大数量\n",
    "    top_p=0.8,                     # 生成过程中核采样方法概率阈值\n",
    "    temperature=0.85,              # 用于控制随机性和多样性的程度\n",
    ")\n",
    "\n",
    "# 创建大模型\n",
    "llm = Zhipu(generate_config=generate_config)\n",
    "\n",
    "# 如果您只需要使用默认的参数配置，可以直接使用以下方式创建模型\n",
    "# llm = Zhipu(generate_config=ZhipuGLM3Turbo())\n",
    "# llm = Zhipu(generate_config=ZhipuGLM4())\n",
    "# query 为你需要问大模型的问题\n",
    "completion = llm.generate(query=\"你好\")\n",
    "\n",
    "print(completion.choices[0].message.content)"
   ]
  },
  {
   "cell_type": "code",
   "execution_count": 7,
   "metadata": {},
   "outputs": [],
   "source": [
    "from zlai.llms import Zhipu\n",
    "from zlai.llms import (\n",
    "    GLM3TurboGenerateConfig, GLM4GenerateConfig\n",
    ")"
   ]
  },
  {
   "cell_type": "code",
   "execution_count": 6,
   "metadata": {},
   "outputs": [
    {
     "ename": "NameError",
     "evalue": "name 'ZhipuGLM3Turbo' is not defined",
     "output_type": "error",
     "traceback": [
      "\u001b[1;31m---------------------------------------------------------------------------\u001b[0m",
      "\u001b[1;31mNameError\u001b[0m                                 Traceback (most recent call last)",
      "Cell \u001b[1;32mIn[6], line 14\u001b[0m\n\u001b[0;32m      4\u001b[0m \u001b[38;5;28;01mfrom\u001b[39;00m \u001b[38;5;21;01mzlai\u001b[39;00m\u001b[38;5;21;01m.\u001b[39;00m\u001b[38;5;21;01mllms\u001b[39;00m \u001b[38;5;28;01mimport\u001b[39;00m \u001b[38;5;241m*\u001b[39m\n\u001b[0;32m      7\u001b[0m embedding \u001b[38;5;241m=\u001b[39m Embedding(\n\u001b[0;32m      8\u001b[0m     \u001b[38;5;66;03m# emb_url=EMBUrl.bge_m3,\u001b[39;00m\n\u001b[0;32m      9\u001b[0m     emb_url\u001b[38;5;241m=\u001b[39m\u001b[38;5;124m'\u001b[39m\u001b[38;5;124mhost:port/embedding/bge_m3\u001b[39m\u001b[38;5;124m'\u001b[39m,\n\u001b[1;32m   (...)\u001b[0m\n\u001b[0;32m     12\u001b[0m     batch_size\u001b[38;5;241m=\u001b[39m\u001b[38;5;241m2\u001b[39m,\n\u001b[0;32m     13\u001b[0m )\n\u001b[1;32m---> 14\u001b[0m config_glm3 \u001b[38;5;241m=\u001b[39m \u001b[43mZhipuGLM3Turbo\u001b[49m()\n\u001b[0;32m     15\u001b[0m llm \u001b[38;5;241m=\u001b[39m Zhipu(\n\u001b[0;32m     16\u001b[0m     generate_config\u001b[38;5;241m=\u001b[39mconfig_glm3,\n\u001b[0;32m     17\u001b[0m )\n\u001b[0;32m     19\u001b[0m bing \u001b[38;5;241m=\u001b[39m BingSearch(\n\u001b[0;32m     20\u001b[0m     llm\u001b[38;5;241m=\u001b[39mllm,\n\u001b[0;32m     21\u001b[0m     embedding\u001b[38;5;241m=\u001b[39membedding,\n\u001b[1;32m   (...)\u001b[0m\n\u001b[0;32m     26\u001b[0m     n_chunk\u001b[38;5;241m=\u001b[39m\u001b[38;5;241m3\u001b[39m,\n\u001b[0;32m     27\u001b[0m )\n",
      "\u001b[1;31mNameError\u001b[0m: name 'ZhipuGLM3Turbo' is not defined"
     ]
    }
   ],
   "source": [
    "from zlai.agent.web.bing import BingSearch\n",
    "from zlai.embedding import Embedding\n",
    "from zlai.schema.url import EMBUrl\n",
    "from zlai.llms import *\n",
    "\n",
    "\n",
    "embedding = Embedding(\n",
    "    # emb_url=EMBUrl.bge_m3,\n",
    "    emb_url='host:port/embedding/bge_m3',\n",
    "    max_len=5000,\n",
    "    max_len_error='split',\n",
    "    batch_size=2,\n",
    ")\n",
    "config_glm3 = ZhipuGLM3Turbo()\n",
    "llm = Zhipu(\n",
    "    generate_config=config_glm3,\n",
    ")\n",
    "\n",
    "bing = BingSearch(\n",
    "    llm=llm,\n",
    "    embedding=embedding,\n",
    "    n_pages=10,\n",
    "    chunk_size=1000,\n",
    "    chunk_overlap=300,\n",
    "    verbose=True,\n",
    "    n_chunk=3,\n",
    ")\n",
    "# query = \"杭州今天的天气如何？\"\n",
    "# query = \"俄罗斯今天的新闻有哪些？\"\n",
    "# query = \"五五计划是哪一年开始的？\"\n",
    "query = \"各省市数据资产入表案例\"\n",
    "answer = bing(query=query)\n",
    "print(answer.choices[0].message.content)\n"
   ]
  }
 ],
 "metadata": {
  "kernelspec": {
   "display_name": "base",
   "language": "python",
   "name": "python3"
  },
  "language_info": {
   "codemirror_mode": {
    "name": "ipython",
    "version": 3
   },
   "file_extension": ".py",
   "mimetype": "text/x-python",
   "name": "python",
   "nbconvert_exporter": "python",
   "pygments_lexer": "ipython3",
   "version": "3.10.9"
  }
 },
 "nbformat": 4,
 "nbformat_minor": 2
}
