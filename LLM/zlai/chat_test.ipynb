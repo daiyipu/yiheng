{
 "cells": [
  {
   "cell_type": "code",
   "execution_count": 12,
   "metadata": {},
   "outputs": [],
   "source": [
    "from zlai.llms import *\n",
    "from zlai.agent import *\n",
    "\n",
    "task_weather = [\n",
    "    TaskDescription(\n",
    "        task=AddressAgent, task_id=0, task_name=\"地址解析机器人\",\n",
    "        task_description=\"\"\"可以帮助你解析文本中的地址信息，并返回标准地址字段信息。\"\"\",\n",
    "        task_parameters=TaskParameters(\n",
    "            llm=Zhipu(generate_config=GLM4GenerateConfig()),\n",
    "            verbose=True,\n",
    "        )\n",
    "    ),\n",
    "    TaskDescription(\n",
    "        task=WeatherAgent, task_id=1, task_name=\"天气播报机器人\",\n",
    "        task_description=\"\"\"提供具体的地址信息后可以帮助你查询当地的天气情况，必须提供标准地址。\"\"\",\n",
    "        task_parameters=TaskParameters(\n",
    "            llm=Zhipu(generate_config=GLM4GenerateConfig()),\n",
    "            verbose=True,\n",
    "        )\n",
    "    ),\n",
    "]"
   ]
  },
  {
   "cell_type": "code",
   "execution_count": 13,
   "metadata": {},
   "outputs": [
    {
     "name": "stdout",
     "output_type": "stream",
     "text": [
      "你好👋！我是人工智能助手智谱清言（ChatGLM），很高兴见到你，欢迎问我任何问题。\n"
     ]
    }
   ],
   "source": [
    "from zlai.llms import Zhipu, GLM3TurboGenerateConfig, GLM4GenerateConfig\n",
    "\n",
    "# 创建模型推理配置\n",
    "generate_config = GLM3TurboGenerateConfig(\n",
    "    max_tokens=1500,               # 用于指定模型在生成内容时token的最大数量\n",
    "    top_p=0.8,                     # 生成过程中核采样方法概率阈值\n",
    "    temperature=0.85,              # 用于控制随机性和多样性的程度\n",
    ")\n",
    "\n",
    "# 创建大模型\n",
    "llm = Zhipu(generate_config=generate_config)\n",
    "\n",
    "# 如果您只需要使用默认的参数配置，可以直接使用以下方式创建模型\n",
    "# llm = Zhipu(generate_config=ZhipuGLM3Turbo())\n",
    "# llm = Zhipu(generate_config=ZhipuGLM4())\n",
    "# query 为你需要问大模型的问题\n",
    "completion = llm.generate(query=\"你好\")\n",
    "\n",
    "print(completion.choices[0].message.content)"
   ]
  },
  {
   "cell_type": "code",
   "execution_count": 14,
   "metadata": {},
   "outputs": [],
   "source": [
    "from zlai.llms import Zhipu\n",
    "from zlai.llms import (\n",
    "    GLM3TurboGenerateConfig, GLM4GenerateConfig\n",
    ")"
   ]
  },
  {
   "cell_type": "code",
   "execution_count": 15,
   "metadata": {},
   "outputs": [
    {
     "ename": "ValueError",
     "evalue": "api_key not found, please set api key",
     "output_type": "error",
     "traceback": [
      "\u001b[1;31m---------------------------------------------------------------------------\u001b[0m",
      "\u001b[1;31mValueError\u001b[0m                                Traceback (most recent call last)",
      "Cell \u001b[1;32mIn[15], line 19\u001b[0m\n\u001b[0;32m      8\u001b[0m embedding \u001b[38;5;241m=\u001b[39m Embedding(\n\u001b[0;32m      9\u001b[0m     \u001b[38;5;66;03m# emb_url=EMBUrl.bge_m3,\u001b[39;00m\n\u001b[0;32m     10\u001b[0m     emb_url\u001b[38;5;241m=\u001b[39m\u001b[38;5;124m'\u001b[39m\u001b[38;5;124mhost:port/embedding/bge_m3\u001b[39m\u001b[38;5;124m'\u001b[39m,\n\u001b[1;32m   (...)\u001b[0m\n\u001b[0;32m     13\u001b[0m     batch_size\u001b[38;5;241m=\u001b[39m\u001b[38;5;241m2\u001b[39m,\n\u001b[0;32m     14\u001b[0m )\n\u001b[0;32m     15\u001b[0m llm \u001b[38;5;241m=\u001b[39m Zhipu(\n\u001b[0;32m     16\u001b[0m     generate_config\u001b[38;5;241m=\u001b[39mGLM4AirGenerateConfig(),\n\u001b[0;32m     17\u001b[0m )\n\u001b[1;32m---> 19\u001b[0m bing \u001b[38;5;241m=\u001b[39m \u001b[43mBingSearch\u001b[49m\u001b[43m(\u001b[49m\n\u001b[0;32m     20\u001b[0m \u001b[43m    \u001b[49m\u001b[43mllm\u001b[49m\u001b[38;5;241;43m=\u001b[39;49m\u001b[43mllm\u001b[49m\u001b[43m,\u001b[49m\n\u001b[0;32m     21\u001b[0m \u001b[43m    \u001b[49m\u001b[43membedding\u001b[49m\u001b[38;5;241;43m=\u001b[39;49m\u001b[43membedding\u001b[49m\u001b[43m,\u001b[49m\n\u001b[0;32m     22\u001b[0m \u001b[43m    \u001b[49m\u001b[43mn_pages\u001b[49m\u001b[38;5;241;43m=\u001b[39;49m\u001b[38;5;241;43m10\u001b[39;49m\u001b[43m,\u001b[49m\n\u001b[0;32m     23\u001b[0m \u001b[43m    \u001b[49m\u001b[43mchunk_size\u001b[49m\u001b[38;5;241;43m=\u001b[39;49m\u001b[38;5;241;43m1000\u001b[39;49m\u001b[43m,\u001b[49m\n\u001b[0;32m     24\u001b[0m \u001b[43m    \u001b[49m\u001b[43mchunk_overlap\u001b[49m\u001b[38;5;241;43m=\u001b[39;49m\u001b[38;5;241;43m300\u001b[39;49m\u001b[43m,\u001b[49m\n\u001b[0;32m     25\u001b[0m \u001b[43m    \u001b[49m\u001b[43mverbose\u001b[49m\u001b[38;5;241;43m=\u001b[39;49m\u001b[38;5;28;43;01mTrue\u001b[39;49;00m\u001b[43m,\u001b[49m\n\u001b[0;32m     26\u001b[0m \u001b[43m    \u001b[49m\u001b[43mn_chunk\u001b[49m\u001b[38;5;241;43m=\u001b[39;49m\u001b[38;5;241;43m3\u001b[39;49m\u001b[43m,\u001b[49m\n\u001b[0;32m     27\u001b[0m \u001b[43m)\u001b[49m\n\u001b[0;32m     28\u001b[0m \u001b[38;5;66;03m# query = \"杭州今天的天气如何？\"\u001b[39;00m\n\u001b[0;32m     29\u001b[0m \u001b[38;5;66;03m# query = \"俄罗斯今天的新闻有哪些？\"\u001b[39;00m\n\u001b[0;32m     30\u001b[0m \u001b[38;5;66;03m# query = \"五五计划是哪一年开始的？\"\u001b[39;00m\n\u001b[0;32m     31\u001b[0m query \u001b[38;5;241m=\u001b[39m \u001b[38;5;124m\"\u001b[39m\u001b[38;5;124m各省市数据资产入表案例\u001b[39m\u001b[38;5;124m\"\u001b[39m\n",
      "File \u001b[1;32mc:\\Users\\admin\\anaconda3\\lib\\site-packages\\zlai\\agent\\web\\bing.py:91\u001b[0m, in \u001b[0;36mBingSearch.__init__\u001b[1;34m(self, agent_name, llm, embedding, stream, system_message, prompt_template, n_pages, chunk_size, chunk_overlap, separator, keep_separator, n_chunk, api_key, api_key_name, logger, verbose)\u001b[0m\n\u001b[0;32m     88\u001b[0m \u001b[38;5;28mself\u001b[39m\u001b[38;5;241m.\u001b[39mverbose \u001b[38;5;241m=\u001b[39m verbose\n\u001b[0;32m     90\u001b[0m \u001b[38;5;28;01mif\u001b[39;00m \u001b[38;5;28mself\u001b[39m\u001b[38;5;241m.\u001b[39mapi_key \u001b[38;5;129;01mis\u001b[39;00m \u001b[38;5;28;01mNone\u001b[39;00m \u001b[38;5;129;01mand\u001b[39;00m os\u001b[38;5;241m.\u001b[39mgetenv(\u001b[38;5;28mself\u001b[39m\u001b[38;5;241m.\u001b[39mapi_key_name) \u001b[38;5;129;01mis\u001b[39;00m \u001b[38;5;28;01mNone\u001b[39;00m:\n\u001b[1;32m---> 91\u001b[0m     \u001b[38;5;28;01mraise\u001b[39;00m \u001b[38;5;167;01mValueError\u001b[39;00m(\u001b[38;5;124mf\u001b[39m\u001b[38;5;124m\"\u001b[39m\u001b[38;5;124mapi_key not found, please set api key\u001b[39m\u001b[38;5;124m\"\u001b[39m)\n\u001b[0;32m     92\u001b[0m \u001b[38;5;28;01melif\u001b[39;00m os\u001b[38;5;241m.\u001b[39mgetenv(\u001b[38;5;28mself\u001b[39m\u001b[38;5;241m.\u001b[39mapi_key_name):\n\u001b[0;32m     93\u001b[0m     \u001b[38;5;28mself\u001b[39m\u001b[38;5;241m.\u001b[39mapi_key \u001b[38;5;241m=\u001b[39m os\u001b[38;5;241m.\u001b[39mgetenv(\u001b[38;5;28mself\u001b[39m\u001b[38;5;241m.\u001b[39mapi_key_name)\n",
      "\u001b[1;31mValueError\u001b[0m: api_key not found, please set api key"
     ]
    }
   ],
   "source": [
    "from zlai.agent.web.bing import BingSearch\n",
    "from zlai.embedding import Embedding\n",
    "from zlai.schema.url import EMBUrl\n",
    "from zlai.llms import *\n",
    "from zlai.llms import Zhipu, GLM4AirGenerateConfig\n",
    "\n",
    "\n",
    "embedding = Embedding(\n",
    "    # emb_url=EMBUrl.bge_m3,\n",
    "    emb_url='host:port/embedding/bge_m3',\n",
    "    max_len=5000,\n",
    "    max_len_error='split',\n",
    "    batch_size=2,\n",
    ")\n",
    "llm = Zhipu(\n",
    "    generate_config=GLM4AirGenerateConfig(),\n",
    ")\n",
    "\n",
    "bing = BingSearch(\n",
    "    llm=llm,\n",
    "    embedding=embedding,\n",
    "    n_pages=10,\n",
    "    chunk_size=1000,\n",
    "    chunk_overlap=300,\n",
    "    verbose=True,\n",
    "    n_chunk=3,\n",
    ")\n",
    "# query = \"杭州今天的天气如何？\"\n",
    "# query = \"俄罗斯今天的新闻有哪些？\"\n",
    "# query = \"五五计划是哪一年开始的？\"\n",
    "query = \"各省市数据资产入表案例\"\n",
    "answer = bing(query=query)\n",
    "print(answer.choices[0].message.content)\n"
   ]
  },
  {
   "cell_type": "code",
   "execution_count": 16,
   "metadata": {},
   "outputs": [
    {
     "name": "stdout",
     "output_type": "stream",
     "text": [
      "Name: zlai\n",
      "Version: 0.3.114\n",
      "Summary: A LLM Agent Python package.\n",
      "Home-page: https://zlai-llm.github.io/zlai-doc/#/\n",
      "Author: chensy cao\n",
      "Author-email: chensy.cao@foxmail.com\n",
      "License: MIT\n",
      "Location: c:\\users\\admin\\anaconda3\\lib\\site-packages\n",
      "Requires: cachetools, chardet, colorama, numpy, pandas, pydantic, requests, termcolor, tqdm\n",
      "Required-by: \n"
     ]
    }
   ],
   "source": [
    "!pip  show  zlai"
   ]
  }
 ],
 "metadata": {
  "kernelspec": {
   "display_name": "base",
   "language": "python",
   "name": "python3"
  },
  "language_info": {
   "codemirror_mode": {
    "name": "ipython",
    "version": 3
   },
   "file_extension": ".py",
   "mimetype": "text/x-python",
   "name": "python",
   "nbconvert_exporter": "python",
   "pygments_lexer": "ipython3",
   "version": "3.10.9"
  }
 },
 "nbformat": 4,
 "nbformat_minor": 2
}
