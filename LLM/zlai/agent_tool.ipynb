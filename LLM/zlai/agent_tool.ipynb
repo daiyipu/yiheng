{
 "cells": [
  {
   "cell_type": "code",
   "execution_count": 4,
   "metadata": {},
   "outputs": [],
   "source": [
    "import pandas as pd\n",
    "from zlai.llms import *\n",
    "from zlai.embedding import *\n",
    "from zlai.agent import CSV, CSVQA, Tasks, task_list\n",
    "from IPython.display import display, Markdown\n"
   ]
  },
  {
   "cell_type": "code",
   "execution_count": 9,
   "metadata": {},
   "outputs": [
    {
     "data": {
      "text/html": [
       "<div>\n",
       "<style scoped>\n",
       "    .dataframe tbody tr th:only-of-type {\n",
       "        vertical-align: middle;\n",
       "    }\n",
       "\n",
       "    .dataframe tbody tr th {\n",
       "        vertical-align: top;\n",
       "    }\n",
       "\n",
       "    .dataframe thead th {\n",
       "        text-align: right;\n",
       "    }\n",
       "</style>\n",
       "<table border=\"1\" class=\"dataframe\">\n",
       "  <thead>\n",
       "    <tr style=\"text-align: right;\">\n",
       "      <th></th>\n",
       "      <th>产业链</th>\n",
       "      <th>上下游</th>\n",
       "      <th>一级节点</th>\n",
       "      <th>二级节点</th>\n",
       "      <th>三级节点</th>\n",
       "      <th>四级节点</th>\n",
       "    </tr>\n",
       "  </thead>\n",
       "  <tbody>\n",
       "    <tr>\n",
       "      <th>0</th>\n",
       "      <td>新能源锂电池产业链</td>\n",
       "      <td>下游</td>\n",
       "      <td>电动汽车</td>\n",
       "      <td>别名</td>\n",
       "      <td>新能源汽车</td>\n",
       "      <td>NaN</td>\n",
       "    </tr>\n",
       "    <tr>\n",
       "      <th>1</th>\n",
       "      <td>新能源锂电池产业链</td>\n",
       "      <td>下游</td>\n",
       "      <td>电动汽车</td>\n",
       "      <td>举例知名企业</td>\n",
       "      <td>宁德时代</td>\n",
       "      <td>NaN</td>\n",
       "    </tr>\n",
       "    <tr>\n",
       "      <th>2</th>\n",
       "      <td>新能源锂电池产业链</td>\n",
       "      <td>下游</td>\n",
       "      <td>电动汽车</td>\n",
       "      <td>举例知名企业</td>\n",
       "      <td>比亚迪</td>\n",
       "      <td>NaN</td>\n",
       "    </tr>\n",
       "    <tr>\n",
       "      <th>3</th>\n",
       "      <td>新能源锂电池产业链</td>\n",
       "      <td>下游</td>\n",
       "      <td>储能系统</td>\n",
       "      <td>风能储能</td>\n",
       "      <td>NaN</td>\n",
       "      <td>NaN</td>\n",
       "    </tr>\n",
       "    <tr>\n",
       "      <th>4</th>\n",
       "      <td>新能源锂电池产业链</td>\n",
       "      <td>下游</td>\n",
       "      <td>储能系统</td>\n",
       "      <td>光伏储能</td>\n",
       "      <td>NaN</td>\n",
       "      <td>NaN</td>\n",
       "    </tr>\n",
       "  </tbody>\n",
       "</table>\n",
       "</div>"
      ],
      "text/plain": [
       "         产业链 上下游  一级节点    二级节点   三级节点 四级节点\n",
       "0  新能源锂电池产业链  下游  电动汽车      别名  新能源汽车  NaN\n",
       "1  新能源锂电池产业链  下游  电动汽车  举例知名企业   宁德时代  NaN\n",
       "2  新能源锂电池产业链  下游  电动汽车  举例知名企业    比亚迪  NaN\n",
       "3  新能源锂电池产业链  下游  储能系统    风能储能    NaN  NaN\n",
       "4  新能源锂电池产业链  下游  储能系统    光伏储能    NaN  NaN"
      ]
     },
     "execution_count": 9,
     "metadata": {},
     "output_type": "execute_result"
    }
   ],
   "source": [
    "csv_path='./ldc_chain.csv'\n",
    "df = pd.read_csv('./ldc_chain.csv')\n",
    "df.head()"
   ]
  },
  {
   "cell_type": "code",
   "execution_count": 11,
   "metadata": {},
   "outputs": [],
   "source": [
    "from zlai.llms import Zhipu, GLM4GenerateConfig"
   ]
  },
  {
   "cell_type": "code",
   "execution_count": 12,
   "metadata": {},
   "outputs": [
    {
     "name": "stdout",
     "output_type": "stream",
     "text": [
      "\u001b[32m[CSVAgent-QA] Start ...\n",
      "\u001b[0m\n",
      "\u001b[32m[CSVAgent-QA] Question: 请使用中文介绍这个表格\n",
      "\u001b[0m\n",
      "\u001b[31m==================== [CSVAgent-QA] Messages Start ====================\n",
      "\u001b[0m\n",
      "\u001b[34muser [11]: [请使用中文介绍这个表格]\n",
      "\u001b[0m\n",
      "\u001b[31m==================== [CSVAgent-QA] Messages End    ====================\n",
      "\u001b[0m\n",
      "\u001b[33m[CSVAgent-QA] Final Answer: 这个表格展示了新能源锂电池产业链的部分信息，主要包括产业链的位置、上下游分类、以及不同级别的节点内容。以下是表格各列的含义：\n",
      "\n",
      "- **产业链**：指新能源锂电池产业链的整体情况。\n",
      "- **上下游**：指该节点在产业链中的位置，分为上游、中游和下游。\n",
      "- **一级节点**：产业链中的主要分类，如电动汽车、储能系统等。\n",
      "- **二级节点**：对一级节点的进一步细分，例如别名、举例知名企业等。\n",
      "- **三级节点**：对二级节点的具体描述或补充。\n",
      "- **四级节点**：对三级节点的进一步细分，但在这个表格的数据中，此列大部分为“nan”，表示没有具体的数据。\n",
      "\n",
      "根据表格的前五行内容，可以了解到以下信息：\n",
      "\n",
      "- 产业链为新能源锂电池产业链。\n",
      "- 所展示的节点均位于下游部分。\n",
      "- 包含两个一级节点：电动汽车和储能系统。\n",
      "- 电动汽车的二级节点包括别名和举例知名企业，其中别名对应的三级节点是“新能源汽车”，而举例知名企业包括宁德时代和比亚迪。\n",
      "- 储能系统的二级节点包括风能储能和光伏储能，但这两个节点下没有进一步的三级和四级节点信息。\n",
      "\n",
      "这个表格可能是用于分析和展示新能源锂电池产业链下游部分的重要信息和相关企业。\u001b[0m\n"
     ]
    },
    {
     "ename": "TypeError",
     "evalue": "Markdown expects text, not TaskCompletion(query='请使用中文介绍这个表格', task_id=None, task_name=None, content='这个表格展示了新能源锂电池产业链的部分信息，主要包括产业链的位置、上下游分类、以及不同级别的节点内容。以下是表格各列的含义：\\n\\n- **产业链**：指新能源锂电池产业链的整体情况。\\n- **上下游**：指该节点在产业链中的位置，分为上游、中游和下游。\\n- **一级节点**：产业链中的主要分类，如电动汽车、储能系统等。\\n- **二级节点**：对一级节点的进一步细分，例如别名、举例知名企业等。\\n- **三级节点**：对二级节点的具体描述或补充。\\n- **四级节点**：对三级节点的进一步细分，但在这个表格的数据中，此列大部分为“nan”，表示没有具体的数据。\\n\\n根据表格的前五行内容，可以了解到以下信息：\\n\\n- 产业链为新能源锂电池产业链。\\n- 所展示的节点均位于下游部分。\\n- 包含两个一级节点：电动汽车和储能系统。\\n- 电动汽车的二级节点包括别名和举例知名企业，其中别名对应的三级节点是“新能源汽车”，而举例知名企业包括宁德时代和比亚迪。\\n- 储能系统的二级节点包括风能储能和光伏储能，但这两个节点下没有进一步的三级和四级节点信息。\\n\\n这个表格可能是用于分析和展示新能源锂电池产业链下游部分的重要信息和相关企业。', stream=None, delta=None, script=None, parsed_data=None, observation=None, data=None, query_id=None, origin_query=None, total_question=None, next_question=None, previous_question=None, memory_messages=[], task_description=None)",
     "output_type": "error",
     "traceback": [
      "\u001b[1;31m---------------------------------------------------------------------------\u001b[0m",
      "\u001b[1;31mTypeError\u001b[0m                                 Traceback (most recent call last)",
      "Cell \u001b[1;32mIn[12], line 6\u001b[0m\n\u001b[0;32m      3\u001b[0m query \u001b[38;5;241m=\u001b[39m \u001b[38;5;124m\"\u001b[39m\u001b[38;5;124m请使用中文介绍这个表格\u001b[39m\u001b[38;5;124m\"\u001b[39m\n\u001b[0;32m      4\u001b[0m answer \u001b[38;5;241m=\u001b[39m csv\u001b[38;5;241m.\u001b[39mgenerate(query\u001b[38;5;241m=\u001b[39mquery)\n\u001b[1;32m----> 6\u001b[0m display(\u001b[43mMarkdown\u001b[49m\u001b[43m(\u001b[49m\u001b[43manswer\u001b[49m\u001b[43m)\u001b[49m)\n",
      "File \u001b[1;32mc:\\Users\\admin\\anaconda3\\lib\\site-packages\\IPython\\core\\display.py:328\u001b[0m, in \u001b[0;36mDisplayObject.__init__\u001b[1;34m(self, data, url, filename, metadata)\u001b[0m\n\u001b[0;32m    325\u001b[0m     \u001b[38;5;28mself\u001b[39m\u001b[38;5;241m.\u001b[39mmetadata \u001b[38;5;241m=\u001b[39m {}\n\u001b[0;32m    327\u001b[0m \u001b[38;5;28mself\u001b[39m\u001b[38;5;241m.\u001b[39mreload()\n\u001b[1;32m--> 328\u001b[0m \u001b[38;5;28;43mself\u001b[39;49m\u001b[38;5;241;43m.\u001b[39;49m\u001b[43m_check_data\u001b[49m\u001b[43m(\u001b[49m\u001b[43m)\u001b[49m\n",
      "File \u001b[1;32mc:\\Users\\admin\\anaconda3\\lib\\site-packages\\IPython\\core\\display.py:407\u001b[0m, in \u001b[0;36mTextDisplayObject._check_data\u001b[1;34m(self)\u001b[0m\n\u001b[0;32m    405\u001b[0m \u001b[38;5;28;01mdef\u001b[39;00m \u001b[38;5;21m_check_data\u001b[39m(\u001b[38;5;28mself\u001b[39m):\n\u001b[0;32m    406\u001b[0m     \u001b[38;5;28;01mif\u001b[39;00m \u001b[38;5;28mself\u001b[39m\u001b[38;5;241m.\u001b[39mdata \u001b[38;5;129;01mis\u001b[39;00m \u001b[38;5;129;01mnot\u001b[39;00m \u001b[38;5;28;01mNone\u001b[39;00m \u001b[38;5;129;01mand\u001b[39;00m \u001b[38;5;129;01mnot\u001b[39;00m \u001b[38;5;28misinstance\u001b[39m(\u001b[38;5;28mself\u001b[39m\u001b[38;5;241m.\u001b[39mdata, \u001b[38;5;28mstr\u001b[39m):\n\u001b[1;32m--> 407\u001b[0m         \u001b[38;5;28;01mraise\u001b[39;00m \u001b[38;5;167;01mTypeError\u001b[39;00m(\u001b[38;5;124m\"\u001b[39m\u001b[38;5;132;01m%s\u001b[39;00m\u001b[38;5;124m expects text, not \u001b[39m\u001b[38;5;132;01m%r\u001b[39;00m\u001b[38;5;124m\"\u001b[39m \u001b[38;5;241m%\u001b[39m (\u001b[38;5;28mself\u001b[39m\u001b[38;5;241m.\u001b[39m\u001b[38;5;18m__class__\u001b[39m\u001b[38;5;241m.\u001b[39m\u001b[38;5;18m__name__\u001b[39m, \u001b[38;5;28mself\u001b[39m\u001b[38;5;241m.\u001b[39mdata))\n",
      "\u001b[1;31mTypeError\u001b[0m: Markdown expects text, not TaskCompletion(query='请使用中文介绍这个表格', task_id=None, task_name=None, content='这个表格展示了新能源锂电池产业链的部分信息，主要包括产业链的位置、上下游分类、以及不同级别的节点内容。以下是表格各列的含义：\\n\\n- **产业链**：指新能源锂电池产业链的整体情况。\\n- **上下游**：指该节点在产业链中的位置，分为上游、中游和下游。\\n- **一级节点**：产业链中的主要分类，如电动汽车、储能系统等。\\n- **二级节点**：对一级节点的进一步细分，例如别名、举例知名企业等。\\n- **三级节点**：对二级节点的具体描述或补充。\\n- **四级节点**：对三级节点的进一步细分，但在这个表格的数据中，此列大部分为“nan”，表示没有具体的数据。\\n\\n根据表格的前五行内容，可以了解到以下信息：\\n\\n- 产业链为新能源锂电池产业链。\\n- 所展示的节点均位于下游部分。\\n- 包含两个一级节点：电动汽车和储能系统。\\n- 电动汽车的二级节点包括别名和举例知名企业，其中别名对应的三级节点是“新能源汽车”，而举例知名企业包括宁德时代和比亚迪。\\n- 储能系统的二级节点包括风能储能和光伏储能，但这两个节点下没有进一步的三级和四级节点信息。\\n\\n这个表格可能是用于分析和展示新能源锂电池产业链下游部分的重要信息和相关企业。', stream=None, delta=None, script=None, parsed_data=None, observation=None, data=None, query_id=None, origin_query=None, total_question=None, next_question=None, previous_question=None, memory_messages=[], task_description=None)"
     ]
    }
   ],
   "source": [
    "llm = Zhipu(generate_config=GLM4GenerateConfig(temperature=0.01))\n",
    "csv = CSVQA(csv_path=csv_path, llm=llm, verbose=True)\n",
    "query = \"请使用中文介绍这个表格\"\n",
    "answer = csv.generate(query=query)\n",
    "\n",
    "display(Markdown(answer))"
   ]
  }
 ],
 "metadata": {
  "kernelspec": {
   "display_name": "base",
   "language": "python",
   "name": "python3"
  },
  "language_info": {
   "codemirror_mode": {
    "name": "ipython",
    "version": 3
   },
   "file_extension": ".py",
   "mimetype": "text/x-python",
   "name": "python",
   "nbconvert_exporter": "python",
   "pygments_lexer": "ipython3",
   "version": "3.10.9"
  }
 },
 "nbformat": 4,
 "nbformat_minor": 2
}
