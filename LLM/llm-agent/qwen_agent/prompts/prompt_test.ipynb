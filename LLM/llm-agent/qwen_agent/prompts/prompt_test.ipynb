{
 "cells": [
  {
   "cell_type": "code",
   "execution_count": null,
   "metadata": {},
   "outputs": [],
   "source": []
  },
  {
   "cell_type": "code",
   "execution_count": null,
   "metadata": {},
   "outputs": [],
   "source": [
    "PROMPT_TEMPLATE_ZH = \"\"\"\n",
    "请充分理解以下参考资料内容，组织出满足用户提问的条理清晰的回复。\n",
    "#参考资料：\n",
    "{ref_doc}\n",
    "\n",
    "\"\"\"\n",
    "PROMPT_TEMPLATE_EN = \"\"\"\n",
    "Please fully understand the content of the following reference materials and organize a clear response that meets the user's questions.\n",
    "# Reference materials:\n",
    "{ref_doc}\n",
    "\n",
    "\"\"\""
   ]
  },
  {
   "cell_type": "code",
   "execution_count": null,
   "metadata": {},
   "outputs": [],
   "source": [
    "PROMPT_TEMPLATE = {\n",
    "    'zh': PROMPT_TEMPLATE_ZH,\n",
    "    'en': PROMPT_TEMPLATE_EN,\n",
    "}"
   ]
  },
  {
   "cell_type": "code",
   "execution_count": null,
   "metadata": {},
   "outputs": [],
   "source": [
    "PROMPT_TEMPLATE[lang].format(ref_doc=knowledge)"
   ]
  }
 ],
 "metadata": {
  "kernelspec": {
   "display_name": "Python 3",
   "language": "python",
   "name": "python3"
  },
  "language_info": {
   "codemirror_mode": {
    "name": "ipython",
    "version": 3
   },
   "file_extension": ".py",
   "mimetype": "text/x-python",
   "name": "python",
   "nbconvert_exporter": "python",
   "pygments_lexer": "ipython3",
   "version": "3.10.9"
  }
 },
 "nbformat": 4,
 "nbformat_minor": 2
}
